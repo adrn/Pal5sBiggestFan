{
 "cells": [
  {
   "cell_type": "code",
   "execution_count": 1,
   "metadata": {},
   "outputs": [],
   "source": [
    "from os import path\n",
    "import sys\n",
    "\n",
    "# Third-party\n",
    "import astropy.coordinates as coord\n",
    "from astropy.table import Table, vstack\n",
    "from astropy.io import fits, ascii\n",
    "import astropy.units as u\n",
    "import matplotlib as mpl\n",
    "import matplotlib.pyplot as plt\n",
    "import numpy as np\n",
    "%matplotlib inline\n",
    "from scipy.optimize import minimize\n",
    "\n",
    "\n",
    "\n",
    "# Third-party                                                                                                                             \n",
    "import astropy.coordinates as coord\n",
    "from astropy.coordinates.matrix_utilities import rotation_matrix\n",
    "from astropy.table import Table\n",
    "from astropy.io import fits\n",
    "import astropy.units as u\n",
    "from scipy.special import logsumexp\n",
    "from scipy.stats import truncnorm\n",
    "import emcee\n",
    "\n",
    "\n",
    "from pyia import GaiaData\n",
    "#import schwimmbad\n",
    "\n",
    "import gala.coordinates as gc\n",
    "import gala.dynamics as gd\n",
    "from gala.dynamics import mockstream\n",
    "import gala.integrate as gi\n",
    "import gala.potential as gp\n",
    "from gala.units import galactic\n",
    "from gala.mpl_style import center_emph\n",
    "\n",
    "from potential import default_mw\n",
    "from coordinates import (pal5_c, galcen_frame,\n",
    "                         pal5_lead_frame, pal5_trail_frame)\n",
    "\n",
    "from potential import get_bar_model\n",
    "from coordinates import pal5_M\n",
    "\n",
    "from gala.dynamics.mockstream.df import StreaklineStreamDF, FardalStreamDF, LagrangeCloudStreamDF\n",
    "from gala.dynamics.mockstream import MockStreamGenerator"
   ]
  },
  {
   "cell_type": "markdown",
   "metadata": {},
   "source": [
    "## Function that runs barred streakline models"
   ]
  },
  {
   "cell_type": "code",
   "execution_count": 2,
   "metadata": {},
   "outputs": [],
   "source": [
    "def morphology(omega, RL, m_b):\n",
    "    \"\"\"Takes the unitless pattern speed (in km/s/kpc, and RL, which is the \n",
    "    amount of particles released per time step and the bar mass. Creates mock streams,\n",
    "    outputs RA, dec to be used for track calculation\"\"\"\n",
    "    static_frame = gp.StaticFrame(units=galactic)\n",
    "    galcen_frame = coord.Galactocentric(galcen_distance=8.1*u.kpc)\n",
    "    S = np.load('../data/Sn9l19m.npy') #expansion coeff.\n",
    "    S = S[:6, :8, :8]\n",
    "    n_steps=6000\n",
    "    \n",
    "    from coordinates import pal5_c\n",
    "    pal5_icrs = pal5_c\n",
    "    pal5_c = pal5_icrs.transform_to(gc.Pal5PriceWhelan18)\n",
    "    w0 = gd.PhaseSpacePosition(pal5_c.transform_to(galcen_frame).cartesian)\n",
    "    \n",
    "    mw = default_mw\n",
    "    pot = gp.CCompositePotential()\n",
    "    pot['disk'] = mw['disk']\n",
    "    pot['halo'] = mw['halo']\n",
    "    RA = []\n",
    "    dec = []\n",
    "    for om in omega*u.km/u.s/u.kpc:\n",
    "        pot['bar'] = get_bar_model(Omega=om, Snlm=S, m = m_b)\n",
    "        frame = gp.ConstantRotatingFrame(Omega=[0,0,-1] * om, units=galactic)\n",
    "        H = gp.Hamiltonian(pot, frame) #frame such that we're \"moving\" with respect to bar\n",
    "        #potentials.append(H)\n",
    "        df = FardalStreamDF()\n",
    "        prog_pot = gp.PlummerPotential(pal5_M, 4*u.pc, units=galactic)\n",
    "        gen = MockStreamGenerator(df=df, hamiltonian=pot,\n",
    "                            progenitor_potential=prog_pot)\n",
    "        stream_data, _ = gen.run(w0, pal5_M, dt=-0.5, n_steps=n_steps, release_every=RL)\n",
    "\n",
    "        sim_c = stream_data.to_coord_frame(coord.ICRS, galactocentric_frame=galcen_frame)\n",
    "        RA.append(sim_c.ra)\n",
    "        dec.append(sim_c.dec)\n",
    "\n",
    "    return RA, dec\n",
    "    \n",
    "    \n",
    "    \n",
    "    "
   ]
  },
  {
   "cell_type": "markdown",
   "metadata": {},
   "source": [
    "## Functions for width and track calculations "
   ]
  },
  {
   "cell_type": "code",
   "execution_count": 3,
   "metadata": {},
   "outputs": [],
   "source": [
    "\n",
    "#Comapre with and wiggle of sims and data.                                                                                              \n",
    "##Read in simulation RA DEC                                                                                                             \n",
    "# Plot width and wiggle for all.                                                                                                        \n",
    "\n",
    "#### Added by SP to load sims ####                                                                                                      \n",
    "def lnnormal(x, mu, std):\n",
    "    return -0.5 * (x-mu)**2 / std**2 - 0.5*np.log(2*np.pi) - np.log(std)\n",
    "\n",
    "def ln_truncnorm(x, mu, sigma, clip_a, clip_b):\n",
    "    a, b = (clip_a - mu) / sigma, (clip_b - mu) / sigma\n",
    "    return truncnorm.logpdf(x, a, b, loc=mu, scale=sigma)\n",
    "\n",
    "# 1 gaussian:                                                                                                                           \n",
    "param_names = ['mu_s', 'lnstd_s']\n",
    "\n",
    "def lnprior(p):\n",
    "    mu_s, lnstd_s = p\n",
    "\n",
    "    lp = 0\n",
    "\n",
    "    lp += ln_truncnorm(mu_s, 0, 1, -1, 1)\n",
    "    lp += ln_truncnorm(lnstd_s, -0.5, 1, -2.5, 1.5)\n",
    "\n",
    "    return lp\n",
    "\n",
    "def lnlike(p, phi2):\n",
    "    mu_s, lnstd_s = p\n",
    "    return lnnormal(phi2, mu_s, np.exp(lnstd_s))\n",
    "\n",
    "def lnprob(p, phi2):\n",
    "    lp = lnprior(p)\n",
    "    if not np.all(np.isfinite(lp)):\n",
    "        return -np.inf\n",
    "\n",
    "    ll = lnlike(p, phi2).sum()\n",
    "    if not np.all(np.isfinite(ll)):\n",
    "        return -np.inf\n",
    "\n",
    "    return ll + lp"
   ]
  },
  {
   "cell_type": "markdown",
   "metadata": {},
   "source": [
    "## Function than calculates 1d track and width"
   ]
  },
  {
   "cell_type": "code",
   "execution_count": 9,
   "metadata": {},
   "outputs": [],
   "source": [
    "def width_track(omega, RL, m_b):\n",
    "    \"\"\"Function takes in an array of unitless pattern speeds, an integer of released \n",
    "    particles and unitless a bar_mass, then calls stream generating function, and\n",
    "    calculates the stream width and track from the simulated streams.\n",
    "    The function returns width, track and morhpology of streams in separate plots. \"\"\"\n",
    "    \n",
    "    lead_tbl = Table.read('../data/pal5_lead_samples.fits')\n",
    "    bin_mask_le = np.median(lead_tbl['a'] * lead_tbl['N'][:, None], axis=1) > 50.\n",
    "\n",
    "    trail_tbl = Table.read('../data/pal5_trail_samples.fits')\n",
    "    bin_mask_tr = np.median(trail_tbl['a'] * trail_tbl['N'][:, None], axis=1) > 50.\n",
    "\n",
    "    RA, dec = morphology(omega, RL, m_b)\n",
    "        \n",
    "    for j in range(len(omega)):\n",
    "       \n",
    "        c = coord.SkyCoord(ra=RA[j], dec=dec[j])\n",
    "        c_l = c.transform_to(pal5_lead_frame)\n",
    "        c_t = c.transform_to(pal5_trail_frame)\n",
    "\n",
    "        Xl = np.stack((c_l.phi1.wrap_at(180*u.deg).degree,c_l.phi2.degree)).T\n",
    "        Xt = np.stack((c_t.phi1.wrap_at(180*u.deg).degree,c_t.phi2.degree)).T\n",
    "\n",
    "\n",
    "        phi1_bins = np.arange(0, 18+1e-3, 0.75)\n",
    "        phi2_bins = np.arange(-2, 2+1e-3, 0.1)\n",
    "\n",
    "        nwalkers = 64\n",
    "        nburn = 128\n",
    "        nsteps = 256\n",
    "\n",
    "        phi2_min = -2.\n",
    "        phi2_max = 2.\n",
    "\n",
    "        data = dict()\n",
    "        for name, X, _phi1_bins in zip(['lead', 'trail'], \n",
    "                                       [Xl, Xt], \n",
    "                                       [phi1_bins[:14], phi1_bins[:23]]):\n",
    "            phi2_mask = (X[:, 1] > phi2_min) & (X[:, 1] < phi2_max)\n",
    "\n",
    "            all_samplers = []\n",
    "            Ns = []\n",
    "            for i, l, r in zip(range(len(phi1_bins)-1), \n",
    "                               _phi1_bins[:-1], \n",
    "                               _phi1_bins[1:]):\n",
    "\n",
    "                phi1_mask = (X[:, 0] > l) & (X[:, 0] <= r)\n",
    "                binX = X[phi1_mask & phi2_mask]\n",
    "                Ns.append((phi1_mask & phi2_mask).sum())\n",
    "\n",
    "                H, _ = np.histogram(binX[:, 1], bins=phi2_bins)\n",
    "                phi2_bin_c = 0.5*(phi2_bins[:-1]+phi2_bins[1:])\n",
    "                mu = phi2_bin_c[H.argmax()]\n",
    "                if np.abs(mu) > 1.:\n",
    "                    mu = 0.\n",
    "\n",
    "            # for 1-component gaussian\n",
    "                p0 = (mu, np.log(0.1))\n",
    "\n",
    "                p0s = emcee.utils.sample_ball(p0, [1e-3]*len(p0), nwalkers)\n",
    "\n",
    "                sampler = emcee.EnsembleSampler(nwalkers, len(p0), \n",
    "                                                log_prob_fn=lnprob, \n",
    "                                                args=(binX[:, 1], ))\n",
    "\n",
    "                pos,*_ = sampler.run_mcmc(p0s, nburn, progress=True)\n",
    "                pos = emcee.utils.sample_ball(np.median(pos, axis=0), \n",
    "                                              [1e-3]*len(p0), nwalkers)\n",
    "            # sampler.reset()\n",
    "            # _ = sampler.run_mcmc(pos, nburn, progress=True)\n",
    "                sampler.reset()\n",
    "                pos,*_ = sampler.run_mcmc(pos, nburn, progress=True)\n",
    "                sampler.reset()\n",
    "                _ = sampler.run_mcmc(pos, nsteps, progress=True)\n",
    "                print()\n",
    "\n",
    "                all_samplers.append(sampler)\n",
    "\n",
    "            data[name] = dict()\n",
    "            data[name]['X'] = X\n",
    "            data[name]['samplers'] = all_samplers\n",
    "            data[name]['phi1_bins'] = _phi1_bins\n",
    "            data[name]['N'] = np.array(Ns)\n",
    "\n",
    "   \n",
    "\n",
    "        flatchains = dict()\n",
    "        for name in data:\n",
    "            all_flatchains = []\n",
    "            for sampler in data[name]['samplers']:\n",
    "                all_flatchains.append(sampler.flatchain)\n",
    "\n",
    "            all_flatchains = np.array(all_flatchains)\n",
    "\n",
    "            flatchains[name] = Table()\n",
    "            for k, par in enumerate(param_names):\n",
    "                if par.startswith('ln_'):\n",
    "                    flatchains[name][par] = all_flatchains[..., k]\n",
    "                    flatchains[name][par[3:]] = np.exp(all_flatchains[..., k])\n",
    "                elif par.startswith('ln'):\n",
    "                    flatchains[name][par] = all_flatchains[..., k]\n",
    "                    flatchains[name][par[2:]] = np.exp(all_flatchains[..., k])\n",
    "                else:\n",
    "                    flatchains[name][par] = all_flatchains[..., k]\n",
    "\n",
    "            phi1_bin_c = 0.5 * (data[name]['phi1_bins'][:-1] + data[name]['phi1_bins'][1:]) * u.deg\n",
    "            flatchains[name]['phi1_bin_c'] = phi1_bin_c\n",
    "            flatchains[name]['N'] = data[name]['N']\n",
    "        \n",
    "        \n",
    "    ###w = witdth, t = track\n",
    "        med_le_w = np.median(lead_tbl['std_s'], axis=1)\n",
    "        err1_le_w = med_le_w - np.percentile(lead_tbl['std_s'], 16, axis=1)\n",
    "        err2_le_w = np.percentile(lead_tbl['std_s'], 84, axis=1) - med_le_w\n",
    "\n",
    "        med_tr_w = np.median(trail_tbl['std_s'], axis=1)\n",
    "        err1_tr_w = med_tr_w - np.percentile(trail_tbl['std_s'], 16, axis=1)\n",
    "        err2_tr_w = np.percentile(trail_tbl['std_s'], 84, axis=1) - med_tr_w\n",
    "           \n",
    "        \n",
    "        \n",
    "        med_le_t = np.median(lead_tbl['mu_s'], axis=1)\n",
    "        err1_le_t = med_le_t - np.percentile(lead_tbl['mu_s'], 16, axis=1)\n",
    "        err2_le_t = np.percentile(lead_tbl['mu_s'], 84, axis=1) - med_le_t\n",
    "\n",
    "        med_tr_t = np.median(trail_tbl['mu_s'], axis=1)\n",
    "        err1_tr_t = med_tr_t - np.percentile(trail_tbl['mu_s'], 16, axis=1)\n",
    "        err2_tr_t = np.percentile(trail_tbl['mu_s'], 84, axis=1) - med_tr_t\n",
    "\n",
    "\n",
    "        \n",
    "        \n",
    "        #Now plotting everything \n",
    "        mpl.rcParams.update({'font.size': 24})\n",
    "        label_size = 20\n",
    "        mpl.rcParams['xtick.labelsize'] = 18#label_size                                                  \n",
    "        mpl.rcParams['ytick.labelsize'] = 18#label_size \n",
    "        fig,axes = plt.subplots(1, 3,figsize=(21,7))#), sharex=True)\n",
    "        \n",
    "                                #\n",
    "                                \n",
    "        #stream morphology                        \n",
    "        axes[0].scatter(RA[j], dec[j], s=0.01, color='black', label = 'Mb = '+ '%.2E' % Decimal(m_b) + ' Om = '+ str(omega[j]) + ' km/s/kpc' , marker='.', rasterized=True)\n",
    "        axes[0].set_xlim(250,215)\n",
    "        axes[0].set_ylabel('Dec [deg]')\n",
    "        axes[0].set_yticks([-10,-5,0,5, 10])\n",
    "        axes[0].set_ylim(-10,10)\n",
    "        axes[0].set_aspect('equal')\n",
    "        axes[0].legend(fontsize=16, loc='upper right')\n",
    "\n",
    "            \n",
    "           \n",
    "        for name in data.keys():\n",
    "            flatchain = flatchains[name]\n",
    "            med = np.median(flatchain['std_s'], axis=1)\n",
    "            axes[1].plot(flatchains[name]['phi1_bin_c'], med, linestyle='--', label='sim: '+name)\n",
    "\n",
    "        axes[1].errorbar(lead_tbl['phi1_bin_c'][bin_mask_le],\n",
    "                         med_le_w[bin_mask_le],\n",
    "                         yerr=(err1_le_w[bin_mask_le], err2_le_w[bin_mask_le]),\n",
    "                         marker='o', ls='none',ecolor='steelblue', color='steelblue',label='data: lead')\n",
    "\n",
    "        axes[1].errorbar(trail_tbl['phi1_bin_c'][bin_mask_tr],\n",
    "                         med_tr_w[bin_mask_tr],\n",
    "                         yerr=(err1_tr_w[bin_mask_tr], err2_tr_w[bin_mask_tr]),\n",
    "                         marker='o', ls='none', ecolor='orange', color='orange',label='data: trail')\n",
    "\n",
    "\n",
    "        axes[1].set_xlim(0, 17)\n",
    "        axes[1].set_ylim(0, 0.6)\n",
    "        axes[1].set_xlabel(r'$\\Delta \\phi_1$ [deg]')\n",
    "        axes[1].set_ylabel(r'$\\sigma$ [deg]')\n",
    "        axes[1].legend(loc='best', fontsize=15) \n",
    "\n",
    "\n",
    "        for name in data.keys():\n",
    "            flatchain = flatchains[name]\n",
    "            med = np.median(flatchain['mu_s'], axis=1)\n",
    "            axes[2].plot(flatchain['phi1_bin_c'], med, linestyle='--', label='sim: '+name)\n",
    "\n",
    "\n",
    "        axes[2].errorbar(lead_tbl['phi1_bin_c'][bin_mask_le],\n",
    "                         med_le_t[bin_mask_le],\n",
    "                         yerr=(err1_le_t[bin_mask_le], err2_le_t[bin_mask_le]),\n",
    "                         marker='o', ls='none',ecolor='steelblue', color='steelblue',label='data: lead')\n",
    "\n",
    "\n",
    "\n",
    "        axes[2].errorbar(trail_tbl['phi1_bin_c'][bin_mask_tr],\n",
    "                        med_tr_t[bin_mask_tr],\n",
    "                        yerr=(err1_tr_t[bin_mask_tr], err2_tr_t[bin_mask_tr]),\n",
    "                        marker='o', ls='none', ecolor='orange', color='orange',label='data: trail')\n",
    "\n",
    "\n",
    "        axes[2].set_xlim(0, 17)\n",
    "        axes[2].set_ylim(-1, 1)\n",
    "        axes[2].set_xlabel(r'$\\Delta \\phi_1$ [deg]')\n",
    "        axes[2].set_ylabel('$\\Delta \\phi_2$ [deg]')\n",
    "        axes[2].legend(loc='best', fontsize=15)\n",
    "    \n",
    "        fig.tight_layout()                                                                                                                                                                                          \n",
    "        fig.savefig('BarModels_RL' + str(RL) + '_Mb' + '%.2E' % Decimal(m_b) + '_Om'+ str(omega[j]) + '.png')\n",
    "\n",
    "            \n",
    "            \n",
    "        #need to return RA dec and everyhing I need to plot for width and wiggle\n",
    "       # return RA, dec, med_le_w , err1_le_w, err2_le_w, med_tr_w, err1_tr_w , err2_tr_w,\\\n",
    "        ##med_le_t ,err1_le_t,err2_le_t,  med_tr_t ,err1_tr_t, err2_tr_t,  lead_tbl ,bin_mask_le ,\\\n",
    "       # trail_tbl,  bin_mask_tr , data, flatchains\n",
    " \n",
    "    \n",
    "\n",
    "\n"
   ]
  },
  {
   "cell_type": "markdown",
   "metadata": {},
   "source": []
  },
  {
   "cell_type": "code",
   "execution_count": null,
   "metadata": {},
   "outputs": [],
   "source": []
  },
  {
   "cell_type": "code",
   "execution_count": 5,
   "metadata": {},
   "outputs": [],
   "source": [
    "#I need to only use one bar mass....."
   ]
  },
  {
   "cell_type": "markdown",
   "metadata": {},
   "source": [
    "## Call function "
   ]
  },
  {
   "cell_type": "code",
   "execution_count": 10,
   "metadata": {},
   "outputs": [
    {
     "name": "stderr",
     "output_type": "stream",
     "text": [
      "100%|██████████| 128/128 [00:02<00:00, 43.52it/s]\n",
      "100%|██████████| 128/128 [00:02<00:00, 43.92it/s]\n",
      "100%|██████████| 256/256 [00:05<00:00, 43.72it/s]\n",
      "  4%|▍         | 5/128 [00:00<00:02, 44.95it/s]"
     ]
    },
    {
     "name": "stdout",
     "output_type": "stream",
     "text": [
      "\n"
     ]
    },
    {
     "name": "stderr",
     "output_type": "stream",
     "text": [
      "100%|██████████| 128/128 [00:02<00:00, 43.70it/s]\n",
      "100%|██████████| 128/128 [00:02<00:00, 43.71it/s]\n",
      "100%|██████████| 256/256 [00:05<00:00, 43.58it/s]\n",
      "  4%|▍         | 5/128 [00:00<00:02, 45.37it/s]"
     ]
    },
    {
     "name": "stdout",
     "output_type": "stream",
     "text": [
      "\n"
     ]
    },
    {
     "name": "stderr",
     "output_type": "stream",
     "text": [
      "100%|██████████| 128/128 [00:02<00:00, 43.71it/s]\n",
      "100%|██████████| 128/128 [00:02<00:00, 43.66it/s]\n",
      "100%|██████████| 256/256 [00:05<00:00, 43.52it/s]\n",
      "  4%|▍         | 5/128 [00:00<00:02, 45.34it/s]"
     ]
    },
    {
     "name": "stdout",
     "output_type": "stream",
     "text": [
      "\n"
     ]
    },
    {
     "name": "stderr",
     "output_type": "stream",
     "text": [
      "100%|██████████| 128/128 [00:02<00:00, 43.80it/s]\n",
      "100%|██████████| 128/128 [00:02<00:00, 43.79it/s]\n",
      "100%|██████████| 256/256 [00:05<00:00, 43.92it/s]\n",
      "  4%|▍         | 5/128 [00:00<00:02, 45.66it/s]"
     ]
    },
    {
     "name": "stdout",
     "output_type": "stream",
     "text": [
      "\n"
     ]
    },
    {
     "name": "stderr",
     "output_type": "stream",
     "text": [
      "100%|██████████| 128/128 [00:02<00:00, 44.06it/s]\n",
      "100%|██████████| 128/128 [00:02<00:00, 43.62it/s]\n",
      "100%|██████████| 256/256 [00:05<00:00, 43.62it/s]\n",
      "  4%|▍         | 5/128 [00:00<00:02, 45.62it/s]"
     ]
    },
    {
     "name": "stdout",
     "output_type": "stream",
     "text": [
      "\n"
     ]
    },
    {
     "name": "stderr",
     "output_type": "stream",
     "text": [
      "100%|██████████| 128/128 [00:02<00:00, 43.77it/s]\n",
      "100%|██████████| 128/128 [00:02<00:00, 43.54it/s]\n",
      "100%|██████████| 256/256 [00:05<00:00, 43.71it/s]\n",
      "  4%|▍         | 5/128 [00:00<00:02, 42.99it/s]"
     ]
    },
    {
     "name": "stdout",
     "output_type": "stream",
     "text": [
      "\n"
     ]
    },
    {
     "name": "stderr",
     "output_type": "stream",
     "text": [
      "100%|██████████| 128/128 [00:02<00:00, 43.52it/s]\n",
      "100%|██████████| 128/128 [00:02<00:00, 43.76it/s]\n",
      "100%|██████████| 256/256 [00:05<00:00, 43.84it/s]\n",
      "  4%|▍         | 5/128 [00:00<00:02, 45.63it/s]"
     ]
    },
    {
     "name": "stdout",
     "output_type": "stream",
     "text": [
      "\n"
     ]
    },
    {
     "name": "stderr",
     "output_type": "stream",
     "text": [
      "100%|██████████| 128/128 [00:02<00:00, 44.64it/s]\n",
      "100%|██████████| 128/128 [00:02<00:00, 44.27it/s]\n",
      "100%|██████████| 256/256 [00:05<00:00, 44.32it/s]\n",
      "  4%|▍         | 5/128 [00:00<00:02, 43.11it/s]"
     ]
    },
    {
     "name": "stdout",
     "output_type": "stream",
     "text": [
      "\n"
     ]
    },
    {
     "name": "stderr",
     "output_type": "stream",
     "text": [
      "100%|██████████| 128/128 [00:02<00:00, 43.66it/s]\n",
      "100%|██████████| 128/128 [00:02<00:00, 43.61it/s]\n",
      "100%|██████████| 256/256 [00:05<00:00, 43.50it/s]\n",
      "  4%|▍         | 5/128 [00:00<00:02, 44.87it/s]"
     ]
    },
    {
     "name": "stdout",
     "output_type": "stream",
     "text": [
      "\n"
     ]
    },
    {
     "name": "stderr",
     "output_type": "stream",
     "text": [
      "100%|██████████| 128/128 [00:02<00:00, 44.15it/s]\n",
      "100%|██████████| 128/128 [00:02<00:00, 44.23it/s]\n",
      "100%|██████████| 256/256 [00:05<00:00, 44.13it/s]\n",
      "  4%|▍         | 5/128 [00:00<00:02, 45.91it/s]"
     ]
    },
    {
     "name": "stdout",
     "output_type": "stream",
     "text": [
      "\n"
     ]
    },
    {
     "name": "stderr",
     "output_type": "stream",
     "text": [
      "100%|██████████| 128/128 [00:02<00:00, 44.34it/s]\n",
      "100%|██████████| 128/128 [00:02<00:00, 44.04it/s]\n",
      "100%|██████████| 256/256 [00:05<00:00, 44.25it/s]\n",
      "  4%|▍         | 5/128 [00:00<00:02, 45.42it/s]"
     ]
    },
    {
     "name": "stdout",
     "output_type": "stream",
     "text": [
      "\n"
     ]
    },
    {
     "name": "stderr",
     "output_type": "stream",
     "text": [
      "100%|██████████| 128/128 [00:02<00:00, 44.38it/s]\n",
      "100%|██████████| 128/128 [00:02<00:00, 43.70it/s]\n",
      "100%|██████████| 256/256 [00:05<00:00, 43.73it/s]\n",
      "  4%|▍         | 5/128 [00:00<00:02, 45.19it/s]"
     ]
    },
    {
     "name": "stdout",
     "output_type": "stream",
     "text": [
      "\n"
     ]
    },
    {
     "name": "stderr",
     "output_type": "stream",
     "text": [
      "100%|██████████| 128/128 [00:02<00:00, 43.62it/s]\n",
      "100%|██████████| 128/128 [00:02<00:00, 43.68it/s]\n",
      "100%|██████████| 256/256 [00:05<00:00, 43.75it/s]\n",
      "  4%|▍         | 5/128 [00:00<00:02, 45.85it/s]"
     ]
    },
    {
     "name": "stdout",
     "output_type": "stream",
     "text": [
      "\n"
     ]
    },
    {
     "name": "stderr",
     "output_type": "stream",
     "text": [
      "100%|██████████| 256/256 [00:05<00:00, 44.13it/s]\n",
      "  4%|▍         | 5/128 [00:00<00:02, 45.13it/s]"
     ]
    },
    {
     "name": "stdout",
     "output_type": "stream",
     "text": [
      "\n"
     ]
    },
    {
     "name": "stderr",
     "output_type": "stream",
     "text": [
      "100%|██████████| 128/128 [00:02<00:00, 43.92it/s]\n",
      "100%|██████████| 128/128 [00:02<00:00, 43.95it/s]\n",
      "100%|██████████| 256/256 [00:05<00:00, 43.85it/s]\n",
      "  4%|▍         | 5/128 [00:00<00:02, 45.16it/s]"
     ]
    },
    {
     "name": "stdout",
     "output_type": "stream",
     "text": [
      "\n"
     ]
    },
    {
     "name": "stderr",
     "output_type": "stream",
     "text": [
      "100%|██████████| 128/128 [00:02<00:00, 44.00it/s]\n",
      "100%|██████████| 128/128 [00:02<00:00, 43.75it/s]\n",
      "100%|██████████| 256/256 [00:05<00:00, 44.00it/s]\n",
      "  4%|▍         | 5/128 [00:00<00:02, 44.23it/s]"
     ]
    },
    {
     "name": "stdout",
     "output_type": "stream",
     "text": [
      "\n"
     ]
    },
    {
     "name": "stderr",
     "output_type": "stream",
     "text": [
      "100%|██████████| 128/128 [00:02<00:00, 44.10it/s]\n",
      "100%|██████████| 128/128 [00:02<00:00, 43.84it/s]\n",
      "100%|██████████| 256/256 [00:05<00:00, 43.90it/s]\n",
      "  4%|▍         | 5/128 [00:00<00:02, 45.32it/s]"
     ]
    },
    {
     "name": "stdout",
     "output_type": "stream",
     "text": [
      "\n"
     ]
    },
    {
     "name": "stderr",
     "output_type": "stream",
     "text": [
      "100%|██████████| 128/128 [00:02<00:00, 43.84it/s]\n",
      "100%|██████████| 128/128 [00:02<00:00, 44.06it/s]\n",
      "100%|██████████| 256/256 [00:05<00:00, 43.51it/s]\n",
      "  4%|▍         | 5/128 [00:00<00:02, 45.70it/s]"
     ]
    },
    {
     "name": "stdout",
     "output_type": "stream",
     "text": [
      "\n"
     ]
    },
    {
     "name": "stderr",
     "output_type": "stream",
     "text": [
      "100%|██████████| 128/128 [00:02<00:00, 44.25it/s]\n",
      "100%|██████████| 128/128 [00:02<00:00, 43.77it/s]\n",
      "100%|██████████| 256/256 [00:05<00:00, 43.97it/s]\n",
      "  4%|▍         | 5/128 [00:00<00:02, 45.61it/s]"
     ]
    },
    {
     "name": "stdout",
     "output_type": "stream",
     "text": [
      "\n"
     ]
    },
    {
     "name": "stderr",
     "output_type": "stream",
     "text": [
      "100%|██████████| 128/128 [00:02<00:00, 44.38it/s]\n",
      "100%|██████████| 128/128 [00:02<00:00, 44.03it/s]\n",
      "100%|██████████| 256/256 [00:05<00:00, 44.19it/s]\n",
      "  4%|▍         | 5/128 [00:00<00:02, 45.32it/s]"
     ]
    },
    {
     "name": "stdout",
     "output_type": "stream",
     "text": [
      "\n"
     ]
    },
    {
     "name": "stderr",
     "output_type": "stream",
     "text": [
      "100%|██████████| 128/128 [00:02<00:00, 45.01it/s]\n",
      "100%|██████████| 128/128 [00:02<00:00, 45.00it/s]\n",
      "100%|██████████| 256/256 [00:05<00:00, 45.50it/s]\n",
      "  4%|▍         | 5/128 [00:00<00:02, 45.74it/s]"
     ]
    },
    {
     "name": "stdout",
     "output_type": "stream",
     "text": [
      "\n"
     ]
    },
    {
     "name": "stderr",
     "output_type": "stream",
     "text": [
      "100%|██████████| 128/128 [00:02<00:00, 45.20it/s]\n",
      "100%|██████████| 128/128 [00:02<00:00, 44.93it/s]\n",
      "100%|██████████| 256/256 [00:05<00:00, 44.91it/s]\n",
      "  4%|▍         | 5/128 [00:00<00:02, 45.32it/s]"
     ]
    },
    {
     "name": "stdout",
     "output_type": "stream",
     "text": [
      "\n"
     ]
    },
    {
     "name": "stderr",
     "output_type": "stream",
     "text": [
      "100%|██████████| 128/128 [00:02<00:00, 44.15it/s]\n",
      "100%|██████████| 128/128 [00:02<00:00, 43.82it/s]\n",
      "100%|██████████| 256/256 [00:05<00:00, 43.96it/s]\n",
      "  4%|▍         | 5/128 [00:00<00:02, 45.56it/s]"
     ]
    },
    {
     "name": "stdout",
     "output_type": "stream",
     "text": [
      "\n"
     ]
    },
    {
     "name": "stderr",
     "output_type": "stream",
     "text": [
      "100%|██████████| 128/128 [00:02<00:00, 44.83it/s]\n",
      "100%|██████████| 128/128 [00:02<00:00, 44.27it/s]\n",
      "100%|██████████| 256/256 [00:05<00:00, 44.58it/s]\n",
      "  4%|▍         | 5/128 [00:00<00:02, 45.16it/s]"
     ]
    },
    {
     "name": "stdout",
     "output_type": "stream",
     "text": [
      "\n"
     ]
    },
    {
     "name": "stderr",
     "output_type": "stream",
     "text": [
      "100%|██████████| 128/128 [00:02<00:00, 45.48it/s]\n",
      "100%|██████████| 128/128 [00:02<00:00, 45.69it/s]\n",
      "100%|██████████| 256/256 [00:05<00:00, 45.84it/s]\n",
      "  4%|▍         | 5/128 [00:00<00:02, 43.14it/s]"
     ]
    },
    {
     "name": "stdout",
     "output_type": "stream",
     "text": [
      "\n"
     ]
    },
    {
     "name": "stderr",
     "output_type": "stream",
     "text": [
      "100%|██████████| 128/128 [00:02<00:00, 46.89it/s]\n",
      "100%|██████████| 128/128 [00:02<00:00, 46.73it/s]\n",
      "100%|██████████| 256/256 [00:05<00:00, 47.17it/s]\n",
      "  4%|▍         | 5/128 [00:00<00:02, 45.41it/s]"
     ]
    },
    {
     "name": "stdout",
     "output_type": "stream",
     "text": [
      "\n"
     ]
    },
    {
     "name": "stderr",
     "output_type": "stream",
     "text": [
      "100%|██████████| 128/128 [00:02<00:00, 45.93it/s]\n",
      "100%|██████████| 128/128 [00:02<00:00, 45.65it/s]\n",
      "100%|██████████| 256/256 [00:05<00:00, 45.68it/s]\n"
     ]
    },
    {
     "name": "stdout",
     "output_type": "stream",
     "text": [
      "\n"
     ]
    },
    {
     "ename": "NameError",
     "evalue": "name 'Decimal' is not defined",
     "output_type": "error",
     "traceback": [
      "\u001b[0;31m---------------------------------------------------------------------------\u001b[0m",
      "\u001b[0;31mNameError\u001b[0m                                 Traceback (most recent call last)",
      "\u001b[0;32m<ipython-input-10-a42e27b827cc>\u001b[0m in \u001b[0;36m<module>\u001b[0;34m()\u001b[0m\n\u001b[1;32m      3\u001b[0m \u001b[0;31m#plot_morph_track_width(omega, RL=10, m_b=1e10)\u001b[0m\u001b[0;34m\u001b[0m\u001b[0;34m\u001b[0m\u001b[0;34m\u001b[0m\u001b[0m\n\u001b[1;32m      4\u001b[0m \u001b[0;34m\u001b[0m\u001b[0m\n\u001b[0;32m----> 5\u001b[0;31m \u001b[0mwidth_track\u001b[0m\u001b[0;34m(\u001b[0m\u001b[0momega\u001b[0m\u001b[0;34m,\u001b[0m \u001b[0mRL\u001b[0m\u001b[0;34m=\u001b[0m\u001b[0;36m10\u001b[0m\u001b[0;34m,\u001b[0m \u001b[0mm_b\u001b[0m\u001b[0;34m=\u001b[0m\u001b[0;36m1e10\u001b[0m\u001b[0;34m)\u001b[0m\u001b[0;34m\u001b[0m\u001b[0;34m\u001b[0m\u001b[0m\n\u001b[0m",
      "\u001b[0;32m<ipython-input-9-79f372cddb86>\u001b[0m in \u001b[0;36mwidth_track\u001b[0;34m(omega, RL, m_b)\u001b[0m\n\u001b[1;32m    141\u001b[0m \u001b[0;34m\u001b[0m\u001b[0m\n\u001b[1;32m    142\u001b[0m         \u001b[0;31m#stream morphology\u001b[0m\u001b[0;34m\u001b[0m\u001b[0;34m\u001b[0m\u001b[0;34m\u001b[0m\u001b[0m\n\u001b[0;32m--> 143\u001b[0;31m         \u001b[0maxes\u001b[0m\u001b[0;34m[\u001b[0m\u001b[0;36m0\u001b[0m\u001b[0;34m]\u001b[0m\u001b[0;34m.\u001b[0m\u001b[0mscatter\u001b[0m\u001b[0;34m(\u001b[0m\u001b[0mRA\u001b[0m\u001b[0;34m[\u001b[0m\u001b[0mj\u001b[0m\u001b[0;34m]\u001b[0m\u001b[0;34m,\u001b[0m \u001b[0mdec\u001b[0m\u001b[0;34m[\u001b[0m\u001b[0mj\u001b[0m\u001b[0;34m]\u001b[0m\u001b[0;34m,\u001b[0m \u001b[0ms\u001b[0m\u001b[0;34m=\u001b[0m\u001b[0;36m0.01\u001b[0m\u001b[0;34m,\u001b[0m \u001b[0mcolor\u001b[0m\u001b[0;34m=\u001b[0m\u001b[0;34m'black'\u001b[0m\u001b[0;34m,\u001b[0m \u001b[0mlabel\u001b[0m \u001b[0;34m=\u001b[0m \u001b[0;34m'Mb = '\u001b[0m\u001b[0;34m+\u001b[0m \u001b[0;34m'%.2E'\u001b[0m \u001b[0;34m%\u001b[0m \u001b[0mDecimal\u001b[0m\u001b[0;34m(\u001b[0m\u001b[0mm_b\u001b[0m\u001b[0;34m)\u001b[0m \u001b[0;34m+\u001b[0m \u001b[0;34m' Om = '\u001b[0m\u001b[0;34m+\u001b[0m \u001b[0mstr\u001b[0m\u001b[0;34m(\u001b[0m\u001b[0momega\u001b[0m\u001b[0;34m[\u001b[0m\u001b[0mj\u001b[0m\u001b[0;34m]\u001b[0m\u001b[0;34m)\u001b[0m \u001b[0;34m+\u001b[0m \u001b[0;34m' km/s/kpc'\u001b[0m \u001b[0;34m,\u001b[0m \u001b[0mmarker\u001b[0m\u001b[0;34m=\u001b[0m\u001b[0;34m'.'\u001b[0m\u001b[0;34m,\u001b[0m \u001b[0mrasterized\u001b[0m\u001b[0;34m=\u001b[0m\u001b[0;32mTrue\u001b[0m\u001b[0;34m)\u001b[0m\u001b[0;34m\u001b[0m\u001b[0;34m\u001b[0m\u001b[0m\n\u001b[0m\u001b[1;32m    144\u001b[0m         \u001b[0maxes\u001b[0m\u001b[0;34m[\u001b[0m\u001b[0;36m0\u001b[0m\u001b[0;34m]\u001b[0m\u001b[0;34m.\u001b[0m\u001b[0mset_xlim\u001b[0m\u001b[0;34m(\u001b[0m\u001b[0;36m250\u001b[0m\u001b[0;34m,\u001b[0m\u001b[0;36m215\u001b[0m\u001b[0;34m)\u001b[0m\u001b[0;34m\u001b[0m\u001b[0;34m\u001b[0m\u001b[0m\n\u001b[1;32m    145\u001b[0m         \u001b[0maxes\u001b[0m\u001b[0;34m[\u001b[0m\u001b[0;36m0\u001b[0m\u001b[0;34m]\u001b[0m\u001b[0;34m.\u001b[0m\u001b[0mset_ylabel\u001b[0m\u001b[0;34m(\u001b[0m\u001b[0;34m'Dec [deg]'\u001b[0m\u001b[0;34m)\u001b[0m\u001b[0;34m\u001b[0m\u001b[0;34m\u001b[0m\u001b[0m\n",
      "\u001b[0;31mNameError\u001b[0m: name 'Decimal' is not defined"
     ]
    },
    {
     "data": {
      "image/png": "[encoded data removed]",
      "text/plain": [
       "<Figure size 1512x504 with 3 Axes>"
      ]
     },
     "metadata": {
      "needs_background": "light"
     },
     "output_type": "display_data"
    }
   ],
   "source": [
    "omega = np.array([44])\n",
    "\n",
    "#plot_morph_track_width(omega, RL=10, m_b=1e10)\n",
    "\n",
    "width_track(omega, RL=10, m_b=1e10)"
   ]
  },
  {
   "cell_type": "markdown",
   "metadata": {},
   "source": [
    "## Funcition that creates final plot of morphology, track, width given $\\Omega_b$"
   ]
  },
  {
   "cell_type": "code",
   "execution_count": null,
   "metadata": {},
   "outputs": [],
   "source": [
    "#I did this in a separate function below first. "
   ]
  },
  {
   "cell_type": "code",
   "execution_count": null,
   "metadata": {},
   "outputs": [],
   "source": [
    "# def plot_morph_track_width(omega, RL, m_b):\n",
    "#     mpl.rcParams.update({'font.size': 24})\n",
    "#     label_size = 20\n",
    "#     mpl.rcParams['xtick.labelsize'] = 18#label_size                                                  \n",
    "#     mpl.rcParams['ytick.labelsize'] = 18#label_size     \n",
    "    \n",
    "#     RA, dec, med_le_w , err1_le_w, err2_le_w, med_tr_w, err1_tr_w , err2_tr_w,\\\n",
    "#         med_le_t ,err1_le_t,err2_le_t,  med_tr_t ,err1_tr_t, err2_tr_t,  lead_tbl ,bin_mask_le ,\\\n",
    "#         trail_tbl,  bin_mask_tr,data, flatchains = width_track(omega, RL, m_b)\n",
    "    \n",
    "#    # print(flatchains)\n",
    "#    # print(flatchains.shape)\n",
    "#     from decimal import Decimal\n",
    "    \n",
    "#     for j in range(len(omega)):\n",
    "#         fig,axes = plt.subplots(1, 3,figsize=(21,7))#), sharex=True)\n",
    "        \n",
    "#                                 #\n",
    "                                \n",
    "#         #stream morphology                        \n",
    "#         axes[0].scatter(RA[j], dec[j], s=0.01, color='black', label = 'Mb = '+ '%.2E' % Decimal(m_b) + ' Om = '+ str(omega[j]) + ' km/s/kpc' , marker='.', rasterized=True)\n",
    "#         axes[0].set_xlim(250,215)\n",
    "#         axes[0].set_ylabel('Dec [deg]')\n",
    "#         axes[0].set_yticks([-10,-5,0,5, 10])\n",
    "#         axes[0].set_ylim(-10,10)\n",
    "#         axes[0].set_aspect('equal')\n",
    "#         axes[0].legend(fontsize=16, loc='upper right')\n",
    "\n",
    "\n",
    "            \n",
    "           \n",
    "#         for name in data.keys():\n",
    "#             flatchain = flatchains[name]\n",
    "#             med = np.median(flatchain['std_s'], axis=1)\n",
    "#             axes[1].plot(flatchains[name]['phi1_bin_c'], med, linestyle='--', label='sim: '+name)\n",
    "\n",
    "#         axes[1].errorbar(lead_tbl['phi1_bin_c'][bin_mask_le],\n",
    "#                          med_le_w[bin_mask_le],\n",
    "#                          yerr=(err1_le_w[bin_mask_le], err2_le_w[bin_mask_le]),\n",
    "#                          marker='o', ls='none',ecolor='steelblue', color='steelblue',label='data: lead')\n",
    "\n",
    "#         axes[1].errorbar(trail_tbl['phi1_bin_c'][bin_mask_tr],\n",
    "#                          med_tr_w[bin_mask_tr],\n",
    "#                          yerr=(err1_tr_w[bin_mask_tr], err2_tr_w[bin_mask_tr]),\n",
    "#                          marker='o', ls='none', ecolor='orange', color='orange',label='data: trail')\n",
    "\n",
    "\n",
    "#         axes[1].set_xlim(0, 17)\n",
    "#         axes[1].set_ylim(0, 0.6)\n",
    "#         axes[1].set_xlabel(r'$\\Delta \\phi_1$ [deg]')\n",
    "#         axes[1].set_ylabel(r'$\\sigma$ [deg]')\n",
    "#         axes[1].legend(loc='best', fontsize=15) \n",
    "\n",
    "\n",
    "\n",
    "#         for name in data.keys():\n",
    "#             flatchain = flatchains[name]\n",
    "#             med = np.median(flatchain['mu_s'], axis=1)\n",
    "#             axes[2].plot(flatchain['phi1_bin_c'], med, linestyle='--', label='sim: '+name)\n",
    "\n",
    "\n",
    "#         axes[2].errorbar(lead_tbl['phi1_bin_c'][bin_mask_le],\n",
    "#                          med_le_t[bin_mask_le],\n",
    "#                          yerr=(err1_le_t[bin_mask_le], err2_le_t[bin_mask_le]),\n",
    "#                          marker='o', ls='none',ecolor='steelblue', color='steelblue',label='data: lead')\n",
    "\n",
    "\n",
    "\n",
    "#         axes[2].errorbar(trail_tbl['phi1_bin_c'][bin_mask_tr],\n",
    "#                         med_tr_t[bin_mask_tr],\n",
    "#                         yerr=(err1_tr_t[bin_mask_tr], err2_tr_t[bin_mask_tr]),\n",
    "#                         marker='o', ls='none', ecolor='orange', color='orange',label='data: trail')\n",
    "\n",
    "\n",
    "#         axes[2].set_xlim(0, 17)\n",
    "#         axes[2].set_ylim(-1, 1)\n",
    "#         axes[2].set_xlabel(r'$\\Delta \\phi_1$ [deg]')\n",
    "#         axes[2].set_ylabel('$\\Delta \\phi_2$ [deg]')\n",
    "#         axes[2].legend(loc='best', fontsize=15)\n",
    "    \n",
    "#         fig.tight_layout()                                                                                                                                                                                          \n",
    "#         fig.savefig('MorphologyTrackWidth/BarModels_RL' + str(RL) + '_Mb' + '%.2E' % Decimal(m_b) + '_Om'+ str(omega[j]) + '.png')\n",
    "\n"
   ]
  },
  {
   "cell_type": "code",
   "execution_count": null,
   "metadata": {},
   "outputs": [],
   "source": []
  }
 ],
 "metadata": {
  "kernelspec": {
   "display_name": "adrian conda base",
   "language": "python",
   "name": "sarah-conda"
  },
  "language_info": {
   "codemirror_mode": {
    "name": "ipython",
    "version": 3
   },
   "file_extension": ".py",
   "mimetype": "text/x-python",
   "name": "python",
   "nbconvert_exporter": "python",
   "pygments_lexer": "ipython3",
   "version": "3.7.1"
  }
 },
 "nbformat": 4,
 "nbformat_minor": 2
}
