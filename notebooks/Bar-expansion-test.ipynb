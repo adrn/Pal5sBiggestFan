{
 "cells": [
  {
   "cell_type": "code",
   "execution_count": null,
   "metadata": {},
   "outputs": [],
   "source": [
    "import math\n",
    "from os import path\n",
    "\n",
    "import astropy.units as u\n",
    "import biff.scf as bscf\n",
    "import gala.potential as gp\n",
    "from gala.units import galactic\n",
    "import h5py\n",
    "import numpy as np\n",
    "from scipy.optimize import minimize\n",
    "\n",
    "import matplotlib as mpl\n",
    "import matplotlib.pyplot as plt\n",
    "%matplotlib inline\n",
    "\n",
    "from custombiff import compute_Snlm"
   ]
  },
  {
   "cell_type": "code",
   "execution_count": null,
   "metadata": {},
   "outputs": [],
   "source": [
    "x0 = 1.49\n",
    "y0 = 0.58\n",
    "z0 = 0.4\n",
    "\n",
    "def dwek_density(x, y, z):\n",
    "    \"\"\" scales are hard-coded from Wang & Zhao 2012 - see above \"\"\"\n",
    "    r1 = (((x/x0)**2 + (y/y0)**2)**2 + (z/z0)**4) ** 0.25\n",
    "    return math.exp(-r1**2 / 2)"
   ]
  },
  {
   "cell_type": "code",
   "execution_count": null,
   "metadata": {},
   "outputs": [],
   "source": [
    "if not path.exists('Snlm.npy') or True:\n",
    "    S, Serr = compute_Snlm(dwek_density, nmax=6, lmax=6, M=1., r_s=1.)\n",
    "    np.save('Snlm.npy', S)\n",
    "    np.save('Snlm_err.npy', Serr)\n",
    "    \n",
    "S = np.load('Snlm.npy')\n",
    "Serr = np.load('Snlm_err.npy')"
   ]
  },
  {
   "cell_type": "code",
   "execution_count": null,
   "metadata": {},
   "outputs": [],
   "source": [
    "bar = bscf.SCFPotential(m=1, r_s=1.,\n",
    "                        Snlm=S,\n",
    "                        Tnlm=np.zeros_like(S),\n",
    "                        units=galactic)"
   ]
  },
  {
   "cell_type": "code",
   "execution_count": null,
   "metadata": {},
   "outputs": [],
   "source": [
    "grid = np.linspace(-4, 4, 128)\n",
    "\n",
    "fig, ax = plt.subplots(1, 1, figsize=(6, 6))\n",
    "# _ = bar.plot_density_contours(grid=(grid, grid, 0.), ax=ax, )\n",
    "_ = bar.plot_contours(grid=(grid, grid, 0.), ax=ax)"
   ]
  },
  {
   "cell_type": "code",
   "execution_count": null,
   "metadata": {},
   "outputs": [],
   "source": [
    "fig, axes = plt.subplots(1, 3, figsize=(15, 5), \n",
    "                         sharex=True, sharey=True)\n",
    "\n",
    "for i in range(3):\n",
    "    xyz = np.zeros((3, 1024)) + 1e-8\n",
    "    xyz[i] = np.linspace(1, 100, xyz.shape[1])\n",
    "    \n",
    "    dens = bar.density(xyz)\n",
    "    true_dens = np.array([dwek_density(x, y, z) for x,y,z in xyz.T])\n",
    "\n",
    "    ax = axes[i]\n",
    "    ax.plot(xyz[i], true_dens)\n",
    "    ax.plot(xyz[i], dens)\n",
    "\n",
    "ax.set_xscale('log')\n",
    "ax.set_yscale('log')\n",
    "\n",
    "ax.set_ylim(1e-6, 4)"
   ]
  },
  {
   "cell_type": "code",
   "execution_count": null,
   "metadata": {},
   "outputs": [],
   "source": []
  },
  {
   "cell_type": "markdown",
   "metadata": {},
   "source": [
    "---"
   ]
  },
  {
   "cell_type": "code",
   "execution_count": null,
   "metadata": {},
   "outputs": [],
   "source": [
    "pot = gp.CCompositePotential()\n",
    "pot['disk'] = gp.MiyamotoNagaiPotential(m=6E10*u.Msun,\n",
    "                                               a=3*u.kpc,\n",
    "                                               b=280*u.pc,\n",
    "                                               units=galactic)\n",
    "\n",
    "pot['disk2'] = gp.MiyamotoNagaiPotential(m=2E10*u.Msun,\n",
    "                                                a=6.*u.kpc,\n",
    "                                                b=130*u.pc,\n",
    "                                                units=galactic)\n",
    "\n",
    "pot['antidisk'] = gp.MiyamotoNagaiPotential(m=-2E10, \n",
    "                                                   a=2., b=0.28, \n",
    "                                                   units=galactic)\n",
    "\n",
    "# pot['spher'] = gp.HernquistPotential(m=6E9*u.Msun,\n",
    "#                                         c=0.25*u.kpc,\n",
    "#                                         units=galactic)\n",
    "\n",
    "pot['halo'] = gp.NFWPotential(m=6.67E11, r_s=20*u.kpc,\n",
    "                                     units=galactic)\n",
    "\n",
    "pot['bar'] = bar"
   ]
  },
  {
   "cell_type": "code",
   "execution_count": null,
   "metadata": {},
   "outputs": [],
   "source": [
    "xyz = np.zeros((3, 1024))\n",
    "xyz[0] = np.linspace(1, 25, xyz.shape[1])\n",
    "vc = pot.circular_velocity(xyz)\n",
    "\n",
    "plt.plot(xyz[0], vc.to(u.km/u.s))"
   ]
  },
  {
   "cell_type": "code",
   "execution_count": null,
   "metadata": {},
   "outputs": [],
   "source": [
    "!rm coeffs.hdf5"
   ]
  },
  {
   "cell_type": "code",
   "execution_count": null,
   "metadata": {},
   "outputs": [],
   "source": [
    "bar = get_bar_potential(Omega=40*u.km/u.s/u.kpc, \n",
    "                        bar_mass=8E9*u.Msun,\n",
    "                        nmax=1, lmax=2, \n",
    "                        potential_no_bar=pot_no_bar)"
   ]
  },
  {
   "cell_type": "code",
   "execution_count": null,
   "metadata": {},
   "outputs": [],
   "source": []
  },
  {
   "cell_type": "code",
   "execution_count": null,
   "metadata": {},
   "outputs": [],
   "source": []
  },
  {
   "cell_type": "code",
   "execution_count": null,
   "metadata": {},
   "outputs": [],
   "source": []
  },
  {
   "cell_type": "code",
   "execution_count": null,
   "metadata": {},
   "outputs": [],
   "source": []
  },
  {
   "cell_type": "code",
   "execution_count": null,
   "metadata": {},
   "outputs": [],
   "source": [
    "pot['bar'] = fid_bar\n",
    "\n",
    "def func(R):\n",
    "    vc = pot.circular_velocity([R,0,0.]).to(u.km/u.s).value\n",
    "    return (vc - Omega * R)**2\n",
    "\n",
    "res = minimize(func, x0=5.)\n",
    "\n",
    "if not res.success:\n",
    "    print('WARNING: Failed to find corotation radius! Hopefully you '\n",
    "          'expected that...')\n",
    "    return fid_bar\n",
    "\n",
    "Rcorot = res.x[0]\n",
    "Rmax = 0.8 * Rcorot # TODO: audit this choice of 0.8\n",
    "print('Found corotation radius: {:.1f}'.format(Rcorot))\n"
   ]
  },
  {
   "cell_type": "code",
   "execution_count": null,
   "metadata": {},
   "outputs": [],
   "source": []
  },
  {
   "cell_type": "code",
   "execution_count": null,
   "metadata": {},
   "outputs": [],
   "source": []
  },
  {
   "cell_type": "code",
   "execution_count": null,
   "metadata": {},
   "outputs": [],
   "source": []
  },
  {
   "cell_type": "code",
   "execution_count": null,
   "metadata": {},
   "outputs": [],
   "source": []
  },
  {
   "cell_type": "code",
   "execution_count": null,
   "metadata": {},
   "outputs": [],
   "source": [
    "def derp(nmax, lmax, \n",
    "         skip_odd=False, skip_even=False, skip_m=False,\n",
    "         S_only=False):\n",
    "    lmin = 0\n",
    "    lstride = 1\n",
    "\n",
    "    if skip_odd or skip_even:\n",
    "        lstride = 2\n",
    "\n",
    "    if skip_even:\n",
    "        lmin = 1\n",
    "    \n",
    "    N = 0\n",
    "    for n in range(nmax+1):\n",
    "        for l in range(lmin, lmax+1, lstride):\n",
    "            for m in range(l+1):\n",
    "                if skip_m and m > 0: continue\n",
    "                \n",
    "                N += 1\n",
    "                \n",
    "\n",
    "    print(N)"
   ]
  },
  {
   "cell_type": "code",
   "execution_count": null,
   "metadata": {},
   "outputs": [],
   "source": [
    "derp(5, 11, skip_odd=True)"
   ]
  },
  {
   "cell_type": "code",
   "execution_count": null,
   "metadata": {},
   "outputs": [],
   "source": []
  }
 ],
 "metadata": {
  "kernelspec": {
   "display_name": "Python [default]",
   "language": "python",
   "name": "python3"
  },
  "language_info": {
   "codemirror_mode": {
    "name": "ipython",
    "version": 3
   },
   "file_extension": ".py",
   "mimetype": "text/x-python",
   "name": "python",
   "nbconvert_exporter": "python",
   "pygments_lexer": "ipython3",
   "version": "3.6.4"
  }
 },
 "nbformat": 4,
 "nbformat_minor": 2
}