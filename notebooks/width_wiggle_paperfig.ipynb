{
 "cells": [
  {
   "cell_type": "code",
   "execution_count": 1,
   "metadata": {},
   "outputs": [
    {
     "name": "stderr",
     "output_type": "stream",
     "text": [
      "/anaconda3/lib/python3.6/site-packages/h5py/__init__.py:36: FutureWarning: Conversion of the second argument of issubdtype from `float` to `np.floating` is deprecated. In future, it will be treated as `np.float64 == np.dtype(float).type`.\n",
      "  from ._conv import register_converters as _register_converters\n"
     ]
    }
   ],
   "source": [
    "from __future__ import division, print_function\n",
    "\n",
    "# Third-party                                                                                                                           \n",
    "import astropy.coordinates as coord\n",
    "import astropy.units as u\n",
    "import matplotlib\n",
    "from matplotlib import animation\n",
    "import matplotlib.pyplot as plt\n",
    "import numpy as np\n",
    "#plt.style.use('apw-notebook')                                                                                                          \n",
    "#%matplotlib inline                                                                                                                     \n",
    "from astropy.table import Table\n",
    "\n",
    "# Third-party                                                                                                                           \n",
    "import astropy.coordinates as coord\n",
    "from astropy.coordinates.matrix_utilities import rotation_matrix\n",
    "from astropy.table import Table\n",
    "from astropy.io import fits\n",
    "import astropy.units as u\n",
    "from scipy.special import logsumexp\n",
    "from scipy.stats import truncnorm\n",
    "import emcee\n",
    "\n",
    "\n",
    "# Custom                                                                                                                                \n",
    "import gala.coordinates as gc\n",
    "import gala.dynamics as gd\n",
    "from gala.dynamics.mockstream import fardal_stream, streakline_stream\n",
    "import gala.integrate as gi\n",
    "import gala.potential as gp\n",
    "from gala.units import galactic\n",
    "from gala.util import rolling_window\n",
    "from scipy.signal import argrelmin,argrelmax\n",
    "from scipy.stats import scoreatpercentile\n",
    "from scipy.integrate import quad\n",
    "from matplotlib import cm\n",
    "from tqdm import tqdm\n",
    "\n",
    "import gala.coordinates as gc\n",
    "import gala.dynamics as gd\n",
    "import gala.potential as gp\n",
    "import gala.mpl_style\n",
    "\n",
    "from coordinates import (pal5_c, galcen_frame,\n",
    "                         pal5_lead_frame, pal5_trail_frame)\n",
    "import matplotlib as mpl\n",
    "\n",
    "\n",
    "obs_oden = np.genfromtxt('/Users/spearson/Dropbox/Pal5Bar_copy/obs_RA.txt')\n",
    "OD = np.genfromtxt('/Users/spearson/Dropbox/Pal5Bar_copy/OD_radec.txt')\n",
    "\n",
    "from potential import get_bar_model\n",
    "from potential import default_mw\n",
    "\n"
   ]
  },
  {
   "cell_type": "code",
   "execution_count": 2,
   "metadata": {},
   "outputs": [],
   "source": [
    "\n",
    "#Comapre with and wiggle of sims and data.                                                                                              \n",
    "##Read in simulation RA DEC                                                                                                             \n",
    "# Plot width and wiggle for all.                                                                                                        \n",
    "\n",
    "#### Added by SP to load sims ####                                                                                                      \n",
    "def lnnormal(x, mu, std):\n",
    "    return -0.5 * (x-mu)**2 / std**2 - 0.5*np.log(2*np.pi) - np.log(std)\n",
    "\n",
    "def ln_truncnorm(x, mu, sigma, clip_a, clip_b):\n",
    "    a, b = (clip_a - mu) / sigma, (clip_b - mu) / sigma\n",
    "    return truncnorm.logpdf(x, a, b, loc=mu, scale=sigma)\n",
    "\n",
    "# 1 gaussian:                                                                                                                           \n",
    "param_names = ['mu_s', 'lnstd_s']\n",
    "\n",
    "def lnprior(p):\n",
    "    mu_s, lnstd_s = p\n",
    "\n",
    "    lp = 0\n",
    "\n",
    "    lp += ln_truncnorm(mu_s, 0, 1, -1, 1)\n",
    "    lp += ln_truncnorm(lnstd_s, -0.5, 1, -2.5, 1.5)\n",
    "\n",
    "    return lp\n",
    "\n",
    "def lnlike(p, phi2):\n",
    "    mu_s, lnstd_s = p\n",
    "    return lnnormal(phi2, mu_s, np.exp(lnstd_s))\n",
    "\n",
    "def lnprob(p, phi2):\n",
    "    lp = lnprior(p)\n",
    "    if not np.all(np.isfinite(lp)):\n",
    "        return -np.inf\n",
    "\n",
    "    ll = lnlike(p, phi2).sum()\n",
    "    if not np.all(np.isfinite(ll)):\n",
    "        return -np.inf\n",
    "\n",
    "    return ll + lp"
   ]
  },
  {
   "cell_type": "code",
   "execution_count": 3,
   "metadata": {},
   "outputs": [],
   "source": [
    "\n",
    "\n",
    "  ####Sims####   \n",
    "sim_reg = np.loadtxt('Morphology/RADEC_MW14_q094.txt')\n",
    "sim_reg_RA = sim_reg[:,0]\n",
    "sim_reg_dec = sim_reg[:,1]\n",
    "\n",
    "sim_chaos =  np.loadtxt('Morphology/RADEC_MW14_q050.txt')\n",
    "sim_chaos_RA = sim_chaos[:,0]\n",
    "sim_chaos_dec = sim_chaos[:,1]\n",
    "\n",
    "sim_bar5e9 = np.loadtxt('Morphology/RADEC_RL5_M5e9_Om39.txt')\n",
    "sim_bar5e9_RA = sim_bar5e9[:,0]\n",
    "sim_bar5e9_dec = sim_bar5e9[:,1]\n",
    "\n",
    "sim_bar1e10 = np.loadtxt('Morphology/RADEC_RL5_M1e10_Om40.txt')\n",
    "sim_bar1e10_RA = sim_bar1e10[:,0]\n",
    "sim_bar1e10_dec = sim_bar1e10[:,1]\n",
    "\n"
   ]
  },
  {
   "cell_type": "code",
   "execution_count": 4,
   "metadata": {},
   "outputs": [],
   "source": [
    "#RA = np.array([sim_reg_RA,sim_chaos_RA,sim_bar5e9_RA,sim_bar1e10_RA])\n",
    "#dec = np.array([sim_reg_dec,sim_chaos_dec,sim_bar5e9_dec,sim_bar1e10_dec])"
   ]
  },
  {
   "cell_type": "code",
   "execution_count": 5,
   "metadata": {},
   "outputs": [],
   "source": [
    "#RA[0].shape"
   ]
  },
  {
   "cell_type": "code",
   "execution_count": 6,
   "metadata": {},
   "outputs": [
    {
     "name": "stderr",
     "output_type": "stream",
     "text": [
      "100%|██████████| 128/128 [00:02<00:00, 46.23it/s]\n",
      "100%|██████████| 128/128 [00:02<00:00, 46.21it/s]\n",
      "100%|██████████| 256/256 [00:05<00:00, 46.84it/s]\n",
      "  5%|▍         | 6/128 [00:00<00:02, 53.20it/s]"
     ]
    },
    {
     "name": "stdout",
     "output_type": "stream",
     "text": [
      "\n"
     ]
    },
    {
     "name": "stderr",
     "output_type": "stream",
     "text": [
      "100%|██████████| 128/128 [00:02<00:00, 46.01it/s]\n",
      "100%|██████████| 128/128 [00:02<00:00, 47.62it/s]\n",
      "100%|██████████| 256/256 [00:05<00:00, 47.67it/s]\n",
      "  5%|▍         | 6/128 [00:00<00:02, 51.33it/s]"
     ]
    },
    {
     "name": "stdout",
     "output_type": "stream",
     "text": [
      "\n"
     ]
    },
    {
     "name": "stderr",
     "output_type": "stream",
     "text": [
      "100%|██████████| 128/128 [00:02<00:00, 46.17it/s]\n",
      "100%|██████████| 128/128 [00:02<00:00, 47.11it/s]\n",
      "100%|██████████| 256/256 [00:05<00:00, 48.72it/s]\n",
      "  8%|▊         | 10/128 [00:00<00:02, 44.23it/s]"
     ]
    },
    {
     "name": "stdout",
     "output_type": "stream",
     "text": [
      "\n"
     ]
    },
    {
     "name": "stderr",
     "output_type": "stream",
     "text": [
      "100%|██████████| 128/128 [00:02<00:00, 46.26it/s]\n",
      "100%|██████████| 128/128 [00:02<00:00, 48.32it/s]\n",
      "100%|██████████| 256/256 [00:05<00:00, 48.90it/s]\n",
      "  5%|▍         | 6/128 [00:00<00:02, 55.35it/s]"
     ]
    },
    {
     "name": "stdout",
     "output_type": "stream",
     "text": [
      "\n"
     ]
    },
    {
     "name": "stderr",
     "output_type": "stream",
     "text": [
      "100%|██████████| 128/128 [00:02<00:00, 47.08it/s]\n",
      "100%|██████████| 128/128 [00:02<00:00, 47.02it/s]\n",
      "100%|██████████| 256/256 [00:05<00:00, 46.69it/s]\n",
      "  9%|▊         | 11/128 [00:00<00:02, 48.76it/s]"
     ]
    },
    {
     "name": "stdout",
     "output_type": "stream",
     "text": [
      "\n"
     ]
    },
    {
     "name": "stderr",
     "output_type": "stream",
     "text": [
      "100%|██████████| 128/128 [00:02<00:00, 45.44it/s]\n",
      "100%|██████████| 128/128 [00:02<00:00, 46.80it/s]\n",
      "100%|██████████| 256/256 [00:05<00:00, 47.61it/s]\n",
      "  4%|▍         | 5/128 [00:00<00:02, 48.26it/s]"
     ]
    },
    {
     "name": "stdout",
     "output_type": "stream",
     "text": [
      "\n"
     ]
    },
    {
     "name": "stderr",
     "output_type": "stream",
     "text": [
      "100%|██████████| 128/128 [00:02<00:00, 47.37it/s]\n",
      "100%|██████████| 128/128 [00:02<00:00, 47.58it/s]\n",
      "100%|██████████| 256/256 [00:05<00:00, 46.83it/s]\n",
      "  5%|▍         | 6/128 [00:00<00:02, 53.25it/s]"
     ]
    },
    {
     "name": "stdout",
     "output_type": "stream",
     "text": [
      "\n"
     ]
    },
    {
     "name": "stderr",
     "output_type": "stream",
     "text": [
      "100%|██████████| 128/128 [00:02<00:00, 47.95it/s]\n",
      "100%|██████████| 128/128 [00:02<00:00, 47.32it/s]\n",
      "100%|██████████| 256/256 [00:05<00:00, 48.62it/s]\n",
      "  8%|▊         | 10/128 [00:00<00:02, 44.70it/s]"
     ]
    },
    {
     "name": "stdout",
     "output_type": "stream",
     "text": [
      "\n"
     ]
    },
    {
     "name": "stderr",
     "output_type": "stream",
     "text": [
      "100%|██████████| 128/128 [00:02<00:00, 46.57it/s]\n",
      "100%|██████████| 128/128 [00:02<00:00, 49.86it/s]\n",
      "100%|██████████| 256/256 [00:05<00:00, 48.93it/s]\n",
      "  4%|▍         | 5/128 [00:00<00:02, 45.93it/s]"
     ]
    },
    {
     "name": "stdout",
     "output_type": "stream",
     "text": [
      "\n"
     ]
    },
    {
     "name": "stderr",
     "output_type": "stream",
     "text": [
      "100%|██████████| 128/128 [00:02<00:00, 48.63it/s]\n",
      "100%|██████████| 128/128 [00:02<00:00, 47.83it/s]\n",
      "100%|██████████| 256/256 [00:05<00:00, 46.22it/s]\n",
      "  9%|▊         | 11/128 [00:00<00:02, 51.45it/s]"
     ]
    },
    {
     "name": "stdout",
     "output_type": "stream",
     "text": [
      "\n"
     ]
    },
    {
     "name": "stderr",
     "output_type": "stream",
     "text": [
      "100%|██████████| 128/128 [00:02<00:00, 48.71it/s]\n",
      "100%|██████████| 128/128 [00:02<00:00, 46.51it/s]\n",
      "100%|██████████| 256/256 [00:05<00:00, 47.18it/s]\n",
      "  4%|▍         | 5/128 [00:00<00:03, 37.89it/s]"
     ]
    },
    {
     "name": "stdout",
     "output_type": "stream",
     "text": [
      "\n"
     ]
    },
    {
     "name": "stderr",
     "output_type": "stream",
     "text": [
      "100%|██████████| 128/128 [00:02<00:00, 47.08it/s]\n",
      "100%|██████████| 128/128 [00:02<00:00, 46.43it/s]\n",
      "100%|██████████| 256/256 [00:05<00:00, 45.57it/s]\n",
      "  8%|▊         | 10/128 [00:00<00:02, 44.20it/s]"
     ]
    },
    {
     "name": "stdout",
     "output_type": "stream",
     "text": [
      "\n"
     ]
    },
    {
     "name": "stderr",
     "output_type": "stream",
     "text": [
      "100%|██████████| 128/128 [00:02<00:00, 46.89it/s]\n",
      "100%|██████████| 128/128 [00:02<00:00, 47.07it/s]\n",
      "100%|██████████| 256/256 [00:05<00:00, 47.64it/s]\n",
      "  4%|▍         | 5/128 [00:00<00:02, 41.56it/s]"
     ]
    },
    {
     "name": "stdout",
     "output_type": "stream",
     "text": [
      "\n"
     ]
    },
    {
     "name": "stderr",
     "output_type": "stream",
     "text": [
      "100%|██████████| 128/128 [00:02<00:00, 45.26it/s]\n",
      "100%|██████████| 128/128 [00:02<00:00, 45.89it/s]\n",
      "100%|██████████| 256/256 [00:05<00:00, 47.15it/s]\n",
      "  5%|▍         | 6/128 [00:00<00:02, 57.74it/s]"
     ]
    },
    {
     "name": "stdout",
     "output_type": "stream",
     "text": [
      "\n"
     ]
    },
    {
     "name": "stderr",
     "output_type": "stream",
     "text": [
      "100%|██████████| 128/128 [00:02<00:00, 44.03it/s]\n",
      "100%|██████████| 128/128 [00:02<00:00, 45.88it/s]\n",
      "100%|██████████| 256/256 [00:05<00:00, 47.31it/s]\n",
      "  4%|▍         | 5/128 [00:00<00:02, 49.40it/s]"
     ]
    },
    {
     "name": "stdout",
     "output_type": "stream",
     "text": [
      "\n"
     ]
    },
    {
     "name": "stderr",
     "output_type": "stream",
     "text": [
      "100%|██████████| 128/128 [00:02<00:00, 47.46it/s]\n",
      "100%|██████████| 128/128 [00:02<00:00, 46.18it/s]\n",
      "100%|██████████| 256/256 [00:05<00:00, 46.82it/s]\n",
      "  4%|▍         | 5/128 [00:00<00:02, 42.30it/s]"
     ]
    },
    {
     "name": "stdout",
     "output_type": "stream",
     "text": [
      "\n"
     ]
    },
    {
     "name": "stderr",
     "output_type": "stream",
     "text": [
      "100%|██████████| 128/128 [00:02<00:00, 49.60it/s]\n",
      "100%|██████████| 128/128 [00:02<00:00, 48.43it/s]\n",
      "100%|██████████| 256/256 [00:05<00:00, 47.29it/s]\n",
      "  4%|▍         | 5/128 [00:00<00:02, 48.39it/s]"
     ]
    },
    {
     "name": "stdout",
     "output_type": "stream",
     "text": [
      "\n"
     ]
    },
    {
     "name": "stderr",
     "output_type": "stream",
     "text": [
      "100%|██████████| 128/128 [00:02<00:00, 45.94it/s]\n",
      "100%|██████████| 128/128 [00:02<00:00, 47.67it/s]\n",
      "100%|██████████| 256/256 [00:05<00:00, 47.72it/s]\n",
      "  8%|▊         | 10/128 [00:00<00:02, 48.36it/s]"
     ]
    },
    {
     "name": "stdout",
     "output_type": "stream",
     "text": [
      "\n"
     ]
    },
    {
     "name": "stderr",
     "output_type": "stream",
     "text": [
      "100%|██████████| 128/128 [00:02<00:00, 47.08it/s]\n",
      "100%|██████████| 128/128 [00:02<00:00, 48.95it/s]\n",
      "100%|██████████| 256/256 [00:05<00:00, 46.35it/s]\n",
      "  4%|▍         | 5/128 [00:00<00:02, 49.20it/s]"
     ]
    },
    {
     "name": "stdout",
     "output_type": "stream",
     "text": [
      "\n"
     ]
    },
    {
     "name": "stderr",
     "output_type": "stream",
     "text": [
      "100%|██████████| 128/128 [00:02<00:00, 46.75it/s]\n",
      "100%|██████████| 128/128 [00:02<00:00, 46.46it/s]\n",
      "100%|██████████| 256/256 [00:05<00:00, 46.21it/s]\n",
      "  4%|▍         | 5/128 [00:00<00:02, 48.68it/s]"
     ]
    },
    {
     "name": "stdout",
     "output_type": "stream",
     "text": [
      "\n"
     ]
    },
    {
     "name": "stderr",
     "output_type": "stream",
     "text": [
      "100%|██████████| 128/128 [00:02<00:00, 48.14it/s]\n",
      "100%|██████████| 128/128 [00:02<00:00, 48.21it/s]\n",
      "100%|██████████| 256/256 [00:05<00:00, 46.19it/s]\n",
      "  5%|▍         | 6/128 [00:00<00:02, 51.56it/s]"
     ]
    },
    {
     "name": "stdout",
     "output_type": "stream",
     "text": [
      "\n"
     ]
    },
    {
     "name": "stderr",
     "output_type": "stream",
     "text": [
      "100%|██████████| 128/128 [00:02<00:00, 46.60it/s]\n",
      "100%|██████████| 128/128 [00:02<00:00, 47.88it/s]\n",
      "100%|██████████| 256/256 [00:05<00:00, 46.18it/s]\n",
      "  4%|▍         | 5/128 [00:00<00:02, 46.74it/s]"
     ]
    },
    {
     "name": "stdout",
     "output_type": "stream",
     "text": [
      "\n"
     ]
    },
    {
     "name": "stderr",
     "output_type": "stream",
     "text": [
      "100%|██████████| 128/128 [00:02<00:00, 48.02it/s]\n",
      "100%|██████████| 128/128 [00:02<00:00, 44.60it/s]\n",
      "100%|██████████| 256/256 [00:05<00:00, 46.96it/s]\n",
      "  5%|▍         | 6/128 [00:00<00:02, 57.82it/s]"
     ]
    },
    {
     "name": "stdout",
     "output_type": "stream",
     "text": [
      "\n"
     ]
    },
    {
     "name": "stderr",
     "output_type": "stream",
     "text": [
      "100%|██████████| 128/128 [00:02<00:00, 49.46it/s]\n",
      "100%|██████████| 128/128 [00:02<00:00, 46.76it/s]\n",
      "100%|██████████| 256/256 [00:05<00:00, 47.80it/s]\n",
      "  4%|▍         | 5/128 [00:00<00:02, 49.97it/s]"
     ]
    },
    {
     "name": "stdout",
     "output_type": "stream",
     "text": [
      "\n"
     ]
    },
    {
     "name": "stderr",
     "output_type": "stream",
     "text": [
      "100%|██████████| 128/128 [00:02<00:00, 46.46it/s]\n",
      "100%|██████████| 128/128 [00:02<00:00, 46.29it/s]\n",
      "100%|██████████| 256/256 [00:05<00:00, 46.57it/s]\n",
      "  4%|▍         | 5/128 [00:00<00:02, 44.49it/s]"
     ]
    },
    {
     "name": "stdout",
     "output_type": "stream",
     "text": [
      "\n"
     ]
    },
    {
     "name": "stderr",
     "output_type": "stream",
     "text": [
      "100%|██████████| 128/128 [00:02<00:00, 46.87it/s]\n",
      "100%|██████████| 128/128 [00:02<00:00, 45.62it/s]\n",
      "100%|██████████| 256/256 [00:05<00:00, 45.25it/s]\n",
      "  4%|▍         | 5/128 [00:00<00:02, 49.93it/s]"
     ]
    },
    {
     "name": "stdout",
     "output_type": "stream",
     "text": [
      "\n"
     ]
    },
    {
     "name": "stderr",
     "output_type": "stream",
     "text": [
      "100%|██████████| 128/128 [00:02<00:00, 46.31it/s]\n",
      "100%|██████████| 128/128 [00:02<00:00, 47.75it/s]\n",
      "100%|██████████| 256/256 [00:05<00:00, 46.88it/s]\n",
      "  5%|▍         | 6/128 [00:00<00:02, 53.15it/s]"
     ]
    },
    {
     "name": "stdout",
     "output_type": "stream",
     "text": [
      "\n"
     ]
    },
    {
     "name": "stderr",
     "output_type": "stream",
     "text": [
      "100%|██████████| 128/128 [00:02<00:00, 46.93it/s]\n",
      "100%|██████████| 128/128 [00:02<00:00, 49.95it/s]\n",
      "100%|██████████| 256/256 [00:05<00:00, 47.14it/s]\n",
      "  8%|▊         | 10/128 [00:00<00:02, 46.82it/s]"
     ]
    },
    {
     "name": "stdout",
     "output_type": "stream",
     "text": [
      "\n"
     ]
    },
    {
     "name": "stderr",
     "output_type": "stream",
     "text": [
      "100%|██████████| 128/128 [00:02<00:00, 46.81it/s]\n",
      "100%|██████████| 128/128 [00:02<00:00, 44.13it/s]\n",
      "100%|██████████| 256/256 [00:05<00:00, 47.00it/s]\n",
      "  4%|▍         | 5/128 [00:00<00:02, 41.80it/s]"
     ]
    },
    {
     "name": "stdout",
     "output_type": "stream",
     "text": [
      "\n"
     ]
    },
    {
     "name": "stderr",
     "output_type": "stream",
     "text": [
      "100%|██████████| 128/128 [00:02<00:00, 48.06it/s]\n",
      "100%|██████████| 128/128 [00:02<00:00, 45.95it/s]\n",
      "100%|██████████| 256/256 [00:05<00:00, 45.75it/s]\n",
      "  5%|▍         | 6/128 [00:00<00:02, 56.36it/s]"
     ]
    },
    {
     "name": "stdout",
     "output_type": "stream",
     "text": [
      "\n"
     ]
    },
    {
     "name": "stderr",
     "output_type": "stream",
     "text": [
      "100%|██████████| 128/128 [00:02<00:00, 46.58it/s]\n",
      "100%|██████████| 128/128 [00:02<00:00, 45.71it/s]\n",
      "100%|██████████| 256/256 [00:05<00:00, 45.32it/s]\n",
      "  4%|▍         | 5/128 [00:00<00:02, 44.92it/s]"
     ]
    },
    {
     "name": "stdout",
     "output_type": "stream",
     "text": [
      "\n"
     ]
    },
    {
     "name": "stderr",
     "output_type": "stream",
     "text": [
      "100%|██████████| 128/128 [00:02<00:00, 44.60it/s]\n",
      "100%|██████████| 128/128 [00:02<00:00, 48.57it/s]\n",
      "100%|██████████| 256/256 [00:05<00:00, 46.95it/s]\n",
      "  5%|▍         | 6/128 [00:00<00:02, 50.41it/s]"
     ]
    },
    {
     "name": "stdout",
     "output_type": "stream",
     "text": [
      "\n"
     ]
    },
    {
     "name": "stderr",
     "output_type": "stream",
     "text": [
      "100%|██████████| 128/128 [00:02<00:00, 47.12it/s]\n",
      "100%|██████████| 128/128 [00:02<00:00, 46.93it/s]\n",
      "100%|██████████| 256/256 [00:05<00:00, 45.95it/s]\n",
      "  4%|▍         | 5/128 [00:00<00:02, 45.83it/s]"
     ]
    },
    {
     "name": "stdout",
     "output_type": "stream",
     "text": [
      "\n"
     ]
    },
    {
     "name": "stderr",
     "output_type": "stream",
     "text": [
      "100%|██████████| 128/128 [00:02<00:00, 47.20it/s]\n",
      "100%|██████████| 128/128 [00:02<00:00, 44.10it/s]\n",
      "100%|██████████| 256/256 [00:05<00:00, 45.92it/s]\n",
      "  8%|▊         | 10/128 [00:00<00:02, 44.89it/s]"
     ]
    },
    {
     "name": "stdout",
     "output_type": "stream",
     "text": [
      "\n"
     ]
    },
    {
     "name": "stderr",
     "output_type": "stream",
     "text": [
      "100%|██████████| 128/128 [00:02<00:00, 46.97it/s]\n",
      "100%|██████████| 128/128 [00:02<00:00, 48.59it/s]\n",
      "100%|██████████| 256/256 [00:05<00:00, 47.84it/s]"
     ]
    },
    {
     "name": "stdout",
     "output_type": "stream",
     "text": [
      "\n"
     ]
    },
    {
     "name": "stderr",
     "output_type": "stream",
     "text": [
      "\n"
     ]
    }
   ],
   "source": [
    "\n",
    "c = coord.SkyCoord(ra=sim_reg_RA *u.deg, dec=sim_reg_dec*u.deg)\n",
    "\n",
    "c_l = c.transform_to(pal5_lead_frame)\n",
    "c_t = c.transform_to(pal5_trail_frame)\n",
    "\n",
    "Xl = np.stack((c_l.phi1.wrap_at(180*u.deg).degree,c_l.phi2.degree)).T\n",
    "Xt = np.stack((c_t.phi1.wrap_at(180*u.deg).degree,c_t.phi2.degree)).T\n",
    "\n",
    "\n",
    "phi1_bins = np.arange(0, 18+1e-3, 0.75)\n",
    "phi2_bins = np.arange(-2, 2+1e-3, 0.1)\n",
    "\n",
    "nwalkers = 64\n",
    "nburn = 128\n",
    "nsteps = 256\n",
    "\n",
    "\n",
    "phi2_min = -2.\n",
    "phi2_max = 2.\n",
    "\n",
    "data = dict()\n",
    "for name, X, _phi1_bins in zip(['lead', 'trail'],\n",
    "                           [Xl, Xt],\n",
    "                           [phi1_bins[:14], phi1_bins[:23]]):\n",
    "    phi2_mask = (X[:, 1] > phi2_min) & (X[:, 1] < phi2_max)\n",
    "\n",
    "    all_samplers = []\n",
    "    Ns = []\n",
    "    for i, l, r in zip(range(len(phi1_bins)-1),\n",
    "                   _phi1_bins[:-1],\n",
    "                   _phi1_bins[1:]):\n",
    "\n",
    "        phi1_mask = (X[:, 0] > l) & (X[:, 0] <= r)\n",
    "        binX = X[phi1_mask & phi2_mask]\n",
    "        Ns.append((phi1_mask & phi2_mask).sum())\n",
    "\n",
    "        H, _ = np.histogram(binX[:, 1], bins=phi2_bins)\n",
    "        phi2_bin_c = 0.5*(phi2_bins[:-1]+phi2_bins[1:])\n",
    "        mu = phi2_bin_c[H.argmax()]\n",
    "        if np.abs(mu) > 1.:\n",
    "            mu = 0.\n",
    "\n",
    "  # for 1-component gaussian                                                                                                      \n",
    "        p0 = (mu, np.log(0.1))\n",
    "\n",
    "        p0s = emcee.utils.sample_ball(p0, [1e-3]*len(p0), nwalkers)\n",
    "\n",
    "        sampler = emcee.EnsembleSampler(nwalkers, len(p0),\n",
    "                                    log_prob_fn=lnprob,\n",
    "                                    args=(binX[:, 1], ))\n",
    "\n",
    "        pos,*_ = sampler.run_mcmc(p0s, nburn, progress=True)\n",
    "        pos = emcee.utils.sample_ball(np.median(pos, axis=0),\n",
    "                                      [1e-3]*len(p0), nwalkers)\n",
    "# sampler.reset()                                                                                                               \n",
    "# _ = sampler.run_mcmc(pos, nburn, progress=True)                                                                               \n",
    "        sampler.reset()\n",
    "        pos,*_ = sampler.run_mcmc(pos, nburn, progress=True)\n",
    "        sampler.reset()\n",
    "        _ = sampler.run_mcmc(pos, nsteps, progress=True)\n",
    "        print()\n",
    "\n",
    "        all_samplers.append(sampler)\n",
    "\n",
    "\n",
    "    data[name] = dict()\n",
    "    data[name]['X'] = X\n",
    "    data[name]['samplers'] = all_samplers\n",
    "    data[name]['phi1_bins'] = _phi1_bins\n",
    "    data[name]['N'] = np.array(Ns)\n",
    "\n",
    "\n",
    "flatchains_reg = dict()\n",
    "for name in data:\n",
    "    all_flatchains = []\n",
    "    for sampler in data[name]['samplers']:\n",
    "        all_flatchains.append(sampler.flatchain)\n",
    "\n",
    "    all_flatchains = np.array(all_flatchains)\n",
    "\n",
    "    flatchains_reg[name] = Table()\n",
    "    for k, par in enumerate(param_names):\n",
    "        if par.startswith('ln_'):\n",
    "            flatchains_reg[name][par] = all_flatchains[..., k]\n",
    "            flatchains_reg[name][par[3:]] = np.exp(all_flatchains[..., k])\n",
    "        elif par.startswith('ln'):\n",
    "            flatchains_reg[name][par] = all_flatchains[..., k]\n",
    "            flatchains_reg[name][par[2:]] = np.exp(all_flatchains[..., k])\n",
    "        else:\n",
    "            flatchains_reg[name][par] = all_flatchains[..., k]\n",
    "\n",
    "    phi1_bin_c_reg = 0.5 * (data[name]['phi1_bins'][:-1] + data[name]['phi1_bins'][1:]) * u.deg\n",
    "    flatchains_reg[name]['phi1_bin_c'] = phi1_bin_c_reg\n",
    "    flatchains_reg[name]['N'] = data[name]['N']\n"
   ]
  },
  {
   "cell_type": "code",
   "execution_count": 7,
   "metadata": {},
   "outputs": [
    {
     "name": "stderr",
     "output_type": "stream",
     "text": [
      "100%|██████████| 128/128 [00:02<00:00, 46.34it/s]\n",
      "100%|██████████| 128/128 [00:02<00:00, 45.82it/s]\n",
      "100%|██████████| 256/256 [00:05<00:00, 46.17it/s]\n",
      "  4%|▍         | 5/128 [00:00<00:02, 44.91it/s]"
     ]
    },
    {
     "name": "stdout",
     "output_type": "stream",
     "text": [
      "\n"
     ]
    },
    {
     "name": "stderr",
     "output_type": "stream",
     "text": [
      "100%|██████████| 128/128 [00:02<00:00, 45.79it/s]\n",
      "100%|██████████| 128/128 [00:02<00:00, 46.09it/s]\n",
      "100%|██████████| 256/256 [00:05<00:00, 46.33it/s]\n",
      "  4%|▍         | 5/128 [00:00<00:02, 41.78it/s]"
     ]
    },
    {
     "name": "stdout",
     "output_type": "stream",
     "text": [
      "\n"
     ]
    },
    {
     "name": "stderr",
     "output_type": "stream",
     "text": [
      "100%|██████████| 128/128 [00:02<00:00, 43.41it/s]\n",
      "100%|██████████| 128/128 [00:02<00:00, 43.74it/s]\n",
      "100%|██████████| 256/256 [00:05<00:00, 47.54it/s]\n",
      "  4%|▍         | 5/128 [00:00<00:02, 41.77it/s]"
     ]
    },
    {
     "name": "stdout",
     "output_type": "stream",
     "text": [
      "\n"
     ]
    },
    {
     "name": "stderr",
     "output_type": "stream",
     "text": [
      "100%|██████████| 128/128 [00:02<00:00, 45.00it/s]\n",
      "100%|██████████| 128/128 [00:02<00:00, 47.17it/s]\n",
      "100%|██████████| 256/256 [00:05<00:00, 45.52it/s]\n",
      "  4%|▍         | 5/128 [00:00<00:02, 43.90it/s]"
     ]
    },
    {
     "name": "stdout",
     "output_type": "stream",
     "text": [
      "\n"
     ]
    },
    {
     "name": "stderr",
     "output_type": "stream",
     "text": [
      "100%|██████████| 128/128 [00:02<00:00, 50.04it/s]\n",
      "100%|██████████| 128/128 [00:02<00:00, 46.47it/s]\n",
      "100%|██████████| 256/256 [00:05<00:00, 45.37it/s]\n",
      "  4%|▍         | 5/128 [00:00<00:02, 46.06it/s]"
     ]
    },
    {
     "name": "stdout",
     "output_type": "stream",
     "text": [
      "\n"
     ]
    },
    {
     "name": "stderr",
     "output_type": "stream",
     "text": [
      "100%|██████████| 128/128 [00:02<00:00, 45.32it/s]\n",
      "100%|██████████| 128/128 [00:02<00:00, 45.06it/s]\n",
      "100%|██████████| 256/256 [00:05<00:00, 48.48it/s]\n",
      "  4%|▍         | 5/128 [00:00<00:02, 43.67it/s]"
     ]
    },
    {
     "name": "stdout",
     "output_type": "stream",
     "text": [
      "\n"
     ]
    },
    {
     "name": "stderr",
     "output_type": "stream",
     "text": [
      "100%|██████████| 128/128 [00:02<00:00, 47.88it/s]\n",
      "100%|██████████| 128/128 [00:02<00:00, 47.09it/s]\n",
      "100%|██████████| 256/256 [00:05<00:00, 46.82it/s]\n",
      "  4%|▍         | 5/128 [00:00<00:02, 46.15it/s]"
     ]
    },
    {
     "name": "stdout",
     "output_type": "stream",
     "text": [
      "\n"
     ]
    },
    {
     "name": "stderr",
     "output_type": "stream",
     "text": [
      "100%|██████████| 128/128 [00:02<00:00, 46.62it/s]\n",
      "100%|██████████| 128/128 [00:02<00:00, 45.28it/s]\n",
      "100%|██████████| 256/256 [00:05<00:00, 46.26it/s]\n",
      "  4%|▍         | 5/128 [00:00<00:02, 43.90it/s]"
     ]
    },
    {
     "name": "stdout",
     "output_type": "stream",
     "text": [
      "\n"
     ]
    },
    {
     "name": "stderr",
     "output_type": "stream",
     "text": [
      "100%|██████████| 128/128 [00:02<00:00, 48.66it/s]\n",
      "100%|██████████| 128/128 [00:02<00:00, 46.55it/s]\n",
      "100%|██████████| 256/256 [00:05<00:00, 46.10it/s]\n",
      "  5%|▍         | 6/128 [00:00<00:02, 51.76it/s]"
     ]
    },
    {
     "name": "stdout",
     "output_type": "stream",
     "text": [
      "\n"
     ]
    },
    {
     "name": "stderr",
     "output_type": "stream",
     "text": [
      "100%|██████████| 128/128 [00:02<00:00, 47.18it/s]\n",
      "100%|██████████| 128/128 [00:02<00:00, 46.24it/s]\n",
      "100%|██████████| 256/256 [00:05<00:00, 51.40it/s]\n",
      "  5%|▍         | 6/128 [00:00<00:02, 52.09it/s]"
     ]
    },
    {
     "name": "stdout",
     "output_type": "stream",
     "text": [
      "\n"
     ]
    },
    {
     "name": "stderr",
     "output_type": "stream",
     "text": [
      "100%|██████████| 128/128 [00:02<00:00, 48.16it/s]\n",
      "100%|██████████| 128/128 [00:02<00:00, 46.53it/s]\n",
      "100%|██████████| 256/256 [00:05<00:00, 48.44it/s]\n",
      "  4%|▍         | 5/128 [00:00<00:02, 43.81it/s]"
     ]
    },
    {
     "name": "stdout",
     "output_type": "stream",
     "text": [
      "\n"
     ]
    },
    {
     "name": "stderr",
     "output_type": "stream",
     "text": [
      "100%|██████████| 128/128 [00:02<00:00, 47.55it/s]\n",
      "100%|██████████| 128/128 [00:02<00:00, 46.18it/s]\n",
      "100%|██████████| 256/256 [00:05<00:00, 46.05it/s]\n",
      "  3%|▎         | 4/128 [00:00<00:03, 39.02it/s]"
     ]
    },
    {
     "name": "stdout",
     "output_type": "stream",
     "text": [
      "\n"
     ]
    },
    {
     "name": "stderr",
     "output_type": "stream",
     "text": [
      "100%|██████████| 128/128 [00:02<00:00, 45.65it/s]\n",
      "100%|██████████| 128/128 [00:02<00:00, 47.57it/s]\n",
      "100%|██████████| 256/256 [00:05<00:00, 49.11it/s]\n",
      "  9%|▊         | 11/128 [00:00<00:02, 51.42it/s]"
     ]
    },
    {
     "name": "stdout",
     "output_type": "stream",
     "text": [
      "\n"
     ]
    },
    {
     "name": "stderr",
     "output_type": "stream",
     "text": [
      "100%|██████████| 128/128 [00:02<00:00, 47.18it/s]\n",
      "100%|██████████| 128/128 [00:02<00:00, 47.12it/s]\n",
      "100%|██████████| 256/256 [00:05<00:00, 47.41it/s]\n",
      "  5%|▍         | 6/128 [00:00<00:02, 54.06it/s]"
     ]
    },
    {
     "name": "stdout",
     "output_type": "stream",
     "text": [
      "\n"
     ]
    },
    {
     "name": "stderr",
     "output_type": "stream",
     "text": [
      "100%|██████████| 128/128 [00:02<00:00, 45.60it/s]\n",
      "100%|██████████| 128/128 [00:02<00:00, 46.46it/s]\n",
      "100%|██████████| 256/256 [00:05<00:00, 46.58it/s]\n",
      "  4%|▍         | 5/128 [00:00<00:02, 46.54it/s]"
     ]
    },
    {
     "name": "stdout",
     "output_type": "stream",
     "text": [
      "\n"
     ]
    },
    {
     "name": "stderr",
     "output_type": "stream",
     "text": [
      "100%|██████████| 128/128 [00:02<00:00, 48.13it/s]\n",
      "100%|██████████| 128/128 [00:02<00:00, 46.36it/s]\n",
      "100%|██████████| 256/256 [00:05<00:00, 46.73it/s]\n",
      "  4%|▍         | 5/128 [00:00<00:02, 44.60it/s]"
     ]
    },
    {
     "name": "stdout",
     "output_type": "stream",
     "text": [
      "\n"
     ]
    },
    {
     "name": "stderr",
     "output_type": "stream",
     "text": [
      "100%|██████████| 128/128 [00:02<00:00, 45.92it/s]\n",
      "100%|██████████| 128/128 [00:02<00:00, 44.74it/s]\n",
      "100%|██████████| 256/256 [00:05<00:00, 47.14it/s]\n",
      "  5%|▍         | 6/128 [00:00<00:02, 52.91it/s]"
     ]
    },
    {
     "name": "stdout",
     "output_type": "stream",
     "text": [
      "\n"
     ]
    },
    {
     "name": "stderr",
     "output_type": "stream",
     "text": [
      "100%|██████████| 128/128 [00:02<00:00, 45.59it/s]\n",
      "100%|██████████| 128/128 [00:02<00:00, 45.94it/s]\n",
      "100%|██████████| 256/256 [00:05<00:00, 46.46it/s]\n",
      "  4%|▍         | 5/128 [00:00<00:02, 49.08it/s]"
     ]
    },
    {
     "name": "stdout",
     "output_type": "stream",
     "text": [
      "\n"
     ]
    },
    {
     "name": "stderr",
     "output_type": "stream",
     "text": [
      "100%|██████████| 128/128 [00:02<00:00, 49.06it/s]\n",
      "100%|██████████| 128/128 [00:02<00:00, 47.95it/s]\n",
      "100%|██████████| 256/256 [00:05<00:00, 48.01it/s]\n",
      "  8%|▊         | 10/128 [00:00<00:02, 44.11it/s]"
     ]
    },
    {
     "name": "stdout",
     "output_type": "stream",
     "text": [
      "\n"
     ]
    },
    {
     "name": "stderr",
     "output_type": "stream",
     "text": [
      "100%|██████████| 128/128 [00:02<00:00, 46.96it/s]\n",
      "100%|██████████| 128/128 [00:02<00:00, 46.68it/s]\n",
      "100%|██████████| 256/256 [00:05<00:00, 46.86it/s]\n",
      "  4%|▍         | 5/128 [00:00<00:02, 45.22it/s]"
     ]
    },
    {
     "name": "stdout",
     "output_type": "stream",
     "text": [
      "\n"
     ]
    },
    {
     "name": "stderr",
     "output_type": "stream",
     "text": [
      "100%|██████████| 128/128 [00:02<00:00, 46.84it/s]\n",
      "100%|██████████| 128/128 [00:02<00:00, 49.30it/s]\n",
      "100%|██████████| 256/256 [00:05<00:00, 48.76it/s]\n",
      "  5%|▍         | 6/128 [00:00<00:02, 52.15it/s]"
     ]
    },
    {
     "name": "stdout",
     "output_type": "stream",
     "text": [
      "\n"
     ]
    },
    {
     "name": "stderr",
     "output_type": "stream",
     "text": [
      "100%|██████████| 128/128 [00:02<00:00, 46.29it/s]\n",
      "100%|██████████| 128/128 [00:02<00:00, 46.78it/s]\n",
      "100%|██████████| 256/256 [00:05<00:00, 47.24it/s]\n",
      "  5%|▍         | 6/128 [00:00<00:02, 52.49it/s]"
     ]
    },
    {
     "name": "stdout",
     "output_type": "stream",
     "text": [
      "\n"
     ]
    },
    {
     "name": "stderr",
     "output_type": "stream",
     "text": [
      "100%|██████████| 128/128 [00:02<00:00, 47.99it/s]\n",
      "100%|██████████| 128/128 [00:02<00:00, 52.10it/s]\n",
      "100%|██████████| 256/256 [00:05<00:00, 47.48it/s]\n",
      "  4%|▍         | 5/128 [00:00<00:02, 42.21it/s]"
     ]
    },
    {
     "name": "stdout",
     "output_type": "stream",
     "text": [
      "\n"
     ]
    },
    {
     "name": "stderr",
     "output_type": "stream",
     "text": [
      "100%|██████████| 128/128 [00:02<00:00, 47.81it/s]\n",
      "100%|██████████| 128/128 [00:02<00:00, 47.60it/s]\n",
      "100%|██████████| 256/256 [00:05<00:00, 46.79it/s]\n",
      "  4%|▍         | 5/128 [00:00<00:02, 44.02it/s]"
     ]
    },
    {
     "name": "stdout",
     "output_type": "stream",
     "text": [
      "\n"
     ]
    },
    {
     "name": "stderr",
     "output_type": "stream",
     "text": [
      "100%|██████████| 128/128 [00:02<00:00, 46.00it/s]\n",
      "100%|██████████| 128/128 [00:02<00:00, 46.22it/s]\n",
      "100%|██████████| 256/256 [00:05<00:00, 47.47it/s]\n",
      "  9%|▊         | 11/128 [00:00<00:02, 54.15it/s]"
     ]
    },
    {
     "name": "stdout",
     "output_type": "stream",
     "text": [
      "\n"
     ]
    },
    {
     "name": "stderr",
     "output_type": "stream",
     "text": [
      "100%|██████████| 128/128 [00:02<00:00, 45.63it/s]\n",
      "100%|██████████| 128/128 [00:02<00:00, 47.66it/s]\n",
      "100%|██████████| 256/256 [00:05<00:00, 47.68it/s]\n",
      "  4%|▍         | 5/128 [00:00<00:02, 47.82it/s]"
     ]
    },
    {
     "name": "stdout",
     "output_type": "stream",
     "text": [
      "\n"
     ]
    },
    {
     "name": "stderr",
     "output_type": "stream",
     "text": [
      "100%|██████████| 128/128 [00:02<00:00, 46.37it/s]\n",
      "100%|██████████| 128/128 [00:02<00:00, 50.92it/s]\n",
      "100%|██████████| 256/256 [00:05<00:00, 47.49it/s]\n",
      "  4%|▍         | 5/128 [00:00<00:02, 44.05it/s]"
     ]
    },
    {
     "name": "stdout",
     "output_type": "stream",
     "text": [
      "\n"
     ]
    },
    {
     "name": "stderr",
     "output_type": "stream",
     "text": [
      "100%|██████████| 128/128 [00:02<00:00, 47.43it/s]\n",
      "100%|██████████| 128/128 [00:02<00:00, 47.63it/s]\n",
      "100%|██████████| 256/256 [00:05<00:00, 47.62it/s]\n",
      "  5%|▍         | 6/128 [00:00<00:02, 53.95it/s]"
     ]
    },
    {
     "name": "stdout",
     "output_type": "stream",
     "text": [
      "\n"
     ]
    },
    {
     "name": "stderr",
     "output_type": "stream",
     "text": [
      "100%|██████████| 128/128 [00:02<00:00, 48.38it/s]\n",
      "100%|██████████| 128/128 [00:02<00:00, 46.91it/s]\n",
      "100%|██████████| 256/256 [00:05<00:00, 47.35it/s]\n",
      "  8%|▊         | 10/128 [00:00<00:02, 45.50it/s]"
     ]
    },
    {
     "name": "stdout",
     "output_type": "stream",
     "text": [
      "\n"
     ]
    },
    {
     "name": "stderr",
     "output_type": "stream",
     "text": [
      "100%|██████████| 128/128 [00:02<00:00, 47.10it/s]\n",
      "100%|██████████| 128/128 [00:02<00:00, 49.21it/s]\n",
      "100%|██████████| 256/256 [00:05<00:00, 46.25it/s]\n",
      "  4%|▍         | 5/128 [00:00<00:02, 46.40it/s]"
     ]
    },
    {
     "name": "stdout",
     "output_type": "stream",
     "text": [
      "\n"
     ]
    },
    {
     "name": "stderr",
     "output_type": "stream",
     "text": [
      "100%|██████████| 128/128 [00:02<00:00, 48.35it/s]\n",
      "100%|██████████| 128/128 [00:02<00:00, 47.22it/s]\n",
      "100%|██████████| 256/256 [00:05<00:00, 46.58it/s]\n",
      "  9%|▊         | 11/128 [00:00<00:02, 51.71it/s]"
     ]
    },
    {
     "name": "stdout",
     "output_type": "stream",
     "text": [
      "\n"
     ]
    },
    {
     "name": "stderr",
     "output_type": "stream",
     "text": [
      "100%|██████████| 128/128 [00:02<00:00, 47.60it/s]\n",
      "100%|██████████| 128/128 [00:02<00:00, 47.04it/s]\n",
      "100%|██████████| 256/256 [00:05<00:00, 47.92it/s]\n",
      "  4%|▍         | 5/128 [00:00<00:02, 47.79it/s]"
     ]
    },
    {
     "name": "stdout",
     "output_type": "stream",
     "text": [
      "\n"
     ]
    },
    {
     "name": "stderr",
     "output_type": "stream",
     "text": [
      "100%|██████████| 128/128 [00:02<00:00, 48.83it/s]\n",
      "100%|██████████| 128/128 [00:02<00:00, 47.76it/s]\n",
      "100%|██████████| 256/256 [00:05<00:00, 48.86it/s]\n",
      "  4%|▍         | 5/128 [00:00<00:02, 45.82it/s]"
     ]
    },
    {
     "name": "stdout",
     "output_type": "stream",
     "text": [
      "\n"
     ]
    },
    {
     "name": "stderr",
     "output_type": "stream",
     "text": [
      "100%|██████████| 128/128 [00:02<00:00, 47.30it/s]\n",
      "100%|██████████| 128/128 [00:02<00:00, 49.70it/s]\n",
      "100%|██████████| 256/256 [00:05<00:00, 48.57it/s]\n",
      "  8%|▊         | 10/128 [00:00<00:02, 46.29it/s]"
     ]
    },
    {
     "name": "stdout",
     "output_type": "stream",
     "text": [
      "\n"
     ]
    },
    {
     "name": "stderr",
     "output_type": "stream",
     "text": [
      "100%|██████████| 128/128 [00:02<00:00, 47.16it/s]\n",
      "100%|██████████| 128/128 [00:02<00:00, 47.01it/s]\n",
      "100%|██████████| 256/256 [00:05<00:00, 49.87it/s]"
     ]
    },
    {
     "name": "stdout",
     "output_type": "stream",
     "text": [
      "\n"
     ]
    },
    {
     "name": "stderr",
     "output_type": "stream",
     "text": [
      "\n"
     ]
    }
   ],
   "source": [
    "\n",
    "c = coord.SkyCoord(ra=sim_chaos_RA *u.deg, dec=sim_chaos_dec*u.deg)\n",
    "\n",
    "c_l = c.transform_to(pal5_lead_frame)\n",
    "c_t = c.transform_to(pal5_trail_frame)\n",
    "\n",
    "Xl = np.stack((c_l.phi1.wrap_at(180*u.deg).degree,c_l.phi2.degree)).T\n",
    "Xt = np.stack((c_t.phi1.wrap_at(180*u.deg).degree,c_t.phi2.degree)).T\n",
    "\n",
    "\n",
    "phi1_bins = np.arange(0, 18+1e-3, 0.75)\n",
    "phi2_bins = np.arange(-2, 2+1e-3, 0.1)\n",
    "\n",
    "nwalkers = 64\n",
    "nburn = 128\n",
    "nsteps = 256\n",
    "\n",
    "\n",
    "phi2_min = -2.\n",
    "phi2_max = 2.\n",
    "\n",
    "data = dict()\n",
    "for name, X, _phi1_bins in zip(['lead', 'trail'],\n",
    "                           [Xl, Xt],\n",
    "                           [phi1_bins[:14], phi1_bins[:23]]):\n",
    "    phi2_mask = (X[:, 1] > phi2_min) & (X[:, 1] < phi2_max)\n",
    "\n",
    "    all_samplers = []\n",
    "    Ns = []\n",
    "    for i, l, r in zip(range(len(phi1_bins)-1),\n",
    "                   _phi1_bins[:-1],\n",
    "                   _phi1_bins[1:]):\n",
    "\n",
    "        phi1_mask = (X[:, 0] > l) & (X[:, 0] <= r)\n",
    "        binX = X[phi1_mask & phi2_mask]\n",
    "        Ns.append((phi1_mask & phi2_mask).sum())\n",
    "\n",
    "        H, _ = np.histogram(binX[:, 1], bins=phi2_bins)\n",
    "        phi2_bin_c = 0.5*(phi2_bins[:-1]+phi2_bins[1:])\n",
    "        mu = phi2_bin_c[H.argmax()]\n",
    "        if np.abs(mu) > 1.:\n",
    "            mu = 0.\n",
    "\n",
    "  # for 1-component gaussian                                                                                                      \n",
    "        p0 = (mu, np.log(0.1))\n",
    "\n",
    "        p0s = emcee.utils.sample_ball(p0, [1e-3]*len(p0), nwalkers)\n",
    "\n",
    "        sampler = emcee.EnsembleSampler(nwalkers, len(p0),\n",
    "                                    log_prob_fn=lnprob,\n",
    "                                    args=(binX[:, 1], ))\n",
    "\n",
    "        pos,*_ = sampler.run_mcmc(p0s, nburn, progress=True)\n",
    "        pos = emcee.utils.sample_ball(np.median(pos, axis=0),\n",
    "                                      [1e-3]*len(p0), nwalkers)\n",
    "# sampler.reset()                                                                                                               \n",
    "# _ = sampler.run_mcmc(pos, nburn, progress=True)                                                                               \n",
    "        sampler.reset()\n",
    "        pos,*_ = sampler.run_mcmc(pos, nburn, progress=True)\n",
    "        sampler.reset()\n",
    "        _ = sampler.run_mcmc(pos, nsteps, progress=True)\n",
    "        print()\n",
    "\n",
    "        all_samplers.append(sampler)\n",
    "\n",
    "\n",
    "    data[name] = dict()\n",
    "    data[name]['X'] = X\n",
    "    data[name]['samplers'] = all_samplers\n",
    "    data[name]['phi1_bins'] = _phi1_bins\n",
    "    data[name]['N'] = np.array(Ns)\n",
    "\n",
    "\n",
    "flatchains_chaos = dict()\n",
    "for name in data:\n",
    "    all_flatchains = []\n",
    "    for sampler in data[name]['samplers']:\n",
    "        all_flatchains.append(sampler.flatchain)\n",
    "\n",
    "    all_flatchains = np.array(all_flatchains)\n",
    "\n",
    "    flatchains_chaos[name] = Table()\n",
    "    for k, par in enumerate(param_names):\n",
    "        if par.startswith('ln_'):\n",
    "            flatchains_chaos[name][par] = all_flatchains[..., k]\n",
    "            flatchains_chaos[name][par[3:]] = np.exp(all_flatchains[..., k])\n",
    "        elif par.startswith('ln'):\n",
    "            flatchains_chaos[name][par] = all_flatchains[..., k]\n",
    "            flatchains_chaos[name][par[2:]] = np.exp(all_flatchains[..., k])\n",
    "        else:\n",
    "            flatchains_chaos[name][par] = all_flatchains[..., k]\n",
    "\n",
    "    phi1_bin_c_chaos = 0.5 * (data[name]['phi1_bins'][:-1] + data[name]['phi1_bins'][1:]) * u.deg\n",
    "    flatchains_chaos[name]['phi1_bin_c'] = phi1_bin_c_chaos \n",
    "    flatchains_chaos[name]['N'] = data[name]['N']\n"
   ]
  },
  {
   "cell_type": "code",
   "execution_count": 8,
   "metadata": {},
   "outputs": [],
   "source": [
    "#flatchains"
   ]
  },
  {
   "cell_type": "code",
   "execution_count": 9,
   "metadata": {},
   "outputs": [
    {
     "name": "stderr",
     "output_type": "stream",
     "text": [
      "100%|██████████| 128/128 [00:02<00:00, 45.89it/s]\n",
      "100%|██████████| 128/128 [00:02<00:00, 46.06it/s]\n",
      "100%|██████████| 256/256 [00:05<00:00, 49.40it/s]\n",
      "  4%|▍         | 5/128 [00:00<00:02, 45.25it/s]"
     ]
    },
    {
     "name": "stdout",
     "output_type": "stream",
     "text": [
      "\n"
     ]
    },
    {
     "name": "stderr",
     "output_type": "stream",
     "text": [
      "100%|██████████| 128/128 [00:02<00:00, 46.33it/s]\n",
      "100%|██████████| 128/128 [00:02<00:00, 49.37it/s]\n",
      "100%|██████████| 256/256 [00:05<00:00, 45.71it/s]\n",
      "  4%|▍         | 5/128 [00:00<00:02, 42.32it/s]"
     ]
    },
    {
     "name": "stdout",
     "output_type": "stream",
     "text": [
      "\n"
     ]
    },
    {
     "name": "stderr",
     "output_type": "stream",
     "text": [
      "100%|██████████| 128/128 [00:02<00:00, 44.32it/s]\n",
      "100%|██████████| 128/128 [00:02<00:00, 48.13it/s]\n",
      "100%|██████████| 256/256 [00:05<00:00, 44.21it/s]\n",
      "  4%|▍         | 5/128 [00:00<00:02, 49.98it/s]"
     ]
    },
    {
     "name": "stdout",
     "output_type": "stream",
     "text": [
      "\n"
     ]
    },
    {
     "name": "stderr",
     "output_type": "stream",
     "text": [
      "100%|██████████| 128/128 [00:02<00:00, 50.55it/s]\n",
      "100%|██████████| 128/128 [00:02<00:00, 47.18it/s]\n",
      "100%|██████████| 256/256 [00:05<00:00, 44.52it/s]\n",
      "  4%|▍         | 5/128 [00:00<00:02, 46.28it/s]"
     ]
    },
    {
     "name": "stdout",
     "output_type": "stream",
     "text": [
      "\n"
     ]
    },
    {
     "name": "stderr",
     "output_type": "stream",
     "text": [
      "100%|██████████| 128/128 [00:02<00:00, 50.25it/s]\n",
      "100%|██████████| 128/128 [00:02<00:00, 47.06it/s]\n",
      "100%|██████████| 256/256 [00:05<00:00, 47.34it/s]\n",
      "  5%|▍         | 6/128 [00:00<00:02, 56.24it/s]"
     ]
    },
    {
     "name": "stdout",
     "output_type": "stream",
     "text": [
      "\n"
     ]
    },
    {
     "name": "stderr",
     "output_type": "stream",
     "text": [
      "100%|██████████| 128/128 [00:02<00:00, 48.87it/s]\n",
      "100%|██████████| 128/128 [00:02<00:00, 47.55it/s]\n",
      "100%|██████████| 256/256 [00:05<00:00, 47.40it/s]\n",
      "  4%|▍         | 5/128 [00:00<00:02, 45.16it/s]"
     ]
    },
    {
     "name": "stdout",
     "output_type": "stream",
     "text": [
      "\n"
     ]
    },
    {
     "name": "stderr",
     "output_type": "stream",
     "text": [
      "100%|██████████| 128/128 [00:02<00:00, 46.52it/s]\n",
      "100%|██████████| 128/128 [00:02<00:00, 47.75it/s]\n",
      "100%|██████████| 256/256 [00:05<00:00, 47.72it/s]\n",
      "  8%|▊         | 10/128 [00:00<00:02, 42.57it/s]"
     ]
    },
    {
     "name": "stdout",
     "output_type": "stream",
     "text": [
      "\n"
     ]
    },
    {
     "name": "stderr",
     "output_type": "stream",
     "text": [
      "100%|██████████| 128/128 [00:02<00:00, 46.88it/s]\n",
      "100%|██████████| 128/128 [00:02<00:00, 44.41it/s]\n",
      "100%|██████████| 256/256 [00:05<00:00, 48.10it/s]\n",
      "  4%|▍         | 5/128 [00:00<00:02, 46.20it/s]"
     ]
    },
    {
     "name": "stdout",
     "output_type": "stream",
     "text": [
      "\n"
     ]
    },
    {
     "name": "stderr",
     "output_type": "stream",
     "text": [
      "100%|██████████| 128/128 [00:02<00:00, 47.54it/s]\n",
      "100%|██████████| 128/128 [00:02<00:00, 48.59it/s]\n",
      "100%|██████████| 256/256 [00:05<00:00, 48.70it/s]\n",
      "  9%|▊         | 11/128 [00:00<00:02, 52.74it/s]"
     ]
    },
    {
     "name": "stdout",
     "output_type": "stream",
     "text": [
      "\n"
     ]
    },
    {
     "name": "stderr",
     "output_type": "stream",
     "text": [
      "100%|██████████| 128/128 [00:02<00:00, 48.12it/s]\n",
      "100%|██████████| 128/128 [00:02<00:00, 49.92it/s]\n",
      "100%|██████████| 256/256 [00:05<00:00, 48.99it/s]\n",
      "  4%|▍         | 5/128 [00:00<00:02, 47.55it/s]"
     ]
    },
    {
     "name": "stdout",
     "output_type": "stream",
     "text": [
      "\n"
     ]
    },
    {
     "name": "stderr",
     "output_type": "stream",
     "text": [
      "100%|██████████| 128/128 [00:02<00:00, 44.48it/s]\n",
      "100%|██████████| 128/128 [00:02<00:00, 46.29it/s]\n",
      "100%|██████████| 256/256 [00:05<00:00, 44.91it/s]\n",
      "  8%|▊         | 10/128 [00:00<00:02, 42.76it/s]"
     ]
    },
    {
     "name": "stdout",
     "output_type": "stream",
     "text": [
      "\n"
     ]
    },
    {
     "name": "stderr",
     "output_type": "stream",
     "text": [
      "100%|██████████| 128/128 [00:02<00:00, 45.07it/s]\n",
      "100%|██████████| 128/128 [00:02<00:00, 46.86it/s]\n",
      "100%|██████████| 256/256 [00:05<00:00, 46.94it/s]\n",
      "  4%|▍         | 5/128 [00:00<00:02, 43.35it/s]"
     ]
    },
    {
     "name": "stdout",
     "output_type": "stream",
     "text": [
      "\n"
     ]
    },
    {
     "name": "stderr",
     "output_type": "stream",
     "text": [
      "100%|██████████| 128/128 [00:02<00:00, 46.94it/s]\n",
      "100%|██████████| 128/128 [00:02<00:00, 47.97it/s]\n",
      "100%|██████████| 256/256 [00:05<00:00, 46.32it/s]\n",
      "  4%|▍         | 5/128 [00:00<00:02, 41.42it/s]"
     ]
    },
    {
     "name": "stdout",
     "output_type": "stream",
     "text": [
      "\n"
     ]
    },
    {
     "name": "stderr",
     "output_type": "stream",
     "text": [
      "100%|██████████| 128/128 [00:02<00:00, 47.04it/s]\n",
      "100%|██████████| 128/128 [00:02<00:00, 48.09it/s]\n",
      "100%|██████████| 256/256 [00:05<00:00, 47.86it/s]\n",
      "  4%|▍         | 5/128 [00:00<00:02, 47.84it/s]"
     ]
    },
    {
     "name": "stdout",
     "output_type": "stream",
     "text": [
      "\n"
     ]
    },
    {
     "name": "stderr",
     "output_type": "stream",
     "text": [
      "100%|██████████| 128/128 [00:02<00:00, 45.31it/s]\n",
      "100%|██████████| 128/128 [00:02<00:00, 47.51it/s]\n",
      "100%|██████████| 256/256 [00:05<00:00, 45.67it/s]\n",
      "  4%|▍         | 5/128 [00:00<00:02, 42.39it/s]"
     ]
    },
    {
     "name": "stdout",
     "output_type": "stream",
     "text": [
      "\n"
     ]
    },
    {
     "name": "stderr",
     "output_type": "stream",
     "text": [
      "100%|██████████| 128/128 [00:02<00:00, 51.80it/s]\n",
      "100%|██████████| 128/128 [00:02<00:00, 46.28it/s]\n",
      "100%|██████████| 256/256 [00:05<00:00, 45.33it/s]\n",
      "  4%|▍         | 5/128 [00:00<00:02, 49.46it/s]"
     ]
    },
    {
     "name": "stdout",
     "output_type": "stream",
     "text": [
      "\n"
     ]
    },
    {
     "name": "stderr",
     "output_type": "stream",
     "text": [
      "100%|██████████| 128/128 [00:02<00:00, 48.29it/s]\n",
      "100%|██████████| 128/128 [00:02<00:00, 48.32it/s]\n",
      "100%|██████████| 256/256 [00:05<00:00, 47.33it/s]\n",
      "  9%|▊         | 11/128 [00:00<00:02, 53.16it/s]"
     ]
    },
    {
     "name": "stdout",
     "output_type": "stream",
     "text": [
      "\n"
     ]
    },
    {
     "name": "stderr",
     "output_type": "stream",
     "text": [
      "100%|██████████| 128/128 [00:02<00:00, 48.61it/s]\n",
      "100%|██████████| 128/128 [00:02<00:00, 47.86it/s]\n",
      "100%|██████████| 256/256 [00:05<00:00, 46.62it/s]\n",
      "  5%|▍         | 6/128 [00:00<00:02, 55.27it/s]"
     ]
    },
    {
     "name": "stdout",
     "output_type": "stream",
     "text": [
      "\n"
     ]
    },
    {
     "name": "stderr",
     "output_type": "stream",
     "text": [
      "100%|██████████| 128/128 [00:02<00:00, 47.06it/s]\n",
      "100%|██████████| 128/128 [00:02<00:00, 48.77it/s]\n",
      "100%|██████████| 256/256 [00:05<00:00, 46.56it/s]\n",
      "  4%|▍         | 5/128 [00:00<00:02, 45.26it/s]"
     ]
    },
    {
     "name": "stdout",
     "output_type": "stream",
     "text": [
      "\n"
     ]
    },
    {
     "name": "stderr",
     "output_type": "stream",
     "text": [
      "100%|██████████| 128/128 [00:02<00:00, 49.67it/s]\n",
      "100%|██████████| 128/128 [00:02<00:00, 49.49it/s]\n",
      "100%|██████████| 256/256 [00:05<00:00, 51.24it/s]\n",
      "  5%|▍         | 6/128 [00:00<00:02, 53.57it/s]"
     ]
    },
    {
     "name": "stdout",
     "output_type": "stream",
     "text": [
      "\n"
     ]
    },
    {
     "name": "stderr",
     "output_type": "stream",
     "text": [
      "100%|██████████| 128/128 [00:02<00:00, 48.65it/s]\n",
      "100%|██████████| 128/128 [00:02<00:00, 48.60it/s]\n",
      "100%|██████████| 256/256 [00:05<00:00, 48.59it/s]\n",
      "  8%|▊         | 10/128 [00:00<00:02, 44.78it/s]"
     ]
    },
    {
     "name": "stdout",
     "output_type": "stream",
     "text": [
      "\n"
     ]
    },
    {
     "name": "stderr",
     "output_type": "stream",
     "text": [
      "100%|██████████| 128/128 [00:02<00:00, 48.62it/s]\n",
      "100%|██████████| 128/128 [00:02<00:00, 47.28it/s]\n",
      "100%|██████████| 256/256 [00:05<00:00, 46.28it/s]\n",
      "  4%|▍         | 5/128 [00:00<00:02, 44.75it/s]"
     ]
    },
    {
     "name": "stdout",
     "output_type": "stream",
     "text": [
      "\n"
     ]
    },
    {
     "name": "stderr",
     "output_type": "stream",
     "text": [
      "100%|██████████| 128/128 [00:02<00:00, 48.63it/s]\n",
      "100%|██████████| 128/128 [00:02<00:00, 47.43it/s]\n",
      "100%|██████████| 256/256 [00:05<00:00, 47.29it/s]\n",
      "  9%|▊         | 11/128 [00:00<00:02, 51.92it/s]"
     ]
    },
    {
     "name": "stdout",
     "output_type": "stream",
     "text": [
      "\n"
     ]
    },
    {
     "name": "stderr",
     "output_type": "stream",
     "text": [
      "100%|██████████| 128/128 [00:02<00:00, 46.66it/s]\n",
      "100%|██████████| 128/128 [00:02<00:00, 46.73it/s]\n",
      "100%|██████████| 256/256 [00:05<00:00, 47.73it/s]\n",
      "  4%|▍         | 5/128 [00:00<00:02, 43.73it/s]"
     ]
    },
    {
     "name": "stdout",
     "output_type": "stream",
     "text": [
      "\n"
     ]
    },
    {
     "name": "stderr",
     "output_type": "stream",
     "text": [
      "100%|██████████| 128/128 [00:02<00:00, 47.88it/s]\n",
      "100%|██████████| 128/128 [00:02<00:00, 47.79it/s]\n",
      "100%|██████████| 256/256 [00:05<00:00, 47.15it/s]\n",
      "  5%|▍         | 6/128 [00:00<00:02, 54.90it/s]"
     ]
    },
    {
     "name": "stdout",
     "output_type": "stream",
     "text": [
      "\n"
     ]
    },
    {
     "name": "stderr",
     "output_type": "stream",
     "text": [
      "100%|██████████| 128/128 [00:02<00:00, 47.76it/s]\n",
      "100%|██████████| 128/128 [00:02<00:00, 46.46it/s]\n",
      "100%|██████████| 256/256 [00:05<00:00, 47.07it/s]\n",
      "  8%|▊         | 10/128 [00:00<00:02, 44.01it/s]"
     ]
    },
    {
     "name": "stdout",
     "output_type": "stream",
     "text": [
      "\n"
     ]
    },
    {
     "name": "stderr",
     "output_type": "stream",
     "text": [
      "100%|██████████| 128/128 [00:02<00:00, 47.14it/s]\n",
      "100%|██████████| 128/128 [00:02<00:00, 46.65it/s]\n",
      "100%|██████████| 256/256 [00:05<00:00, 49.65it/s]\n",
      "  8%|▊         | 10/128 [00:00<00:02, 44.57it/s]"
     ]
    },
    {
     "name": "stdout",
     "output_type": "stream",
     "text": [
      "\n"
     ]
    },
    {
     "name": "stderr",
     "output_type": "stream",
     "text": [
      "100%|██████████| 128/128 [00:02<00:00, 46.02it/s]\n",
      "100%|██████████| 128/128 [00:02<00:00, 47.11it/s]\n",
      "100%|██████████| 256/256 [00:05<00:00, 47.63it/s]\n",
      "  5%|▍         | 6/128 [00:00<00:02, 54.52it/s]"
     ]
    },
    {
     "name": "stdout",
     "output_type": "stream",
     "text": [
      "\n"
     ]
    },
    {
     "name": "stderr",
     "output_type": "stream",
     "text": [
      "100%|██████████| 128/128 [00:02<00:00, 45.85it/s]\n",
      "100%|██████████| 128/128 [00:02<00:00, 49.94it/s]\n",
      "100%|██████████| 256/256 [00:05<00:00, 48.65it/s]\n",
      "  4%|▍         | 5/128 [00:00<00:02, 44.28it/s]"
     ]
    },
    {
     "name": "stdout",
     "output_type": "stream",
     "text": [
      "\n"
     ]
    },
    {
     "name": "stderr",
     "output_type": "stream",
     "text": [
      "100%|██████████| 128/128 [00:02<00:00, 51.19it/s]\n",
      "100%|██████████| 128/128 [00:02<00:00, 49.22it/s]\n",
      "100%|██████████| 256/256 [00:05<00:00, 48.78it/s]\n",
      "  9%|▊         | 11/128 [00:00<00:02, 52.63it/s]"
     ]
    },
    {
     "name": "stdout",
     "output_type": "stream",
     "text": [
      "\n"
     ]
    },
    {
     "name": "stderr",
     "output_type": "stream",
     "text": [
      "100%|██████████| 128/128 [00:02<00:00, 50.85it/s]\n",
      "100%|██████████| 128/128 [00:02<00:00, 48.28it/s]\n",
      "100%|██████████| 256/256 [00:05<00:00, 48.35it/s]\n",
      "  4%|▍         | 5/128 [00:00<00:02, 44.71it/s]"
     ]
    },
    {
     "name": "stdout",
     "output_type": "stream",
     "text": [
      "\n"
     ]
    },
    {
     "name": "stderr",
     "output_type": "stream",
     "text": [
      "100%|██████████| 128/128 [00:02<00:00, 47.04it/s]\n",
      "100%|██████████| 128/128 [00:02<00:00, 47.08it/s]\n",
      "100%|██████████| 256/256 [00:05<00:00, 46.07it/s]\n",
      "  5%|▍         | 6/128 [00:00<00:02, 56.73it/s]"
     ]
    },
    {
     "name": "stdout",
     "output_type": "stream",
     "text": [
      "\n"
     ]
    },
    {
     "name": "stderr",
     "output_type": "stream",
     "text": [
      "100%|██████████| 128/128 [00:02<00:00, 47.96it/s]\n",
      "100%|██████████| 128/128 [00:02<00:00, 48.01it/s]\n",
      "100%|██████████| 256/256 [00:05<00:00, 47.40it/s]\n",
      "  4%|▍         | 5/128 [00:00<00:02, 44.93it/s]"
     ]
    },
    {
     "name": "stdout",
     "output_type": "stream",
     "text": [
      "\n"
     ]
    },
    {
     "name": "stderr",
     "output_type": "stream",
     "text": [
      "100%|██████████| 128/128 [00:02<00:00, 49.31it/s]\n",
      "100%|██████████| 128/128 [00:02<00:00, 43.57it/s]\n",
      "100%|██████████| 256/256 [00:05<00:00, 47.62it/s]\n",
      "  8%|▊         | 10/128 [00:00<00:02, 45.95it/s]"
     ]
    },
    {
     "name": "stdout",
     "output_type": "stream",
     "text": [
      "\n"
     ]
    },
    {
     "name": "stderr",
     "output_type": "stream",
     "text": [
      "100%|██████████| 128/128 [00:02<00:00, 48.45it/s]\n",
      "100%|██████████| 128/128 [00:02<00:00, 49.03it/s]\n",
      "100%|██████████| 256/256 [00:05<00:00, 47.73it/s]"
     ]
    },
    {
     "name": "stdout",
     "output_type": "stream",
     "text": [
      "\n"
     ]
    },
    {
     "name": "stderr",
     "output_type": "stream",
     "text": [
      "\n"
     ]
    }
   ],
   "source": [
    "#bar5e9\n",
    "\n",
    "\n",
    "c = coord.SkyCoord(ra=sim_bar5e9_RA *u.deg, dec=sim_bar5e9_dec*u.deg)\n",
    "\n",
    "c_l = c.transform_to(pal5_lead_frame)\n",
    "c_t = c.transform_to(pal5_trail_frame)\n",
    "\n",
    "Xl = np.stack((c_l.phi1.wrap_at(180*u.deg).degree,c_l.phi2.degree)).T\n",
    "Xt = np.stack((c_t.phi1.wrap_at(180*u.deg).degree,c_t.phi2.degree)).T\n",
    "\n",
    "\n",
    "phi1_bins = np.arange(0, 18+1e-3, 0.75)\n",
    "phi2_bins = np.arange(-2, 2+1e-3, 0.1)\n",
    "\n",
    "nwalkers = 64\n",
    "nburn = 128\n",
    "nsteps = 256\n",
    "\n",
    "\n",
    "phi2_min = -2.\n",
    "phi2_max = 2.\n",
    "\n",
    "data = dict()\n",
    "for name, X, _phi1_bins in zip(['lead', 'trail'],\n",
    "                           [Xl, Xt],\n",
    "                           [phi1_bins[:14], phi1_bins[:23]]):\n",
    "    phi2_mask = (X[:, 1] > phi2_min) & (X[:, 1] < phi2_max)\n",
    "\n",
    "    all_samplers = []\n",
    "    Ns = []\n",
    "    for i, l, r in zip(range(len(phi1_bins)-1),\n",
    "                   _phi1_bins[:-1],\n",
    "                   _phi1_bins[1:]):\n",
    "\n",
    "        phi1_mask = (X[:, 0] > l) & (X[:, 0] <= r)\n",
    "        binX = X[phi1_mask & phi2_mask]\n",
    "        Ns.append((phi1_mask & phi2_mask).sum())\n",
    "\n",
    "        H, _ = np.histogram(binX[:, 1], bins=phi2_bins)\n",
    "        phi2_bin_c = 0.5*(phi2_bins[:-1]+phi2_bins[1:])\n",
    "        mu = phi2_bin_c[H.argmax()]\n",
    "        if np.abs(mu) > 1.:\n",
    "            mu = 0.\n",
    "\n",
    "  # for 1-component gaussian                                                                                                      \n",
    "        p0 = (mu, np.log(0.1))\n",
    "\n",
    "        p0s = emcee.utils.sample_ball(p0, [1e-3]*len(p0), nwalkers)\n",
    "\n",
    "        sampler = emcee.EnsembleSampler(nwalkers, len(p0),\n",
    "                                    log_prob_fn=lnprob,\n",
    "                                    args=(binX[:, 1], ))\n",
    "\n",
    "        pos,*_ = sampler.run_mcmc(p0s, nburn, progress=True)\n",
    "        pos = emcee.utils.sample_ball(np.median(pos, axis=0),\n",
    "                                      [1e-3]*len(p0), nwalkers)\n",
    "# sampler.reset()                                                                                                               \n",
    "# _ = sampler.run_mcmc(pos, nburn, progress=True)                                                                               \n",
    "        sampler.reset()\n",
    "        pos,*_ = sampler.run_mcmc(pos, nburn, progress=True)\n",
    "        sampler.reset()\n",
    "        _ = sampler.run_mcmc(pos, nsteps, progress=True)\n",
    "        print()\n",
    "\n",
    "        all_samplers.append(sampler)\n",
    "\n",
    "\n",
    "    data[name] = dict()\n",
    "    data[name]['X'] = X\n",
    "    data[name]['samplers'] = all_samplers\n",
    "    data[name]['phi1_bins'] = _phi1_bins\n",
    "    data[name]['N'] = np.array(Ns)\n",
    "\n",
    "\n",
    "flatchains_bar5e9 = dict()\n",
    "for name in data:\n",
    "    all_flatchains = []\n",
    "    for sampler in data[name]['samplers']:\n",
    "        all_flatchains.append(sampler.flatchain)\n",
    "\n",
    "    all_flatchains = np.array(all_flatchains)\n",
    "\n",
    "    flatchains_bar5e9[name] = Table()\n",
    "    for k, par in enumerate(param_names):\n",
    "        if par.startswith('ln_'):\n",
    "            flatchains_bar5e9[name][par] = all_flatchains[..., k]\n",
    "            flatchains_bar5e9[name][par[3:]] = np.exp(all_flatchains[..., k])\n",
    "        elif par.startswith('ln'):\n",
    "            flatchains_bar5e9[name][par] = all_flatchains[..., k]\n",
    "            flatchains_bar5e9[name][par[2:]] = np.exp(all_flatchains[..., k])\n",
    "        else:\n",
    "            flatchains_bar5e9[name][par] = all_flatchains[..., k]\n",
    "\n",
    "    phi1_bin_c_bar5e9 = 0.5 * (data[name]['phi1_bins'][:-1] + data[name]['phi1_bins'][1:]) * u.deg\n",
    "    flatchains_bar5e9[name]['phi1_bin_c'] = phi1_bin_c_bar5e9\n",
    "    flatchains_bar5e9[name]['N'] = data[name]['N']\n"
   ]
  },
  {
   "cell_type": "code",
   "execution_count": 10,
   "metadata": {},
   "outputs": [],
   "source": [
    "#sim_bar1e10_RA"
   ]
  },
  {
   "cell_type": "code",
   "execution_count": 11,
   "metadata": {},
   "outputs": [
    {
     "name": "stderr",
     "output_type": "stream",
     "text": [
      "100%|██████████| 128/128 [00:02<00:00, 49.75it/s]\n",
      "100%|██████████| 128/128 [00:02<00:00, 46.75it/s]\n",
      "100%|██████████| 256/256 [00:05<00:00, 46.28it/s]\n",
      "  4%|▍         | 5/128 [00:00<00:02, 46.01it/s]"
     ]
    },
    {
     "name": "stdout",
     "output_type": "stream",
     "text": [
      "\n"
     ]
    },
    {
     "name": "stderr",
     "output_type": "stream",
     "text": [
      "100%|██████████| 128/128 [00:02<00:00, 48.59it/s]\n",
      "100%|██████████| 128/128 [00:02<00:00, 49.33it/s]\n",
      "100%|██████████| 256/256 [00:05<00:00, 47.77it/s]\n",
      "  4%|▍         | 5/128 [00:00<00:02, 47.00it/s]"
     ]
    },
    {
     "name": "stdout",
     "output_type": "stream",
     "text": [
      "\n"
     ]
    },
    {
     "name": "stderr",
     "output_type": "stream",
     "text": [
      "100%|██████████| 128/128 [00:02<00:00, 47.98it/s]\n",
      "100%|██████████| 128/128 [00:02<00:00, 46.97it/s]\n",
      "100%|██████████| 256/256 [00:05<00:00, 49.84it/s]\n",
      "  8%|▊         | 10/128 [00:00<00:02, 44.65it/s]"
     ]
    },
    {
     "name": "stdout",
     "output_type": "stream",
     "text": [
      "\n"
     ]
    },
    {
     "name": "stderr",
     "output_type": "stream",
     "text": [
      "100%|██████████| 128/128 [00:02<00:00, 47.11it/s]\n",
      "100%|██████████| 128/128 [00:02<00:00, 47.80it/s]\n",
      "100%|██████████| 256/256 [00:05<00:00, 46.98it/s]\n",
      "  5%|▍         | 6/128 [00:00<00:02, 56.43it/s]"
     ]
    },
    {
     "name": "stdout",
     "output_type": "stream",
     "text": [
      "\n"
     ]
    },
    {
     "name": "stderr",
     "output_type": "stream",
     "text": [
      "100%|██████████| 128/128 [00:02<00:00, 48.31it/s]\n",
      "100%|██████████| 128/128 [00:02<00:00, 48.91it/s]\n",
      "100%|██████████| 256/256 [00:05<00:00, 47.16it/s]\n",
      "  4%|▍         | 5/128 [00:00<00:02, 44.39it/s]"
     ]
    },
    {
     "name": "stdout",
     "output_type": "stream",
     "text": [
      "\n"
     ]
    },
    {
     "name": "stderr",
     "output_type": "stream",
     "text": [
      "100%|██████████| 128/128 [00:02<00:00, 48.17it/s]\n",
      "100%|██████████| 128/128 [00:02<00:00, 46.54it/s]\n",
      "100%|██████████| 256/256 [00:05<00:00, 43.22it/s]\n",
      "  4%|▍         | 5/128 [00:00<00:02, 49.20it/s]"
     ]
    },
    {
     "name": "stdout",
     "output_type": "stream",
     "text": [
      "\n"
     ]
    },
    {
     "name": "stderr",
     "output_type": "stream",
     "text": [
      "100%|██████████| 128/128 [00:02<00:00, 45.47it/s]\n",
      "100%|██████████| 128/128 [00:02<00:00, 45.76it/s]\n",
      "100%|██████████| 256/256 [00:05<00:00, 45.64it/s]\n",
      "  4%|▍         | 5/128 [00:00<00:02, 42.84it/s]"
     ]
    },
    {
     "name": "stdout",
     "output_type": "stream",
     "text": [
      "\n"
     ]
    },
    {
     "name": "stderr",
     "output_type": "stream",
     "text": [
      "100%|██████████| 128/128 [00:02<00:00, 48.24it/s]\n",
      "100%|██████████| 128/128 [00:02<00:00, 48.40it/s]\n",
      "100%|██████████| 256/256 [00:05<00:00, 47.47it/s]\n",
      "  8%|▊         | 10/128 [00:00<00:02, 47.79it/s]"
     ]
    },
    {
     "name": "stdout",
     "output_type": "stream",
     "text": [
      "\n"
     ]
    },
    {
     "name": "stderr",
     "output_type": "stream",
     "text": [
      "100%|██████████| 128/128 [00:02<00:00, 48.80it/s]\n",
      "100%|██████████| 128/128 [00:02<00:00, 50.42it/s]\n",
      "100%|██████████| 256/256 [00:05<00:00, 47.63it/s]\n",
      "  4%|▍         | 5/128 [00:00<00:02, 45.55it/s]"
     ]
    },
    {
     "name": "stdout",
     "output_type": "stream",
     "text": [
      "\n"
     ]
    },
    {
     "name": "stderr",
     "output_type": "stream",
     "text": [
      "100%|██████████| 128/128 [00:02<00:00, 46.60it/s]\n",
      "100%|██████████| 128/128 [00:02<00:00, 51.77it/s]\n",
      "100%|██████████| 256/256 [00:05<00:00, 46.95it/s]\n",
      "  4%|▍         | 5/128 [00:00<00:02, 42.95it/s]"
     ]
    },
    {
     "name": "stdout",
     "output_type": "stream",
     "text": [
      "\n"
     ]
    },
    {
     "name": "stderr",
     "output_type": "stream",
     "text": [
      "100%|██████████| 128/128 [00:02<00:00, 45.18it/s]\n",
      "100%|██████████| 128/128 [00:02<00:00, 47.62it/s]\n",
      "100%|██████████| 256/256 [00:05<00:00, 46.56it/s]\n",
      "  4%|▍         | 5/128 [00:00<00:02, 44.94it/s]"
     ]
    },
    {
     "name": "stdout",
     "output_type": "stream",
     "text": [
      "\n"
     ]
    },
    {
     "name": "stderr",
     "output_type": "stream",
     "text": [
      "100%|██████████| 128/128 [00:02<00:00, 45.51it/s]\n",
      "100%|██████████| 128/128 [00:02<00:00, 48.49it/s]\n",
      "100%|██████████| 256/256 [00:05<00:00, 47.82it/s]\n",
      "  5%|▍         | 6/128 [00:00<00:02, 57.05it/s]"
     ]
    },
    {
     "name": "stdout",
     "output_type": "stream",
     "text": [
      "\n"
     ]
    },
    {
     "name": "stderr",
     "output_type": "stream",
     "text": [
      "100%|██████████| 128/128 [00:02<00:00, 47.29it/s]\n",
      "100%|██████████| 128/128 [00:02<00:00, 46.69it/s]\n",
      "100%|██████████| 256/256 [00:05<00:00, 46.80it/s]\n",
      "  4%|▍         | 5/128 [00:00<00:02, 43.10it/s]"
     ]
    },
    {
     "name": "stdout",
     "output_type": "stream",
     "text": [
      "\n"
     ]
    },
    {
     "name": "stderr",
     "output_type": "stream",
     "text": [
      "100%|██████████| 128/128 [00:02<00:00, 46.03it/s]\n",
      "100%|██████████| 128/128 [00:02<00:00, 48.27it/s]\n",
      "100%|██████████| 256/256 [00:05<00:00, 46.34it/s]\n",
      "  4%|▍         | 5/128 [00:00<00:02, 47.64it/s]"
     ]
    },
    {
     "name": "stdout",
     "output_type": "stream",
     "text": [
      "\n"
     ]
    },
    {
     "name": "stderr",
     "output_type": "stream",
     "text": [
      "100%|██████████| 128/128 [00:02<00:00, 46.71it/s]\n",
      "100%|██████████| 128/128 [00:02<00:00, 47.09it/s]\n",
      "100%|██████████| 256/256 [00:05<00:00, 45.63it/s]\n",
      "  4%|▍         | 5/128 [00:00<00:02, 41.17it/s]"
     ]
    },
    {
     "name": "stdout",
     "output_type": "stream",
     "text": [
      "\n"
     ]
    },
    {
     "name": "stderr",
     "output_type": "stream",
     "text": [
      "100%|██████████| 128/128 [00:02<00:00, 45.35it/s]\n",
      "100%|██████████| 128/128 [00:02<00:00, 47.02it/s]\n",
      "100%|██████████| 256/256 [00:05<00:00, 48.47it/s]\n",
      "  5%|▍         | 6/128 [00:00<00:02, 53.47it/s]"
     ]
    },
    {
     "name": "stdout",
     "output_type": "stream",
     "text": [
      "\n"
     ]
    },
    {
     "name": "stderr",
     "output_type": "stream",
     "text": [
      "100%|██████████| 128/128 [00:02<00:00, 49.35it/s]\n",
      "100%|██████████| 128/128 [00:02<00:00, 48.97it/s]\n",
      "100%|██████████| 256/256 [00:05<00:00, 48.15it/s]\n",
      "  4%|▍         | 5/128 [00:00<00:02, 47.90it/s]"
     ]
    },
    {
     "name": "stdout",
     "output_type": "stream",
     "text": [
      "\n"
     ]
    },
    {
     "name": "stderr",
     "output_type": "stream",
     "text": [
      "100%|██████████| 128/128 [00:02<00:00, 47.07it/s]\n",
      "100%|██████████| 128/128 [00:02<00:00, 46.38it/s]\n",
      "100%|██████████| 256/256 [00:05<00:00, 47.79it/s]\n",
      "  4%|▍         | 5/128 [00:00<00:02, 45.19it/s]"
     ]
    },
    {
     "name": "stdout",
     "output_type": "stream",
     "text": [
      "\n"
     ]
    },
    {
     "name": "stderr",
     "output_type": "stream",
     "text": [
      "100%|██████████| 128/128 [00:02<00:00, 48.25it/s]\n",
      "100%|██████████| 128/128 [00:02<00:00, 45.81it/s]\n",
      "100%|██████████| 256/256 [00:05<00:00, 45.30it/s]\n",
      "  4%|▍         | 5/128 [00:00<00:02, 48.14it/s]"
     ]
    },
    {
     "name": "stdout",
     "output_type": "stream",
     "text": [
      "\n"
     ]
    },
    {
     "name": "stderr",
     "output_type": "stream",
     "text": [
      "100%|██████████| 128/128 [00:02<00:00, 43.43it/s]\n",
      "100%|██████████| 128/128 [00:02<00:00, 46.10it/s]\n",
      "100%|██████████| 256/256 [00:05<00:00, 47.94it/s]\n",
      "  4%|▍         | 5/128 [00:00<00:02, 45.21it/s]"
     ]
    },
    {
     "name": "stdout",
     "output_type": "stream",
     "text": [
      "\n"
     ]
    },
    {
     "name": "stderr",
     "output_type": "stream",
     "text": [
      "100%|██████████| 128/128 [00:02<00:00, 46.32it/s]\n",
      "100%|██████████| 128/128 [00:02<00:00, 44.34it/s]\n",
      "100%|██████████| 256/256 [00:05<00:00, 47.75it/s]\n",
      "  5%|▍         | 6/128 [00:00<00:02, 51.69it/s]"
     ]
    },
    {
     "name": "stdout",
     "output_type": "stream",
     "text": [
      "\n"
     ]
    },
    {
     "name": "stderr",
     "output_type": "stream",
     "text": [
      "100%|██████████| 128/128 [00:02<00:00, 47.29it/s]\n",
      "100%|██████████| 128/128 [00:02<00:00, 48.71it/s]\n",
      "100%|██████████| 256/256 [00:05<00:00, 48.55it/s]\n",
      "  8%|▊         | 10/128 [00:00<00:02, 48.58it/s]"
     ]
    },
    {
     "name": "stdout",
     "output_type": "stream",
     "text": [
      "\n"
     ]
    },
    {
     "name": "stderr",
     "output_type": "stream",
     "text": [
      "100%|██████████| 128/128 [00:02<00:00, 48.94it/s]\n",
      "100%|██████████| 128/128 [00:02<00:00, 47.96it/s]\n",
      "100%|██████████| 256/256 [00:05<00:00, 48.08it/s]\n",
      "  5%|▌         | 7/128 [00:00<00:02, 59.64it/s]"
     ]
    },
    {
     "name": "stdout",
     "output_type": "stream",
     "text": [
      "\n"
     ]
    },
    {
     "name": "stderr",
     "output_type": "stream",
     "text": [
      "100%|██████████| 128/128 [00:02<00:00, 48.06it/s]\n",
      "100%|██████████| 128/128 [00:02<00:00, 50.48it/s]\n",
      "100%|██████████| 256/256 [00:05<00:00, 47.75it/s]\n",
      "  4%|▍         | 5/128 [00:00<00:02, 45.53it/s]"
     ]
    },
    {
     "name": "stdout",
     "output_type": "stream",
     "text": [
      "\n"
     ]
    },
    {
     "name": "stderr",
     "output_type": "stream",
     "text": [
      "100%|██████████| 128/128 [00:02<00:00, 47.05it/s]\n",
      "100%|██████████| 128/128 [00:02<00:00, 46.92it/s]\n",
      "100%|██████████| 256/256 [00:05<00:00, 50.65it/s]\n",
      "  8%|▊         | 10/128 [00:00<00:02, 46.07it/s]"
     ]
    },
    {
     "name": "stdout",
     "output_type": "stream",
     "text": [
      "\n"
     ]
    },
    {
     "name": "stderr",
     "output_type": "stream",
     "text": [
      "100%|██████████| 128/128 [00:02<00:00, 48.22it/s]\n",
      "100%|██████████| 128/128 [00:02<00:00, 47.31it/s]\n",
      "100%|██████████| 256/256 [00:05<00:00, 45.35it/s]\n",
      "  4%|▍         | 5/128 [00:00<00:02, 49.06it/s]"
     ]
    },
    {
     "name": "stdout",
     "output_type": "stream",
     "text": [
      "\n"
     ]
    },
    {
     "name": "stderr",
     "output_type": "stream",
     "text": [
      "100%|██████████| 128/128 [00:02<00:00, 49.81it/s]\n",
      "100%|██████████| 128/128 [00:02<00:00, 48.03it/s]\n",
      "100%|██████████| 256/256 [00:05<00:00, 48.55it/s]\n",
      "  5%|▍         | 6/128 [00:00<00:02, 57.38it/s]"
     ]
    },
    {
     "name": "stdout",
     "output_type": "stream",
     "text": [
      "\n"
     ]
    },
    {
     "name": "stderr",
     "output_type": "stream",
     "text": [
      "100%|██████████| 128/128 [00:02<00:00, 47.45it/s]\n",
      "100%|██████████| 128/128 [00:02<00:00, 47.29it/s]\n",
      "100%|██████████| 256/256 [00:05<00:00, 47.68it/s]\n",
      "  4%|▍         | 5/128 [00:00<00:02, 45.42it/s]"
     ]
    },
    {
     "name": "stdout",
     "output_type": "stream",
     "text": [
      "\n"
     ]
    },
    {
     "name": "stderr",
     "output_type": "stream",
     "text": [
      "100%|██████████| 128/128 [00:02<00:00, 47.33it/s]\n",
      "100%|██████████| 128/128 [00:02<00:00, 47.57it/s]\n",
      "100%|██████████| 256/256 [00:05<00:00, 48.18it/s]\n",
      "  8%|▊         | 10/128 [00:00<00:02, 44.64it/s]"
     ]
    },
    {
     "name": "stdout",
     "output_type": "stream",
     "text": [
      "\n"
     ]
    },
    {
     "name": "stderr",
     "output_type": "stream",
     "text": [
      "100%|██████████| 128/128 [00:02<00:00, 47.24it/s]\n",
      "100%|██████████| 128/128 [00:02<00:00, 48.57it/s]\n",
      "100%|██████████| 256/256 [00:05<00:00, 49.55it/s]\n",
      "  5%|▍         | 6/128 [00:00<00:02, 52.01it/s]"
     ]
    },
    {
     "name": "stdout",
     "output_type": "stream",
     "text": [
      "\n"
     ]
    },
    {
     "name": "stderr",
     "output_type": "stream",
     "text": [
      "100%|██████████| 128/128 [00:02<00:00, 46.31it/s]\n",
      "100%|██████████| 128/128 [00:02<00:00, 46.35it/s]\n",
      "100%|██████████| 256/256 [00:05<00:00, 46.98it/s]\n",
      "  5%|▍         | 6/128 [00:00<00:02, 55.56it/s]"
     ]
    },
    {
     "name": "stdout",
     "output_type": "stream",
     "text": [
      "\n"
     ]
    },
    {
     "name": "stderr",
     "output_type": "stream",
     "text": [
      "100%|██████████| 128/128 [00:02<00:00, 47.21it/s]\n",
      "100%|██████████| 128/128 [00:02<00:00, 50.09it/s]\n",
      "100%|██████████| 256/256 [00:05<00:00, 46.97it/s]\n",
      "  8%|▊         | 10/128 [00:00<00:02, 47.92it/s]"
     ]
    },
    {
     "name": "stdout",
     "output_type": "stream",
     "text": [
      "\n"
     ]
    },
    {
     "name": "stderr",
     "output_type": "stream",
     "text": [
      "100%|██████████| 128/128 [00:02<00:00, 52.33it/s]\n",
      "100%|██████████| 128/128 [00:02<00:00, 45.35it/s]\n",
      "100%|██████████| 256/256 [00:05<00:00, 45.26it/s]\n",
      "  4%|▍         | 5/128 [00:00<00:02, 45.63it/s]"
     ]
    },
    {
     "name": "stdout",
     "output_type": "stream",
     "text": [
      "\n"
     ]
    },
    {
     "name": "stderr",
     "output_type": "stream",
     "text": [
      "100%|██████████| 128/128 [00:02<00:00, 47.10it/s]\n",
      "100%|██████████| 128/128 [00:02<00:00, 51.11it/s]\n",
      "100%|██████████| 256/256 [00:05<00:00, 48.35it/s]\n",
      "  5%|▍         | 6/128 [00:00<00:02, 55.89it/s]"
     ]
    },
    {
     "name": "stdout",
     "output_type": "stream",
     "text": [
      "\n"
     ]
    },
    {
     "name": "stderr",
     "output_type": "stream",
     "text": [
      "100%|██████████| 128/128 [00:02<00:00, 48.43it/s]\n",
      "100%|██████████| 128/128 [00:02<00:00, 50.27it/s]\n",
      "100%|██████████| 256/256 [00:05<00:00, 48.75it/s]"
     ]
    },
    {
     "name": "stdout",
     "output_type": "stream",
     "text": [
      "\n"
     ]
    },
    {
     "name": "stderr",
     "output_type": "stream",
     "text": [
      "\n"
     ]
    }
   ],
   "source": [
    "#bar1e10\n",
    "\n",
    "\n",
    "c = coord.SkyCoord(ra=sim_bar1e10_RA *u.deg, dec=sim_bar1e10_dec*u.deg)\n",
    "\n",
    "c_l = c.transform_to(pal5_lead_frame)\n",
    "c_t = c.transform_to(pal5_trail_frame)\n",
    "\n",
    "Xl = np.stack((c_l.phi1.wrap_at(180*u.deg).degree,c_l.phi2.degree)).T\n",
    "Xt = np.stack((c_t.phi1.wrap_at(180*u.deg).degree,c_t.phi2.degree)).T\n",
    "\n",
    "\n",
    "phi1_bins = np.arange(0, 18+1e-3, 0.75)\n",
    "phi2_bins = np.arange(-2, 2+1e-3, 0.1)\n",
    "\n",
    "nwalkers = 64\n",
    "nburn = 128\n",
    "nsteps = 256\n",
    "\n",
    "\n",
    "phi2_min = -2.\n",
    "phi2_max = 2.\n",
    "\n",
    "data = dict()\n",
    "for name, X, _phi1_bins in zip(['lead', 'trail'],\n",
    "                           [Xl, Xt],\n",
    "                           [phi1_bins[:14], phi1_bins[:23]]):\n",
    "    phi2_mask = (X[:, 1] > phi2_min) & (X[:, 1] < phi2_max)\n",
    "\n",
    "    all_samplers = []\n",
    "    Ns = []\n",
    "    for i, l, r in zip(range(len(phi1_bins)-1),\n",
    "                   _phi1_bins[:-1],\n",
    "                   _phi1_bins[1:]):\n",
    "\n",
    "        phi1_mask = (X[:, 0] > l) & (X[:, 0] <= r)\n",
    "        binX = X[phi1_mask & phi2_mask]\n",
    "        Ns.append((phi1_mask & phi2_mask).sum())\n",
    "\n",
    "        H, _ = np.histogram(binX[:, 1], bins=phi2_bins)\n",
    "        phi2_bin_c = 0.5*(phi2_bins[:-1]+phi2_bins[1:])\n",
    "        mu = phi2_bin_c[H.argmax()]\n",
    "        if np.abs(mu) > 1.:\n",
    "            mu = 0.\n",
    "\n",
    "  # for 1-component gaussian                                                                                                      \n",
    "        p0 = (mu, np.log(0.1))\n",
    "\n",
    "        p0s = emcee.utils.sample_ball(p0, [1e-3]*len(p0), nwalkers)\n",
    "\n",
    "        sampler = emcee.EnsembleSampler(nwalkers, len(p0),\n",
    "                                    log_prob_fn=lnprob,\n",
    "                                    args=(binX[:, 1], ))\n",
    "\n",
    "        pos,*_ = sampler.run_mcmc(p0s, nburn, progress=True)\n",
    "        pos = emcee.utils.sample_ball(np.median(pos, axis=0),\n",
    "                                      [1e-3]*len(p0), nwalkers)\n",
    "# sampler.reset()                                                                                                               \n",
    "# _ = sampler.run_mcmc(pos, nburn, progress=True)                                                                               \n",
    "        sampler.reset()\n",
    "        pos,*_ = sampler.run_mcmc(pos, nburn, progress=True)\n",
    "        sampler.reset()\n",
    "        _ = sampler.run_mcmc(pos, nsteps, progress=True)\n",
    "        print()\n",
    "\n",
    "        all_samplers.append(sampler)\n",
    "\n",
    "\n",
    "    data[name] = dict()\n",
    "    data[name]['X'] = X\n",
    "    data[name]['samplers'] = all_samplers\n",
    "    data[name]['phi1_bins'] = _phi1_bins\n",
    "    data[name]['N'] = np.array(Ns)\n",
    "\n",
    "\n",
    "flatchains_bar1e10 = dict()\n",
    "for name in data:\n",
    "    all_flatchains = []\n",
    "    for sampler in data[name]['samplers']:\n",
    "        all_flatchains.append(sampler.flatchain)\n",
    "\n",
    "    all_flatchains = np.array(all_flatchains)\n",
    "\n",
    "    flatchains_bar1e10[name] = Table()\n",
    "    for k, par in enumerate(param_names):\n",
    "        if par.startswith('ln_'):\n",
    "            flatchains_bar1e10[name][par] = all_flatchains[..., k]\n",
    "            flatchains_bar1e10[name][par[3:]] = np.exp(all_flatchains[..., k])\n",
    "        elif par.startswith('ln'):\n",
    "            flatchains_bar1e10[name][par] = all_flatchains[..., k]\n",
    "            flatchains_bar1e10[name][par[2:]] = np.exp(all_flatchains[..., k])\n",
    "        else:\n",
    "            flatchains_bar1e10[name][par] = all_flatchains[..., k]\n",
    "\n",
    "    phi1_bin_c_bar1e10 = 0.5 * (data[name]['phi1_bins'][:-1] + data[name]['phi1_bins'][1:]) * u.deg\n",
    "    flatchains_bar1e10[name]['phi1_bin_c'] = phi1_bin_c_bar1e10\n",
    "    flatchains_bar1e10[name]['N'] = data[name]['N']\n"
   ]
  },
  {
   "cell_type": "code",
   "execution_count": 12,
   "metadata": {},
   "outputs": [],
   "source": [
    "####Data####                                                                                                                          \n",
    "lead_tbl = Table.read('../data/pal5_lead_samples.fits')\n",
    "bin_mask_le = np.median(lead_tbl['a'] * lead_tbl['N'][:, None], axis=1) > 50.\n",
    "\n",
    "trail_tbl = Table.read('../data/pal5_trail_samples.fits')\n",
    "bin_mask_tr = np.median(trail_tbl['a'] * trail_tbl['N'][:, None], axis=1) > 50.\n",
    "\n",
    "###Data                                                                                                                             \n",
    "med_le = np.median(lead_tbl['std_s'], axis=1)\n",
    "err1_le = med_le - np.percentile(lead_tbl['std_s'], 16, axis=1)\n",
    "err2_le = np.percentile(lead_tbl['std_s'], 84, axis=1) - med_le\n",
    "\n",
    "med_tr = np.median(trail_tbl['std_s'], axis=1)\n",
    "err1_tr = med_tr - np.percentile(trail_tbl['std_s'], 16, axis=1)\n",
    "err2_tr = np.percentile(trail_tbl['std_s'], 84, axis=1) - med_tr"
   ]
  },
  {
   "cell_type": "code",
   "execution_count": 13,
   "metadata": {},
   "outputs": [],
   "source": [
    "#flatchains_bar1e10\n",
    "mpl.rcParams.update({'font.size': 20})\n",
    "label_size = 20\n",
    "matplotlib.rcParams['xtick.labelsize'] = 18#label_size \n",
    "matplotlib.rcParams['ytick.labelsize'] = 18#label_size \n",
    "    "
   ]
  },
  {
   "cell_type": "code",
   "execution_count": 14,
   "metadata": {},
   "outputs": [
    {
     "data": {
      "image/png": "[encoded data removed]",
      "text/plain": [
       "<Figure size 1296x648 with 2 Axes>"
      ]
     },
     "metadata": {},
     "output_type": "display_data"
    }
   ],
   "source": [
    "\n",
    "####Data####                                                                                                                          \n",
    "lead_tbl = Table.read('../data/pal5_lead_samples.fits')\n",
    "bin_mask_le = np.median(lead_tbl['a'] * lead_tbl['N'][:, None], axis=1) > 50.\n",
    "\n",
    "trail_tbl = Table.read('../data/pal5_trail_samples.fits')\n",
    "bin_mask_tr = np.median(trail_tbl['a'] * trail_tbl['N'][:, None], axis=1) > 50.\n",
    "\n",
    "###Data                                                                                                                             \n",
    "med_le = np.median(lead_tbl['std_s'], axis=1)\n",
    "err1_le = med_le - np.percentile(lead_tbl['std_s'], 16, axis=1)\n",
    "err2_le = np.percentile(lead_tbl['std_s'], 84, axis=1) - med_le\n",
    "\n",
    "med_tr = np.median(trail_tbl['std_s'], axis=1)\n",
    "err1_tr = med_tr - np.percentile(trail_tbl['std_s'], 16, axis=1)\n",
    "err2_tr = np.percentile(trail_tbl['std_s'], 84, axis=1) - med_tr\n",
    "\n",
    "\n",
    "\n",
    "fig,axes = plt.subplots(1, 2,figsize=(18,9), sharex=True)\n",
    "for name in data.keys():\n",
    "    if name=='trail':\n",
    "        c = 'black'\n",
    "        c1 = 'steelblue'\n",
    "    else:\n",
    "        c = 'maroon'\n",
    "        c1= 'red'\n",
    "    flatchain_reg = flatchains_reg[name]\n",
    "    flatchain_chaos = flatchains_chaos[name]\n",
    "    flatchain_bar5e9 = flatchains_bar5e9[name]\n",
    "    flatchain_bar1e10 = flatchains_bar1e10[name]\n",
    "    med_reg = np.median(flatchain_reg['std_s'], axis=1)\n",
    "    med_chaos = np.median(flatchain_chaos['std_s'], axis=1)\n",
    "    med_bar5e9 = np.median(flatchain_bar5e9['std_s'], axis=1)\n",
    "    med_bar1e10 = np.median(flatchain_bar1e10['std_s'], axis=1)\n",
    "    axes[0].plot(flatchains_reg[name]['phi1_bin_c'], med_reg, linestyle='--', label='MW14 regular, '+name, color=c1)\n",
    "    axes[0].plot(flatchains_chaos[name]['phi1_bin_c'], med_chaos, linestyle='-', label='MW14: chaotic, '+name, color=c1)\n",
    "    axes[0].plot(flatchains_bar5e9[name]['phi1_bin_c'], med_bar5e9, linestyle='-.', label='$M_b$=5e9, $\\Omega$=39, '+name, color=c)\n",
    "    axes[0].plot(flatchains_bar1e10[name]['phi1_bin_c'], med_bar1e10, linestyle=':', label='$M_b$=1e10, $\\Omega$=40, '+name, color=c)\n",
    "\n",
    "axes[0].errorbar(lead_tbl['phi1_bin_c'][bin_mask_le],\n",
    "                     med_le[bin_mask_le],\n",
    "                     yerr=(err1_le[bin_mask_le], err2_le[bin_mask_le]),\n",
    "                     marker='o', ls='none',ecolor='maroon', color='maroon',label='data: lead')\n",
    "\n",
    "axes[0].errorbar(trail_tbl['phi1_bin_c'][bin_mask_tr],\n",
    "                     med_tr[bin_mask_tr],\n",
    "                     yerr=(err1_tr[bin_mask_tr], err2_tr[bin_mask_tr]),\n",
    "                     marker='o', ls='none', ecolor='black', color='black',label='data: trail')\n",
    "\n",
    "\n",
    "axes[0].set_xlim(0, 24)\n",
    "axes[0].set_ylim(0, 0.6)\n",
    "axes[0].set_xlabel(r'$\\Delta \\phi_1$ [deg]')\n",
    "axes[0].set_ylabel(r'$\\sigma$ [deg]')\n",
    "axes[0].legend(loc='upper right', fontsize=15)\n",
    "#axes[0].set_yscale('log')\n",
    "\n",
    "med_le = np.median(lead_tbl['mu_s'], axis=1)\n",
    "err1_le = med_le - np.percentile(lead_tbl['mu_s'], 16, axis=1)\n",
    "err2_le = np.percentile(lead_tbl['mu_s'], 84, axis=1) - med_le\n",
    "\n",
    "med_tr = np.median(trail_tbl['mu_s'], axis=1)\n",
    "err1_tr = med_tr - np.percentile(trail_tbl['mu_s'], 16, axis=1)\n",
    "err2_tr = np.percentile(trail_tbl['mu_s'], 84, axis=1) - med_tr\n",
    "\n",
    "\n",
    "for name in data.keys():\n",
    "    if name=='trail':\n",
    "        c = 'black'\n",
    "        c1 = 'steelblue'\n",
    "    else:\n",
    "        c = 'maroon'\n",
    "        c1 = 'red'\n",
    "    flatchain_reg = flatchains_reg[name]\n",
    "    flatchain_chaos = flatchains_chaos[name]\n",
    "    flatchain_bar5e9 = flatchains_bar5e9[name]\n",
    "    flatchain_bar1e10 = flatchains_bar1e10[name]\n",
    "    med_reg = np.median(flatchain_reg['mu_s'], axis=1)\n",
    "    med_chaos = np.median(flatchain_chaos['mu_s'], axis=1)\n",
    "    med_bar5e9 = np.median(flatchain_bar5e9['mu_s'], axis=1)\n",
    "    med_bar1e10 = np.median(flatchain_bar1e10['mu_s'], axis=1)\n",
    "    axes[1].plot(flatchain_reg['phi1_bin_c'], med_reg, linestyle='--', label='MW14 regular, '+name, color=c1)\n",
    "    axes[1].plot(flatchains_chaos[name]['phi1_bin_c'], med_chaos, linestyle='-', label='MW14: chaotic, '+name, color=c1)\n",
    "    axes[1].plot(flatchains_bar5e9[name]['phi1_bin_c'], med_bar5e9, linestyle='-.', label='$M_b$=5e9, $\\Omega$=39, '+name, color=c)\n",
    "    axes[1].plot(flatchains_bar1e10[name]['phi1_bin_c'], med_bar1e10, linestyle=':', label='$M_b$=1e10, $\\Omega$=40, '+name, color=c)\n",
    "\n",
    "\n",
    "axes[1].errorbar(lead_tbl['phi1_bin_c'][bin_mask_le],\n",
    "             med_le[bin_mask_le],\n",
    "             yerr=(err1_le[bin_mask_le], err2_le[bin_mask_le]),\n",
    "             marker='o', ls='none',ecolor='maroon', color='maroon',label='data: lead')\n",
    "\n",
    "axes[1].errorbar(trail_tbl['phi1_bin_c'][bin_mask_tr],\n",
    "            med_tr[bin_mask_tr],\n",
    "            yerr=(err1_tr[bin_mask_tr], err2_tr[bin_mask_tr]),\n",
    "            marker='o', ls='none', ecolor='black', color='black',label='data: trail')\n",
    "\n",
    "\n",
    "axes[1].set_xlim(0, 24)\n",
    "axes[1].set_ylim(-1, 1)\n",
    "axes[1].set_xlabel(r'$\\Delta \\phi_1$ [deg]')\n",
    "axes[1].set_ylabel('$\\Delta \\phi_2$ [deg]')\n",
    "axes[1].legend(loc='upper right', fontsize=15)\n",
    "#ax.set_aspect('equal')                                                                                                                 \n",
    "fig.tight_layout()                                                                                                                 \\\n",
    "\n",
    "fig.savefig('Morphology/width_wiggle.pdf',dpi=400, rasterized=True)"
   ]
  },
  {
   "cell_type": "code",
   "execution_count": 15,
   "metadata": {},
   "outputs": [],
   "source": [
    "xReg = flatchains_reg[name]['phi1_bin_c']\n",
    "widthReg = np.median(flatchain_reg['std_s'], axis=1)\n",
    "wiggleReg = np.median(flatchain_reg['mu_s'], axis=1)\n",
    "dataReg = np.array([xReg ,widthReg,wiggleReg])\n",
    "reg = np.savetxt('WidthTrack_Reg.txt', dataReg.T)\n",
    "\n",
    "\n",
    "xchaos = flatchains_chaos[name]['phi1_bin_c']\n",
    "widthchaos = np.median(flatchain_chaos['std_s'], axis=1)\n",
    "wigglechaos = np.median(flatchain_chaos['mu_s'], axis=1)\n",
    "datachaos = np.array([xchaos ,widthchaos,wigglechaos])\n",
    "chaos = np.savetxt('WidthTrack_Chaos.txt', datachaos.T)\n",
    "\n",
    "\n",
    "\n",
    "xbar5e9  = flatchains_bar5e9 [name]['phi1_bin_c']\n",
    "widthbar5e9  = np.median(flatchain_bar5e9 ['std_s'], axis=1)\n",
    "wigglebar5e9  = np.median(flatchain_bar5e9 ['mu_s'], axis=1)\n",
    "databar5e9  = np.array([xbar5e9  ,widthReg,wigglebar5e9 ])\n",
    "bar5e9  = np.savetxt('WidthTrack_bar5e9.txt', databar5e9.T)\n",
    "\n",
    "\n",
    "\n",
    "xbar1e10 = flatchains_bar1e10[name]['phi1_bin_c']\n",
    "widthbar1e10 = np.median(flatchain_bar1e10['std_s'], axis=1)\n",
    "wigglebar1e10 = np.median(flatchain_bar1e10['mu_s'], axis=1)\n",
    "databar1e10 = np.array([xbar1e10 ,widthbar1e10,wigglebar1e10])\n",
    "bar1e10 = np.savetxt('WidthTrack_bar1e10.txt', databar1e10.T)\n"
   ]
  },
  {
   "cell_type": "code",
   "execution_count": 16,
   "metadata": {},
   "outputs": [
    {
     "data": {
      "text/plain": [
       "(22, 3)"
      ]
     },
     "execution_count": 16,
     "metadata": {},
     "output_type": "execute_result"
    }
   ],
   "source": [
    "datachaos.T.shape"
   ]
  },
  {
   "cell_type": "code",
   "execution_count": null,
   "metadata": {},
   "outputs": [],
   "source": []
  }
 ],
 "metadata": {
  "kernelspec": {
   "display_name": "Python 3",
   "language": "python",
   "name": "python3"
  },
  "language_info": {
   "codemirror_mode": {
    "name": "ipython",
    "version": 3
   },
   "file_extension": ".py",
   "mimetype": "text/x-python",
   "name": "python",
   "nbconvert_exporter": "python",
   "pygments_lexer": "ipython3",
   "version": "3.6.5"
  }
 },
 "nbformat": 4,
 "nbformat_minor": 2
}
