{
 "cells": [
  {
   "cell_type": "code",
   "execution_count": 2,
   "metadata": {},
   "outputs": [
    {
     "name": "stderr",
     "output_type": "stream",
     "text": [
      "WARNING: AstropyDeprecationWarning: astropy.extern.six will be removed in 4.0, use the six module directly if it is still needed [astropy.extern.six]\n"
     ]
    }
   ],
   "source": [
    "import os\n",
    "import warnings\n",
    "\n",
    "import numpy as np\n",
    "import matplotlib as mpl\n",
    "import matplotlib.pyplot as plt\n",
    "%matplotlib inline\n",
    "\n",
    "import astropy.table\n",
    "import astropy.coordinates as coord\n",
    "from astropy.io import fits\n",
    "from astropy.table import Table\n",
    "import astropy.units as u\n",
    "from tqdm import tqdm\n",
    "import emcee\n",
    "import h5py\n",
    "\n",
    "import gala.coordinates as gc\n",
    "import gala.dynamics as gd\n",
    "import gala.potential as gp\n",
    "from schwimmbad import MultiPool\n",
    "\n",
    "from coordinates import (pal5_c, galcen_frame, \n",
    "                         pal5_lead_frame, pal5_trail_frame)\n",
    "\n",
    "from density_1d import run_it_all"
   ]
  },
  {
   "cell_type": "markdown",
   "metadata": {},
   "source": [
    "Grab coordinates of M5, and remove stars close to M5 or the Pal 5 cluster:"
   ]
  },
  {
   "cell_type": "code",
   "execution_count": 2,
   "metadata": {},
   "outputs": [],
   "source": [
    "# m5_c = coord.SkyCoord.from_name('Messier 5')\n",
    "m5_c = coord.SkyCoord('15 18 33.22', '+02 04 51.7', \n",
    "                      unit=(u.hourangle, u.degree))"
   ]
  },
  {
   "cell_type": "code",
   "execution_count": 3,
   "metadata": {},
   "outputs": [],
   "source": [
    "ana = fits.getdata('../data/pal5_ls_lite_grz.fits')\n",
    "ana_masks = fits.getdata('../data/cmd_masks_orig.fits')\n",
    "ana = ana[ana_masks['gr_mask'] & ana_masks['grz_mask']]\n",
    "\n",
    "data_c = coord.SkyCoord(ra=ana['ra'], dec=ana['dec'], unit=u.deg)\n",
    "pal5_m5_mask = (data_c.separation(pal5_c) > 0.2*u.deg) & (data_c.separation(m5_c) > 0.3*u.deg)\n",
    "data_c = data_c[pal5_m5_mask]"
   ]
  },
  {
   "cell_type": "markdown",
   "metadata": {},
   "source": [
    "Load Ana's spatial mask around the deeper footprint:"
   ]
  },
  {
   "cell_type": "code",
   "execution_count": 4,
   "metadata": {},
   "outputs": [],
   "source": [
    "mask_zlim = 23.7\n",
    "mask_pts = np.load('../data/concave_hull_z{:.1f}.npz'.format(mask_zlim))['pts']\n",
    "path_concavehull = mpl.path.Path(mask_pts)\n",
    "\n",
    "_c = data_c.transform_to(gc.Pal5)\n",
    "_X = np.stack((_c.phi1.degree, _c.phi2.degree)).T\n",
    "deep_mask = path_concavehull.contains_points(_X)"
   ]
  },
  {
   "cell_type": "code",
   "execution_count": 5,
   "metadata": {},
   "outputs": [
    {
     "name": "stderr",
     "output_type": "stream",
     "text": [
      "\r",
      "  0%|          | 0/11 [00:00<?, ?it/s]"
     ]
    },
    {
     "name": "stdout",
     "output_type": "stream",
     "text": [
      "running measurements for 'lead'\n"
     ]
    },
    {
     "name": "stderr",
     "output_type": "stream",
     "text": [
      "/home/ana/projects/Pal5sBiggestFan/notebooks/density_1d.py:126: RuntimeWarning: invalid value encountered in log\n",
      "  6*c*phi2_max + 3*b*phi2_max**2 + 2*a*phi2_max**3)\n",
      "/home/ana/projects/Pal5sBiggestFan/notebooks/density_1d.py:127: RuntimeWarning: invalid value encountered in log\n",
      "  bg_ll = lnA + np.log(a*phi2**2 + b*phi2 + c)\n",
      "/home/ana/projects/Pal5sBiggestFan/notebooks/density_1d.py:126: RuntimeWarning: invalid value encountered in log\n",
      "  6*c*phi2_max + 3*b*phi2_max**2 + 2*a*phi2_max**3)\n",
      "/home/ana/projects/Pal5sBiggestFan/notebooks/density_1d.py:127: RuntimeWarning: invalid value encountered in log\n",
      "  bg_ll = lnA + np.log(a*phi2**2 + b*phi2 + c)\n",
      "/home/ana/projects/Pal5sBiggestFan/notebooks/density_1d.py:126: RuntimeWarning: invalid value encountered in log\n",
      "  6*c*phi2_max + 3*b*phi2_max**2 + 2*a*phi2_max**3)\n",
      "/home/ana/projects/Pal5sBiggestFan/notebooks/density_1d.py:127: RuntimeWarning: invalid value encountered in log\n",
      "  bg_ll = lnA + np.log(a*phi2**2 + b*phi2 + c)\n",
      "/home/ana/projects/Pal5sBiggestFan/notebooks/density_1d.py:127: RuntimeWarning: invalid value encountered in log\n",
      "  bg_ll = lnA + np.log(a*phi2**2 + b*phi2 + c)\n",
      "/home/ana/projects/Pal5sBiggestFan/notebooks/density_1d.py:126: RuntimeWarning: invalid value encountered in log\n",
      "  6*c*phi2_max + 3*b*phi2_max**2 + 2*a*phi2_max**3)\n",
      "100%|██████████| 11/11 [08:24<00:00, 44.70s/it]\n",
      "  0%|          | 0/22 [00:00<?, ?it/s]"
     ]
    },
    {
     "name": "stdout",
     "output_type": "stream",
     "text": [
      "running measurements for 'trail'\n"
     ]
    },
    {
     "name": "stderr",
     "output_type": "stream",
     "text": [
      "100%|██████████| 22/22 [15:12<00:00, 38.19s/it]\n"
     ]
    }
   ],
   "source": [
    "with MultiPool() as pool:\n",
    "    with warnings.catch_warnings():\n",
    "        warnings.simplefilter(\"ignore\")\n",
    "        tbls = run_it_all(data_c[deep_mask], 'data', pool=pool)"
   ]
  },
  {
   "cell_type": "code",
   "execution_count": 24,
   "metadata": {},
   "outputs": [],
   "source": [
    "# output\n",
    "tlead = Table(np.zeros((len(tbls['lead']),13)),names=('phi1','phi2','phi2_em','phi2_ep','w','w_em','w_ep',\n",
    "                                                       'f','f_em','f_ep','n','n_em','n_ep'))\n",
    "ttrail = Table(np.zeros((len(tbls['trail']),13)),names=('phi1','phi2','phi2_em','phi2_ep','w','w_em','w_ep',\n",
    "                                                       'f','f_em','f_ep','n','n_em','n_ep'))\n",
    "# ttrail = Table(names=('phi1','phi2','phi2_em','phi2_ep','w','w_em','w_ep','f','f_em','f_ep','n','n_em','n_ep'))\n",
    "tout = {'lead': tlead, 'trail': ttrail}"
   ]
  },
  {
   "cell_type": "code",
   "execution_count": 25,
   "metadata": {},
   "outputs": [
    {
     "name": "stdout",
     "output_type": "stream",
     "text": [
      "lead 11 11\n",
      "trail 22 22\n"
     ]
    },
    {
     "data": {
      "image/png": "[encoded data removed]",
      "text/plain": [
       "<Figure size 432x432 with 1 Axes>"
      ]
     },
     "metadata": {},
     "output_type": "display_data"
    }
   ],
   "source": [
    "fig = plt.figure(figsize=(6, 6))\n",
    "\n",
    "for name in tbls.keys():\n",
    "    tbl = tbls[name]\n",
    "    med = np.median(tbl['std_s'], axis=1)\n",
    "    err1 = med - np.percentile(tbl['std_s'], 16, axis=1)\n",
    "    err2 = np.percentile(tbl['std_s'], 84, axis=1) - med\n",
    "    plt.errorbar(tbl['phi1_c'], med, yerr=(err1, err2),\n",
    "                 ls='none', marker='o', label=name)\n",
    "    \n",
    "    tout[name]['phi1'] = tbl['phi1_c']\n",
    "    tout[name]['w'] = med\n",
    "    tout[name]['w_em'] = err1\n",
    "    tout[name]['w_ep'] = err2\n",
    "    \n",
    "plt.legend(loc='best', fontsize=15)\n",
    "    \n",
    "plt.xlim(0, 17)\n",
    "plt.xticks(np.arange(0, 16+1e-3, 2))\n",
    "plt.ylim(0, 0.6)\n",
    "\n",
    "plt.xlabel(r'$\\Delta \\phi_1$ [deg]')\n",
    "plt.ylabel(r'$\\sigma$ [deg]')\n",
    "fig.set_facecolor('w')\n",
    "fig.tight_layout()\n",
    "\n",
    "# fig.savefig('../plots/density-1d-width.png', dpi=250)"
   ]
  },
  {
   "cell_type": "code",
   "execution_count": 26,
   "metadata": {},
   "outputs": [
    {
     "data": {
      "image/png": "[encoded data removed]",
      "text/plain": [
       "<Figure size 576x288 with 1 Axes>"
      ]
     },
     "metadata": {},
     "output_type": "display_data"
    }
   ],
   "source": [
    "fig = plt.figure(figsize=(8,4))\n",
    "\n",
    "for name in tbls.keys():\n",
    "    tbl = tbls[name]\n",
    "    med = np.median(tbl['mu_s'], axis=1)\n",
    "    err1 = med - np.percentile(tbl['mu_s'], 16, axis=1)\n",
    "    err2 = np.percentile(tbl['mu_s'], 84, axis=1) - med\n",
    "    \n",
    "    tout[name]['phi2'] = med\n",
    "    tout[name]['phi2_em'] = err1\n",
    "    tout[name]['phi2_ep'] = err2\n",
    "    \n",
    "    plt.errorbar(tbl['phi1_c'], med, yerr=(err1, err2),\n",
    "                 ls='none', marker='o', label=name)\n",
    "plt.legend(loc='best', fontsize=15)\n",
    "    \n",
    "plt.xlim(0, 17)\n",
    "plt.ylim(-1, 1)\n",
    "plt.xticks(np.arange(0, 16+1e-3, 2))\n",
    "\n",
    "plt.xlabel(r'$\\Delta \\phi_1$ [deg]')\n",
    "plt.ylabel('$\\Delta \\phi_2$ [deg]')\n",
    "fig.set_facecolor('w')\n",
    "fig.tight_layout()\n",
    "\n",
    "# fig.savefig('../plots/density-1d-track.png', dpi=250)"
   ]
  },
  {
   "cell_type": "code",
   "execution_count": 27,
   "metadata": {},
   "outputs": [
    {
     "data": {
      "text/plain": [
       "Text(0, 0.5, '$f$')"
      ]
     },
     "execution_count": 27,
     "metadata": {},
     "output_type": "execute_result"
    },
    {
     "data": {
      "image/png": "[encoded data removed]",
      "text/plain": [
       "<Figure size 576x288 with 1 Axes>"
      ]
     },
     "metadata": {
      "needs_background": "light"
     },
     "output_type": "display_data"
    }
   ],
   "source": [
    "plt.figure(figsize=(8, 4))\n",
    "for name in tbls.keys():\n",
    "    tbl = tbls[name]\n",
    "    med = np.median(tbl['a'], axis=1)\n",
    "    err1 = med - np.percentile(tbl['a'], 16, axis=1)\n",
    "    err2 = np.percentile(tbl['a'], 84, axis=1) - med\n",
    "    \n",
    "    tout[name]['f'] = med\n",
    "    tout[name]['f_em'] = err1\n",
    "    tout[name]['f_ep'] = err2\n",
    "    \n",
    "    plt.errorbar(tbl['phi1_c'], med, yerr=(err1, err2),\n",
    "                 ls='none', marker='o', label=name)\n",
    "\n",
    "plt.legend(loc='best', fontsize=15)\n",
    "\n",
    "plt.xlim(0, 17)\n",
    "plt.ylim(0, 0.5)\n",
    "plt.xticks(np.arange(0, 16+1e-3, 2))\n",
    "\n",
    "plt.ylabel('$f$')\n",
    "\n",
    "# fig.savefig('../plots/density-1d-f.png', dpi=250)"
   ]
  },
  {
   "cell_type": "code",
   "execution_count": 28,
   "metadata": {},
   "outputs": [
    {
     "data": {
      "image/png": "[encoded data removed]",
      "text/plain": [
       "<Figure size 576x288 with 1 Axes>"
      ]
     },
     "metadata": {},
     "output_type": "display_data"
    }
   ],
   "source": [
    "fig = plt.figure(figsize=(8,4))\n",
    "\n",
    "for name in tbls.keys():\n",
    "    tbl = tbls[name]\n",
    "    val = tbl['a'] * tbl['N'][:, None]\n",
    "    med = np.median(val, axis=1)\n",
    "    err1 = med - np.percentile(val, 16, axis=1)\n",
    "    err2 = np.percentile(val, 84, axis=1) - med\n",
    "    \n",
    "    tout[name]['n'] = med\n",
    "    tout[name]['n_em'] = err1\n",
    "    tout[name]['n_ep'] = err2\n",
    "    \n",
    "    plt.errorbar(tbl['phi1_c'], med, yerr=(err1, err2),\n",
    "                 ls='none', marker='o', label=name)\n",
    "    \n",
    "plt.legend(loc='best', fontsize=15)\n",
    "    \n",
    "plt.xlim(0, 17)\n",
    "# plt.ylim(0, 0.25)\n",
    "plt.xticks(np.arange(0, 16+1e-3, 2))\n",
    "\n",
    "plt.xlabel(r'$\\Delta \\phi_1$ [deg]')\n",
    "plt.ylabel('$N$ stream members')\n",
    "fig.set_facecolor('w')\n",
    "fig.tight_layout()\n",
    "\n",
    "# fig.savefig('../plots/density-1d-N.png', dpi=250)"
   ]
  },
  {
   "cell_type": "code",
   "execution_count": 40,
   "metadata": {},
   "outputs": [
    {
     "data": {
      "text/plain": [
       "<GreatCircleICRSFrame Frame (pole=<ICRS Coordinate: (ra, dec, distance) in (deg, deg, )\n",
       "    (319.15720277, -43.9537228, 1.)>, center=None, ra0=229.02645109910873 deg, rotation=0.0 deg)>"
      ]
     },
     "execution_count": 40,
     "metadata": {},
     "output_type": "execute_result"
    }
   ],
   "source": [
    "pal5_lead_frame"
   ]
  },
  {
   "cell_type": "code",
   "execution_count": 41,
   "metadata": {},
   "outputs": [],
   "source": [
    "# convert to the same reference frame\n",
    "cl = gc.GreatCircleICRSFrame(phi1=tlead['phi1']*u.deg, phi2=tlead['phi2']*u.deg,\n",
    "                             pole=pal5_lead_frame.pole, ra0=pal5_lead_frame.ra0)\n",
    "ct = gc.GreatCircleICRSFrame(phi1=ttrail['phi1']*u.deg, phi2=ttrail['phi2']*u.deg,\n",
    "                             pole=pal5_trail_frame.pole, ra0=pal5_trail_frame.ra0)\n",
    "cl_pal5 = cl.transform_to(gc.Pal5PriceWhelan18)\n",
    "ct_pal5 = ct.transform_to(gc.Pal5PriceWhelan18)"
   ]
  },
  {
   "cell_type": "code",
   "execution_count": 42,
   "metadata": {},
   "outputs": [
    {
     "data": {
      "text/plain": [
       "[<matplotlib.lines.Line2D at 0x7f581ed15ba8>]"
      ]
     },
     "execution_count": 42,
     "metadata": {},
     "output_type": "execute_result"
    },
    {
     "data": {
      "image/png": "[encoded data removed]",
      "text/plain": [
       "<Figure size 432x288 with 1 Axes>"
      ]
     },
     "metadata": {
      "needs_background": "light"
     },
     "output_type": "display_data"
    }
   ],
   "source": [
    "plt.plot(cl_pal5.phi1, cl_pal5.phi2, 'k.')\n",
    "plt.plot(ct_pal5.phi1, ct_pal5.phi2, 'r.')"
   ]
  },
  {
   "cell_type": "code",
   "execution_count": 49,
   "metadata": {},
   "outputs": [],
   "source": [
    "tlead['phi1'] = cl_pal5.phi1.deg\n",
    "tlead['phi2'] = cl_pal5.phi2.deg\n",
    "ttrail['phi1'] = ct_pal5.phi1.deg\n",
    "ttrail['phi2'] = ct_pal5.phi2.deg"
   ]
  },
  {
   "cell_type": "code",
   "execution_count": 51,
   "metadata": {},
   "outputs": [],
   "source": [
    "tcomb = astropy.table.vstack([tlead, ttrail])"
   ]
  },
  {
   "cell_type": "code",
   "execution_count": 53,
   "metadata": {},
   "outputs": [],
   "source": [
    "tcomb.write('../data/combined_params_1d.fits')"
   ]
  },
  {
   "cell_type": "markdown",
   "metadata": {},
   "source": [
    "## Fit 1D profiles of simulated streams"
   ]
  },
  {
   "cell_type": "code",
   "execution_count": 3,
   "metadata": {},
   "outputs": [],
   "source": [
    "# read in models\n",
    "files = []\n",
    "names = ['reg_orb.hdf5', 'chaotic_orb.hdf5', 'BarModels_RL1_Mb5e+09_Om38.0.hdf5',\n",
    "         'BarModels_RL1_Mb1e+10_Om45.0.hdf5']\n",
    "ceqmod = []\n",
    "\n",
    "for e, name in enumerate(names):\n",
    "    f = h5py.File('../data/{:s}'.format(name), 'r')\n",
    "    files += [f]\n",
    "    cgal = coord.Galactocentric(x=f['pos'][0]*u.kpc, y=f['pos'][1]*u.kpc, z=f['pos'][2]*u.kpc)\n",
    "    ceq = cgal.transform_to(coord.ICRS)\n",
    "    ceqmod += [ceq]"
   ]
  },
  {
   "cell_type": "code",
   "execution_count": 5,
   "metadata": {},
   "outputs": [],
   "source": [
    "mod_names = ['regular', 'chaotic', 'bar_slow', 'bar_fast']"
   ]
  },
  {
   "cell_type": "code",
   "execution_count": 18,
   "metadata": {},
   "outputs": [
    {
     "data": {
      "text/plain": [
       "<ICRS Coordinate: (ra, dec, distance) in (deg, deg, kpc)\n",
       "    [(248.5802116 ,   8.00795592, 22.1856622 ),\n",
       "     (220.50169307, -12.23889793, 18.64402503),\n",
       "     (235.48553942,   3.50167338, 23.33720283), ...,\n",
       "     (229.50012275,  -0.63456542, 22.50346585),\n",
       "     (229.30596374,  -0.43831791, 22.74914736),\n",
       "     (229.40495   ,  -0.4730804 , 22.45670427)]>"
      ]
     },
     "execution_count": 18,
     "metadata": {},
     "output_type": "execute_result"
    }
   ],
   "source": [
    "ceqmod[0]"
   ]
  },
  {
   "cell_type": "code",
   "execution_count": 4,
   "metadata": {},
   "outputs": [
    {
     "name": "stderr",
     "output_type": "stream",
     "text": [
      "\r",
      "  0%|          | 0/26 [00:00<?, ?it/s]"
     ]
    },
    {
     "name": "stdout",
     "output_type": "stream",
     "text": [
      "running measurements for 'lead'\n"
     ]
    },
    {
     "name": "stderr",
     "output_type": "stream",
     "text": [
      "/home/ana/projects/Pal5sBiggestFan/notebooks/density_1d.py:128: RuntimeWarning: invalid value encountered in log\n",
      "  bg_ll = lnA + np.log(a*phi2**2 + b*phi2 + c)\n",
      "/home/ana/projects/Pal5sBiggestFan/notebooks/density_1d.py:127: RuntimeWarning: invalid value encountered in log\n",
      "  6*c*phi2_max + 3*b*phi2_max**2 + 2*a*phi2_max**3)\n",
      "/home/ana/projects/Pal5sBiggestFan/notebooks/density_1d.py:128: RuntimeWarning: invalid value encountered in log\n",
      "  bg_ll = lnA + np.log(a*phi2**2 + b*phi2 + c)\n",
      "/home/ana/projects/Pal5sBiggestFan/notebooks/density_1d.py:127: RuntimeWarning: invalid value encountered in log\n",
      "  6*c*phi2_max + 3*b*phi2_max**2 + 2*a*phi2_max**3)\n",
      "/home/ana/projects/Pal5sBiggestFan/notebooks/density_1d.py:128: RuntimeWarning: invalid value encountered in log\n",
      "  bg_ll = lnA + np.log(a*phi2**2 + b*phi2 + c)\n",
      "/home/ana/projects/Pal5sBiggestFan/notebooks/density_1d.py:128: RuntimeWarning: invalid value encountered in log\n",
      "  bg_ll = lnA + np.log(a*phi2**2 + b*phi2 + c)\n",
      "/home/ana/projects/Pal5sBiggestFan/notebooks/density_1d.py:127: RuntimeWarning: invalid value encountered in log\n",
      "  6*c*phi2_max + 3*b*phi2_max**2 + 2*a*phi2_max**3)\n",
      "/home/ana/projects/Pal5sBiggestFan/notebooks/density_1d.py:127: RuntimeWarning: invalid value encountered in log\n",
      "  6*c*phi2_max + 3*b*phi2_max**2 + 2*a*phi2_max**3)\n",
      "100%|██████████| 26/26 [11:56<00:00, 40.76s/it]\n",
      " 73%|███████▎  | 19/26 [00:00<00:00, 188.55it/s]"
     ]
    },
    {
     "name": "stdout",
     "output_type": "stream",
     "text": [
      "running measurements for 'trail'\n"
     ]
    },
    {
     "name": "stderr",
     "output_type": "stream",
     "text": [
      "100%|██████████| 26/26 [02:48<00:00, 30.06s/it] \n"
     ]
    }
   ],
   "source": [
    "with MultiPool() as pool:\n",
    "    with warnings.catch_warnings():\n",
    "        warnings.simplefilter(\"ignore\")\n",
    "        tbls = run_it_all(ceqmod[0], mod_names[0], pool=pool)"
   ]
  },
  {
   "cell_type": "code",
   "execution_count": 6,
   "metadata": {},
   "outputs": [],
   "source": [
    "# output\n",
    "tlead = Table(np.zeros((len(tbls['lead']),13)),names=('phi1','phi2','phi2_em','phi2_ep','w','w_em','w_ep',\n",
    "                                                       'f','f_em','f_ep','n','n_em','n_ep'))\n",
    "ttrail = Table(np.zeros((len(tbls['trail']),13)),names=('phi1','phi2','phi2_em','phi2_ep','w','w_em','w_ep',\n",
    "                                                       'f','f_em','f_ep','n','n_em','n_ep'))\n",
    "tout = {'lead': tlead, 'trail': ttrail}"
   ]
  },
  {
   "cell_type": "code",
   "execution_count": 7,
   "metadata": {},
   "outputs": [],
   "source": [
    "colnames = {'std_s': 'w', 'mu_s': 'phi2', 'a': 'f'}"
   ]
  },
  {
   "cell_type": "code",
   "execution_count": 8,
   "metadata": {},
   "outputs": [],
   "source": [
    "for name in tbls.keys():\n",
    "    tbl = tbls[name]\n",
    "    tout[name]['phi1'] = tbl['phi1_c']\n",
    "    \n",
    "    val = tbl['a'] * tbl['N'][:, None]\n",
    "    med = np.median(val, axis=1)\n",
    "    err1 = med - np.percentile(val, 16, axis=1)\n",
    "    err2 = np.percentile(val, 84, axis=1) - med\n",
    "    tout[name]['n'] = med\n",
    "    tout[name]['n_em'] = err1\n",
    "    tout[name]['n_ep'] = err2\n",
    "\n",
    "    for k in colnames:\n",
    "        med = np.median(tbl[k], axis=1)\n",
    "        err1 = med - np.percentile(tbl[k], 16, axis=1)\n",
    "        err2 = np.percentile(tbl[k], 84, axis=1) - med\n",
    "        tout[name]['{:s}'.format(colnames[k])] = med\n",
    "        tout[name]['{:s}_em'.format(colnames[k])] = err1\n",
    "        tout[name]['{:s}_ep'.format(colnames[k])] = err2"
   ]
  },
  {
   "cell_type": "code",
   "execution_count": 10,
   "metadata": {},
   "outputs": [],
   "source": [
    "# convert to the same reference frame\n",
    "cl = gc.GreatCircleICRSFrame(phi1=tlead['phi1']*u.deg, phi2=tlead['phi2']*u.deg,\n",
    "                             pole=pal5_lead_frame.pole, ra0=pal5_lead_frame.ra0)\n",
    "ct = gc.GreatCircleICRSFrame(phi1=ttrail['phi1']*u.deg, phi2=ttrail['phi2']*u.deg,\n",
    "                             pole=pal5_trail_frame.pole, ra0=pal5_trail_frame.ra0)\n",
    "cl_pal5 = cl.transform_to(gc.Pal5PriceWhelan18)\n",
    "ct_pal5 = ct.transform_to(gc.Pal5PriceWhelan18)\n",
    "\n",
    "tlead['phi1'] = cl_pal5.phi1.deg\n",
    "tlead['phi2'] = cl_pal5.phi2.deg\n",
    "ttrail['phi1'] = ct_pal5.phi1.deg\n",
    "ttrail['phi2'] = ct_pal5.phi2.deg"
   ]
  },
  {
   "cell_type": "code",
   "execution_count": 11,
   "metadata": {},
   "outputs": [],
   "source": [
    "tcomb = astropy.table.vstack([tlead, ttrail])\n",
    "tcomb.write('../data/combined_params_1d_{:s}.fits'.format(mod_names[0]))"
   ]
  },
  {
   "cell_type": "code",
   "execution_count": 16,
   "metadata": {},
   "outputs": [
    {
     "data": {
      "text/plain": [
       "[<matplotlib.lines.Line2D at 0x7fdf4da3a2b0>]"
      ]
     },
     "execution_count": 16,
     "metadata": {},
     "output_type": "execute_result"
    },
    {
     "data": {
      "image/png": "[encoded data removed]",
      "text/plain": [
       "<Figure size 432x288 with 1 Axes>"
      ]
     },
     "metadata": {
      "needs_background": "light"
     },
     "output_type": "display_data"
    }
   ],
   "source": [
    "plt.plot(tcomb['phi1'], tcomb['f'], 'k.')"
   ]
  },
  {
   "cell_type": "code",
   "execution_count": 20,
   "metadata": {},
   "outputs": [
    {
     "name": "stderr",
     "output_type": "stream",
     "text": [
      "\r",
      "  0%|          | 0/26 [00:00<?, ?it/s]"
     ]
    },
    {
     "name": "stdout",
     "output_type": "stream",
     "text": [
      "running measurements for 'lead'\n"
     ]
    },
    {
     "name": "stderr",
     "output_type": "stream",
     "text": [
      "/home/ana/projects/Pal5sBiggestFan/notebooks/density_1d.py:128: RuntimeWarning: invalid value encountered in log\n",
      "  bg_ll = lnA + np.log(a*phi2**2 + b*phi2 + c)\n",
      "/home/ana/projects/Pal5sBiggestFan/notebooks/density_1d.py:128: RuntimeWarning: invalid value encountered in log\n",
      "  bg_ll = lnA + np.log(a*phi2**2 + b*phi2 + c)\n",
      "/home/ana/projects/Pal5sBiggestFan/notebooks/density_1d.py:127: RuntimeWarning: invalid value encountered in log\n",
      "  6*c*phi2_max + 3*b*phi2_max**2 + 2*a*phi2_max**3)\n",
      "/home/ana/projects/Pal5sBiggestFan/notebooks/density_1d.py:127: RuntimeWarning: invalid value encountered in log\n",
      "  6*c*phi2_max + 3*b*phi2_max**2 + 2*a*phi2_max**3)\n",
      "/home/ana/projects/Pal5sBiggestFan/notebooks/density_1d.py:128: RuntimeWarning: invalid value encountered in log\n",
      "  bg_ll = lnA + np.log(a*phi2**2 + b*phi2 + c)\n",
      "/home/ana/projects/Pal5sBiggestFan/notebooks/density_1d.py:127: RuntimeWarning: invalid value encountered in log\n",
      "  6*c*phi2_max + 3*b*phi2_max**2 + 2*a*phi2_max**3)\n",
      "/home/ana/projects/Pal5sBiggestFan/notebooks/density_1d.py:128: RuntimeWarning: invalid value encountered in log\n",
      "  bg_ll = lnA + np.log(a*phi2**2 + b*phi2 + c)\n",
      "/home/ana/projects/Pal5sBiggestFan/notebooks/density_1d.py:127: RuntimeWarning: invalid value encountered in log\n",
      "  6*c*phi2_max + 3*b*phi2_max**2 + 2*a*phi2_max**3)\n",
      "100%|██████████| 26/26 [19:01<00:00, 46.75s/it]\n",
      "  0%|          | 0/26 [00:00<?, ?it/s]"
     ]
    },
    {
     "name": "stdout",
     "output_type": "stream",
     "text": [
      "running measurements for 'trail'\n"
     ]
    },
    {
     "name": "stderr",
     "output_type": "stream",
     "text": [
      "100%|██████████| 26/26 [21:34<00:00, 46.39s/it]\n"
     ]
    },
    {
     "ename": "OSError",
     "evalue": "File exists: ../data/combined_params_1d_regular.fits",
     "output_type": "error",
     "traceback": [
      "\u001b[0;31m---------------------------------------------------------------------------\u001b[0m",
      "\u001b[0;31mOSError\u001b[0m                                   Traceback (most recent call last)",
      "\u001b[0;32m<ipython-input-20-2ae33a42e4c5>\u001b[0m in \u001b[0;36m<module>\u001b[0;34m\u001b[0m\n\u001b[1;32m     49\u001b[0m     \u001b[0;31m# write table\u001b[0m\u001b[0;34m\u001b[0m\u001b[0;34m\u001b[0m\u001b[0m\n\u001b[1;32m     50\u001b[0m     \u001b[0mtcomb\u001b[0m \u001b[0;34m=\u001b[0m \u001b[0mastropy\u001b[0m\u001b[0;34m.\u001b[0m\u001b[0mtable\u001b[0m\u001b[0;34m.\u001b[0m\u001b[0mvstack\u001b[0m\u001b[0;34m(\u001b[0m\u001b[0;34m[\u001b[0m\u001b[0mtlead\u001b[0m\u001b[0;34m,\u001b[0m \u001b[0mttrail\u001b[0m\u001b[0;34m]\u001b[0m\u001b[0;34m)\u001b[0m\u001b[0;34m\u001b[0m\u001b[0m\n\u001b[0;32m---> 51\u001b[0;31m     \u001b[0mtcomb\u001b[0m\u001b[0;34m.\u001b[0m\u001b[0mwrite\u001b[0m\u001b[0;34m(\u001b[0m\u001b[0;34m'../data/combined_params_1d_{:s}.fits'\u001b[0m\u001b[0;34m.\u001b[0m\u001b[0mformat\u001b[0m\u001b[0;34m(\u001b[0m\u001b[0mmod_names\u001b[0m\u001b[0;34m[\u001b[0m\u001b[0mi\u001b[0m\u001b[0;34m]\u001b[0m\u001b[0;34m)\u001b[0m\u001b[0;34m)\u001b[0m\u001b[0;34m\u001b[0m\u001b[0m\n\u001b[0m",
      "\u001b[0;32m/usr/lib64/python3.6/site-packages/astropy/table/connect.py\u001b[0m in \u001b[0;36m__call__\u001b[0;34m(self, *args, **kwargs)\u001b[0m\n\u001b[1;32m    112\u001b[0m         \u001b[0minstance\u001b[0m \u001b[0;34m=\u001b[0m \u001b[0mself\u001b[0m\u001b[0;34m.\u001b[0m\u001b[0m_instance\u001b[0m\u001b[0;34m\u001b[0m\u001b[0m\n\u001b[1;32m    113\u001b[0m         \u001b[0;32mwith\u001b[0m \u001b[0mserialize_method_as\u001b[0m\u001b[0;34m(\u001b[0m\u001b[0minstance\u001b[0m\u001b[0;34m,\u001b[0m \u001b[0mserialize_method\u001b[0m\u001b[0;34m)\u001b[0m\u001b[0;34m:\u001b[0m\u001b[0;34m\u001b[0m\u001b[0m\n\u001b[0;32m--> 114\u001b[0;31m             \u001b[0mregistry\u001b[0m\u001b[0;34m.\u001b[0m\u001b[0mwrite\u001b[0m\u001b[0;34m(\u001b[0m\u001b[0minstance\u001b[0m\u001b[0;34m,\u001b[0m \u001b[0;34m*\u001b[0m\u001b[0margs\u001b[0m\u001b[0;34m,\u001b[0m \u001b[0;34m**\u001b[0m\u001b[0mkwargs\u001b[0m\u001b[0;34m)\u001b[0m\u001b[0;34m\u001b[0m\u001b[0m\n\u001b[0m",
      "\u001b[0;32m/usr/lib64/python3.6/site-packages/astropy/io/registry.py\u001b[0m in \u001b[0;36mwrite\u001b[0;34m(data, format, *args, **kwargs)\u001b[0m\n\u001b[1;32m    564\u001b[0m \u001b[0;34m\u001b[0m\u001b[0m\n\u001b[1;32m    565\u001b[0m     \u001b[0mwriter\u001b[0m \u001b[0;34m=\u001b[0m \u001b[0mget_writer\u001b[0m\u001b[0;34m(\u001b[0m\u001b[0mformat\u001b[0m\u001b[0;34m,\u001b[0m \u001b[0mdata\u001b[0m\u001b[0;34m.\u001b[0m\u001b[0m__class__\u001b[0m\u001b[0;34m)\u001b[0m\u001b[0;34m\u001b[0m\u001b[0m\n\u001b[0;32m--> 566\u001b[0;31m     \u001b[0mwriter\u001b[0m\u001b[0;34m(\u001b[0m\u001b[0mdata\u001b[0m\u001b[0;34m,\u001b[0m \u001b[0;34m*\u001b[0m\u001b[0margs\u001b[0m\u001b[0;34m,\u001b[0m \u001b[0;34m**\u001b[0m\u001b[0mkwargs\u001b[0m\u001b[0;34m)\u001b[0m\u001b[0;34m\u001b[0m\u001b[0m\n\u001b[0m\u001b[1;32m    567\u001b[0m \u001b[0;34m\u001b[0m\u001b[0m\n\u001b[1;32m    568\u001b[0m \u001b[0;34m\u001b[0m\u001b[0m\n",
      "\u001b[0;32m/usr/lib64/python3.6/site-packages/astropy/io/fits/connect.py\u001b[0m in \u001b[0;36mwrite_table_fits\u001b[0;34m(input, output, overwrite)\u001b[0m\n\u001b[1;32m    392\u001b[0m             \u001b[0mos\u001b[0m\u001b[0;34m.\u001b[0m\u001b[0mremove\u001b[0m\u001b[0;34m(\u001b[0m\u001b[0moutput\u001b[0m\u001b[0;34m)\u001b[0m\u001b[0;34m\u001b[0m\u001b[0m\n\u001b[1;32m    393\u001b[0m         \u001b[0;32melse\u001b[0m\u001b[0;34m:\u001b[0m\u001b[0;34m\u001b[0m\u001b[0m\n\u001b[0;32m--> 394\u001b[0;31m             \u001b[0;32mraise\u001b[0m \u001b[0mOSError\u001b[0m\u001b[0;34m(\u001b[0m\u001b[0;34m\"File exists: {0}\"\u001b[0m\u001b[0;34m.\u001b[0m\u001b[0mformat\u001b[0m\u001b[0;34m(\u001b[0m\u001b[0moutput\u001b[0m\u001b[0;34m)\u001b[0m\u001b[0;34m)\u001b[0m\u001b[0;34m\u001b[0m\u001b[0m\n\u001b[0m\u001b[1;32m    395\u001b[0m \u001b[0;34m\u001b[0m\u001b[0m\n\u001b[1;32m    396\u001b[0m     \u001b[0mtable_hdu\u001b[0m\u001b[0;34m.\u001b[0m\u001b[0mwriteto\u001b[0m\u001b[0;34m(\u001b[0m\u001b[0moutput\u001b[0m\u001b[0;34m)\u001b[0m\u001b[0;34m\u001b[0m\u001b[0m\n",
      "\u001b[0;31mOSError\u001b[0m: File exists: ../data/combined_params_1d_regular.fits"
     ]
    }
   ],
   "source": [
    "# run subsequent models\n",
    "for i in range(0,1):\n",
    "    with MultiPool() as pool:\n",
    "        with warnings.catch_warnings():\n",
    "            warnings.simplefilter(\"ignore\")\n",
    "            tbls = run_it_all(ceqmod[i], mod_names[i], pool=pool)\n",
    "    \n",
    "    # output tables\n",
    "    tlead = Table(np.zeros((len(tbls['lead']),13)),names=('phi1','phi2','phi2_em','phi2_ep','w','w_em','w_ep',\n",
    "                                                           'f','f_em','f_ep','n','n_em','n_ep'))\n",
    "    ttrail = Table(np.zeros((len(tbls['trail']),13)),names=('phi1','phi2','phi2_em','phi2_ep','w','w_em','w_ep',\n",
    "                                                           'f','f_em','f_ep','n','n_em','n_ep'))\n",
    "    tout = {'lead': tlead, 'trail': ttrail}\n",
    "    \n",
    "    # extract median and uncertainties in properties along the stream\n",
    "    for name in tbls.keys():\n",
    "        tbl = tbls[name]\n",
    "        tout[name]['phi1'] = tbl['phi1_c']\n",
    "\n",
    "        val = tbl['a'] * tbl['N'][:, None]\n",
    "        med = np.median(val, axis=1)\n",
    "        err1 = med - np.percentile(val, 16, axis=1)\n",
    "        err2 = np.percentile(val, 84, axis=1) - med\n",
    "        tout[name]['n'] = med\n",
    "        tout[name]['n_em'] = err1\n",
    "        tout[name]['n_ep'] = err2\n",
    "\n",
    "        for k in colnames:\n",
    "            med = np.median(tbl[k], axis=1)\n",
    "            err1 = med - np.percentile(tbl[k], 16, axis=1)\n",
    "            err2 = np.percentile(tbl[k], 84, axis=1) - med\n",
    "            tout[name]['{:s}'.format(colnames[k])] = med\n",
    "            tout[name]['{:s}_em'.format(colnames[k])] = err1\n",
    "            tout[name]['{:s}_ep'.format(colnames[k])] = err2\n",
    "    \n",
    "    # convert to the same reference frame\n",
    "    cl = gc.GreatCircleICRSFrame(phi1=tlead['phi1']*u.deg, phi2=tlead['phi2']*u.deg,\n",
    "                                 pole=pal5_lead_frame.pole, ra0=pal5_lead_frame.ra0)\n",
    "    ct = gc.GreatCircleICRSFrame(phi1=ttrail['phi1']*u.deg, phi2=ttrail['phi2']*u.deg,\n",
    "                                 pole=pal5_trail_frame.pole, ra0=pal5_trail_frame.ra0)\n",
    "    cl_pal5 = cl.transform_to(gc.Pal5PriceWhelan18)\n",
    "    ct_pal5 = ct.transform_to(gc.Pal5PriceWhelan18)\n",
    "\n",
    "    tlead['phi1'] = cl_pal5.phi1.deg\n",
    "    tlead['phi2'] = cl_pal5.phi2.deg\n",
    "    ttrail['phi1'] = ct_pal5.phi1.deg\n",
    "    ttrail['phi2'] = ct_pal5.phi2.deg\n",
    "    \n",
    "    # write table\n",
    "    tcomb = astropy.table.vstack([tlead, ttrail])\n",
    "    tcomb.write('../data/combined_params_1d_{:s}.fits'.format(mod_names[i]), overwrite=True)"
   ]
  },
  {
   "cell_type": "code",
   "execution_count": 21,
   "metadata": {},
   "outputs": [],
   "source": [
    "tcomb.write('../data/combined_params_1d_{:s}.fits'.format(mod_names[0]), overwrite=True)"
   ]
  },
  {
   "cell_type": "code",
   "execution_count": null,
   "metadata": {},
   "outputs": [],
   "source": []
  }
 ],
 "metadata": {
  "kernelspec": {
   "display_name": "Python 3",
   "language": "python",
   "name": "python3"
  },
  "language_info": {
   "codemirror_mode": {
    "name": "ipython",
    "version": 3
   },
   "file_extension": ".py",
   "mimetype": "text/x-python",
   "name": "python",
   "nbconvert_exporter": "python",
   "pygments_lexer": "ipython3",
   "version": "3.6.5"
  }
 },
 "nbformat": 4,
 "nbformat_minor": 2
}
