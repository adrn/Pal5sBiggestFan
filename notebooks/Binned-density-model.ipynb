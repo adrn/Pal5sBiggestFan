{
 "cells": [
  {
   "cell_type": "code",
   "execution_count": null,
   "metadata": {},
   "outputs": [],
   "source": [
    "import pickle\n",
    "\n",
    "# Third-party\n",
    "import astropy.coordinates as coord\n",
    "from astropy.io import fits\n",
    "from astropy.table import Table\n",
    "import astropy.units as u\n",
    "import matplotlib as mpl\n",
    "import matplotlib.pyplot as plt\n",
    "import numpy as np\n",
    "%matplotlib inline\n",
    "from scipy.stats import multivariate_normal\n",
    "from scipy.interpolate import InterpolatedUnivariateSpline\n",
    "from scipy.special import logsumexp\n",
    "from scipy.ndimage import gaussian_filter\n",
    "import pystan\n",
    "\n",
    "import gala.coordinates as gc\n",
    "import gala.dynamics as gd\n",
    "import gala.potential as gp\n",
    "from gala.mpl_style import hesperia\n",
    "from gala.units import galactic\n",
    "from pyia import GaiaData\n",
    "\n",
    "from coordinates import pal5_lead_frame, pal5_trail_frame, pal5_c"
   ]
  },
  {
   "cell_type": "code",
   "execution_count": null,
   "metadata": {
    "scrolled": true
   },
   "outputs": [],
   "source": [
    "sm = pystan.StanModel('../stan/binned_model_gmm_bg.stan')"
   ]
  },
  {
   "cell_type": "code",
   "execution_count": null,
   "metadata": {},
   "outputs": [],
   "source": [
    "m5_c = coord.SkyCoord.from_name('Messier 5')"
   ]
  },
  {
   "cell_type": "code",
   "execution_count": null,
   "metadata": {},
   "outputs": [],
   "source": [
    "ana = fits.getdata('../data/pal5_ls_lite_grz.fits')\n",
    "ana_masks = fits.getdata('../data/cmd_masks_orig.fits')\n",
    "ana = ana[ana_masks['gr_mask'] & ana_masks['grz_mask']]\n",
    "\n",
    "_c = coord.SkyCoord(ra=ana['ra'], dec=ana['dec'], unit=u.deg).transform_to(gc.Pal5PriceWhelan18)\n",
    "_mask = (_c.separation(pal5_c) > 0.2*u.deg) & (_c.separation(m5_c) > 0.3*u.deg)\n",
    "phi1 = _c.phi1.degree[_mask]\n",
    "phi2 = _c.phi2.degree[_mask]"
   ]
  },
  {
   "cell_type": "code",
   "execution_count": null,
   "metadata": {},
   "outputs": [],
   "source": [
    "ridge = Table.read('../data/pal5_ridgeline.csv')\n",
    "ridge_c = coord.SkyCoord(ridge['ra'], ridge['dec'], unit=u.deg).transform_to(gc.Pal5)\n",
    "ridge_phi1 = ridge_c.phi1.degree\n",
    "ridge_phi2 = ridge_c.phi2.degree\n",
    "\n",
    "# HACK:\n",
    "ridge_phi1 = np.concatenate((ridge_phi1[16:], [-18, -0.23, 10, 0.23, 0.01, -0.01]))\n",
    "ridge_phi2 = np.concatenate((ridge_phi2[16:], [1.8, -0.23, 3.5, 0.23, 0.22, -0.22]))"
   ]
  },
  {
   "cell_type": "code",
   "execution_count": null,
   "metadata": {},
   "outputs": [],
   "source": [
    "fig, axes = plt.subplots(2, 1, figsize=(15, 10), sharex=True, sharey=True)\n",
    "\n",
    "for ax in axes:\n",
    "    ax.plot(phi1, phi2, marker='o', ms=1., ls='none', color='k', alpha=1)\n",
    "    ax.set_aspect('equal')\n",
    "    ax.set_xlim(-20, 15)\n",
    "    ax.set_ylim(-4, 6)\n",
    "\n",
    "ax.scatter(ridge_phi1, ridge_phi2, zorder=100, color='tab:orange')\n",
    "\n",
    "# ---\n",
    "\n",
    "fig, axes = plt.subplots(1, 2, figsize=(10, 5), sharex=True, sharey=True)\n",
    "\n",
    "for ax in axes:\n",
    "    ax.plot(phi1, phi2, marker='o', ms=1., ls='none', color='k', alpha=1)\n",
    "    ax.set_aspect('equal')\n",
    "    ax.set_xlim(-1.5, 1.5)\n",
    "    ax.set_ylim(-1.5, 1.5)\n",
    "\n",
    "ax.scatter(ridge_phi1, ridge_phi2, zorder=100, color='tab:orange')"
   ]
  },
  {
   "cell_type": "code",
   "execution_count": null,
   "metadata": {},
   "outputs": [],
   "source": [
    "xx = ridge_phi1[ridge_phi1 > 0]\n",
    "yy = ridge_phi2[ridge_phi1 > 0]\n",
    "l_poly = InterpolatedUnivariateSpline(xx[xx.argsort()], yy[xx.argsort()], k=1)\n",
    "\n",
    "xx = ridge_phi1[ridge_phi1 < 0]\n",
    "yy = ridge_phi2[ridge_phi1 < 0]\n",
    "t_poly = InterpolatedUnivariateSpline(xx[xx.argsort()], yy[xx.argsort()], k=1)\n",
    "\n",
    "xbins = np.arange(-20, 14+1e-3, 0.1)\n",
    "ybins = np.arange(-2, 4+1e-3, 0.1)\n",
    "\n",
    "h_phi1 = 1\n",
    "l_nodes = np.concatenate(([0.01], np.arange(0.2, 10.5+1e-3, h_phi1)))\n",
    "t_nodes = np.concatenate((np.arange(-20.25, 0.2+1e-3, h_phi1), [-0.01]))\n",
    "\n",
    "nodes = np.concatenate((t_nodes, l_nodes))\n",
    "phi2_nodes = np.concatenate((t_poly(t_nodes), l_poly(l_nodes)))"
   ]
  },
  {
   "cell_type": "code",
   "execution_count": null,
   "metadata": {},
   "outputs": [],
   "source": [
    "fig, ax = plt.subplots(1, 1, figsize=(15, 5))\n",
    "\n",
    "ax.plot(phi1, phi2, marker='o', ms=1., ls='none', color='k', alpha=1)\n",
    "ax.scatter(nodes, phi2_nodes, zorder=100, color='tab:orange')\n",
    "ax.set_xlim(-20, 14)\n",
    "ax.set_ylim(-4, 6)"
   ]
  },
  {
   "cell_type": "code",
   "execution_count": null,
   "metadata": {},
   "outputs": [],
   "source": [
    "def make_data(H, S, xbins, ybins, phi1_nodes, phi2_nodes):\n",
    "    xe_c = 0.5 * (xbins[:-1] + xbins[1:])\n",
    "    ye_c = 0.5 * (ybins[:-1] + ybins[1:])\n",
    "    xx, yy = np.stack(list(map(np.ravel, np.meshgrid(xe_c, ye_c))))\n",
    "    \n",
    "    data = {}\n",
    "    data['n_pix'] = H.size\n",
    "    data['hh'] = H.T.ravel().astype(np.int32)\n",
    "    data['S'] = S.T.ravel()\n",
    "    data['x'] = xx\n",
    "    data['y'] = yy\n",
    "\n",
    "    data['n_nodes'] = len(phi1_nodes)\n",
    "    data['phi1_nodes'] = phi1_nodes\n",
    "    data['phi2_nodes_init'] = phi2_nodes\n",
    "    data['h_nodes'] = np.full_like(phi1_nodes, 1. * h_phi1)\n",
    "\n",
    "    data['bg_nodes'] = np.arange(xbins.min()-5, xbins.max()+5+1e-3, 5)\n",
    "    data['n_bg_nodes'] = len(data['bg_nodes'])\n",
    "    \n",
    "    return data, xbins, ybins"
   ]
  },
  {
   "cell_type": "code",
   "execution_count": null,
   "metadata": {},
   "outputs": [],
   "source": [
    "cl_mask = gc.Pal5(phi1=phi1*u.deg, phi2=phi2*u.deg).separation(pal5_c) < 0.25*u.deg\n",
    "_phi1 = phi1.copy()\n",
    "_phi1[cl_mask] = np.nan\n",
    "H, xbins, ybins = np.histogram2d(_phi1, phi2, \n",
    "                                 bins=(xbins, ybins))\n",
    "shape = H.T.shape\n",
    "\n",
    "\n",
    "# TODO: right now, just a binary selection function:\n",
    "S = np.ones_like(H)\n",
    "S[gaussian_filter(H, 1) < 1] = 1e-10\n",
    "S[~np.isfinite(H)] = 1e-10\n",
    "\n",
    "# ---\n",
    "\n",
    "fig, axes = plt.subplots(2, 1, figsize=(15, 6),\n",
    "                         sharex=True, sharey=True)\n",
    "\n",
    "ax = axes[0]\n",
    "ax.pcolormesh(xbins, ybins, H.T, \n",
    "              # norm=mpl.colors.LogNorm(vmin=10, vmax=100), \n",
    "              norm=mpl.colors.LogNorm(vmin=1, vmax=10), \n",
    "              cmap='Greys')\n",
    "\n",
    "ax.plot(nodes, phi2_nodes, \n",
    "        marker='o', alpha=0.7, \n",
    "        ls='none', color='tab:orange')\n",
    "\n",
    "ax = axes[1]\n",
    "ax.pcolormesh(xbins, ybins, S.T, cmap='Greys')\n",
    "\n",
    "for ax in axes:\n",
    "    ax.set_aspect('equal')\n",
    "    ax.set_xlim(xbins.min(), xbins.max())\n",
    "    ax.set_ylim(ybins.min(), ybins.max())\n",
    "\n",
    "data, *_ = make_data(H, S, xbins, ybins, nodes, phi2_nodes)"
   ]
  },
  {
   "cell_type": "code",
   "execution_count": null,
   "metadata": {},
   "outputs": [],
   "source": [
    "name = 'all'"
   ]
  },
  {
   "cell_type": "code",
   "execution_count": null,
   "metadata": {},
   "outputs": [],
   "source": [
    "xlim = (data['x'].min(), data['x'].max())\n",
    "ylim = (data['y'].min(), data['y'].max())\n",
    "\n",
    "bg_spacing = 2.5\n",
    "bg_p1 = np.arange(xlim[0]-1, xlim[1]+2+1e-3, bg_spacing)\n",
    "bg_p2 = np.arange(ylim[0]-1, ylim[1]+2+1e-3, bg_spacing)\n",
    "\n",
    "data['bg_phi1_nodes'], data['bg_phi2_nodes'] = list(map(np.ravel, np.meshgrid(bg_p1, bg_p2)))\n",
    "data['n_bg_nodes'] = len(data['bg_phi1_nodes'])\n",
    "# data['bg_w'] = 0.5 * bg_spacing / 0.2 # HACK: 0.2 is pixel size\n",
    "# data['bg_h'] = 0.5 * bg_spacing / 0.2 # HACK: 0.2 is pixel size\n",
    "data['bg_w'] = 2\n",
    "data['bg_h'] = 2\n",
    "data['bg_w']"
   ]
  },
  {
   "cell_type": "code",
   "execution_count": null,
   "metadata": {},
   "outputs": [],
   "source": [
    "fig, ax = plt.subplots(1, 1, figsize=(12, 4))\n",
    "\n",
    "ax.pcolormesh(xbins, ybins, data['hh'].reshape(shape),\n",
    "              cmap='Greys')\n",
    "\n",
    "ax.scatter(data['phi1_nodes'], data['phi2_nodes_init'], color='tab:orange')\n",
    "ax.scatter(data['bg_phi1_nodes'], data['bg_phi2_nodes'], color='tab:green', alpha=0.5)\n",
    "\n",
    "ax.set_xlabel(r'$\\phi_1$ [deg]')\n",
    "ax.set_ylabel(r'$\\phi_2$ [deg]')\n",
    "\n",
    "ax.set_aspect('equal')"
   ]
  },
  {
   "cell_type": "code",
   "execution_count": null,
   "metadata": {},
   "outputs": [],
   "source": [
    "nchains = 1\n",
    "init_dict = {}\n",
    "init_dict['d_phi2_nodes'] = np.zeros(data['n_nodes'])\n",
    "init_dict['log_w_nodes'] = np.full(data['n_nodes'], np.log(0.5))\n",
    "init_dict['log_a_nodes'] = np.full(data['n_nodes'], np.log(10))\n",
    "\n",
    "# init_dict['log_bg_nodes'] = np.full(data['n_bg_nodes'], np.log(1.))\n",
    "\n",
    "# Uniform background\n",
    "# init_dict['bg_val'] = np.median(data['hh'])\n",
    "\n",
    "# GMM background\n",
    "init_dict['bg_val'] = np.percentile(data['hh'], 15)\n",
    "init_dict['bg_log_a_nodes'] = np.full(data['n_bg_nodes'], np.log(5))\n",
    "\n",
    "inits = [init_dict]"
   ]
  },
  {
   "cell_type": "code",
   "execution_count": null,
   "metadata": {},
   "outputs": [],
   "source": [
    "from os import path\n",
    "\n",
    "if not path.exists('{}-fit.pickle'.format(name)) or True:\n",
    "    fit = sm.optimizing(data=data, init=inits[0], iter=128)\n",
    "\n",
    "    with open('{}-fit.pickle'.format(name), 'wb') as f:\n",
    "        pickle.dump(fit, f)\n",
    "        \n",
    "else:\n",
    "    with open('{}-fit.pickle'.format(name), 'rb') as f:\n",
    "        fit = pickle.load(f)"
   ]
  },
  {
   "cell_type": "code",
   "execution_count": null,
   "metadata": {},
   "outputs": [],
   "source": [
    "fig, axes = plt.subplots(5, 1, figsize=(12, 18), \n",
    "                         sharex=True, sharey=True)\n",
    "\n",
    "ax = axes[0]\n",
    "ax.pcolormesh(xbins, ybins, data['hh'].reshape(shape),\n",
    "              cmap='Greys')\n",
    "ax.set_ylabel('data')\n",
    "\n",
    "ax = axes[1]\n",
    "ax.pcolormesh(xbins, ybins, np.exp(fit['xmod'].reshape(shape)),\n",
    "              cmap='Greys')#, vmin=1e-4, vmax=3)\n",
    "ax.set_ylabel('full model')\n",
    "\n",
    "ax = axes[2]\n",
    "ax.pcolormesh(xbins, ybins, np.exp(fit['log_gd1_int'].reshape(shape)),\n",
    "              cmap='Greys', vmin=1e-4, vmax=25)\n",
    "ax.set_ylabel('stream only')\n",
    "\n",
    "ax = axes[3]\n",
    "ax.pcolormesh(xbins, ybins, np.exp(fit['log_bg_int'].reshape(shape)),\n",
    "              cmap='Greys', vmin=1e-4, vmax=25)\n",
    "ax.set_ylabel('background only')\n",
    "\n",
    "ax = axes[4]\n",
    "model = np.exp(fit['xmod'].reshape(shape))\n",
    "resid = data['hh'].reshape(shape) - model\n",
    "im = ax.pcolormesh(xbins, ybins, resid,\n",
    "                   cmap='RdBu', vmin=-20, vmax=20)\n",
    "# fig.colorbar(im)\n",
    "ax.set_ylabel('residuals')\n",
    "\n",
    "ax.set_xlabel(r'$\\phi_1$ [deg]')\n",
    "ax.set_ylabel(r'$\\phi_2$ [deg]')\n",
    "\n",
    "for ax in axes:\n",
    "    ax.set_aspect('equal')\n",
    "    \n",
    "fig.tight_layout()\n",
    "# fig.savefig('../plots/{}-2d-fit.png'.format(name), dpi=250)"
   ]
  },
  {
   "cell_type": "code",
   "execution_count": null,
   "metadata": {},
   "outputs": [],
   "source": [
    "fig, axes = plt.subplots(2, 1, figsize=(15, 6), \n",
    "                         sharex=True, sharey=True)\n",
    "\n",
    "derp_bg = np.random.poisson(fit['bg_val'] + np.exp(fit['log_bg_int']).reshape(shape), size=shape)\n",
    "derp = derp_bg + np.exp(fit['log_gd1_int'].reshape(shape))\n",
    "\n",
    "ax = axes[0]\n",
    "ax.pcolormesh(xbins, ybins, data['hh'].reshape(shape),\n",
    "              cmap='Greys', vmin=1, vmax=10)\n",
    "\n",
    "ax = axes[1]\n",
    "ax.pcolormesh(xbins, ybins, derp * data['S'].reshape(shape),\n",
    "              cmap='Greys', vmin=1, vmax=12)\n",
    "\n",
    "for ax in axes:\n",
    "    ax.set_aspect('equal')\n",
    "    # ax.scatter(data['phi1_nodes'], data['phi2_nodes_init'], color='tab:orange')\n",
    "    \n",
    "fig.set_facecolor('w')\n",
    "fig.tight_layout()\n",
    "fig.savefig('../plots/density-model-compare.png', dpi=250)"
   ]
  },
  {
   "cell_type": "markdown",
   "metadata": {},
   "source": [
    "# Implement the density model in Python"
   ]
  },
  {
   "cell_type": "code",
   "execution_count": null,
   "metadata": {},
   "outputs": [],
   "source": [
    "def ln_normal_2d(x, mu, cov):\n",
    "    x = np.array(x)\n",
    "    mu = np.array(mu)    \n",
    "    _, logdet = np.linalg.slogdet(cov)\n",
    "    Cinv = np.linalg.inv(cov)\n",
    "    quad_form = (x - mu).T.dot(Cinv).dot(x - mu)\n",
    "    return -0.5 * (logdet + quad_form + 2 * np.log(2*np.pi))"
   ]
  },
  {
   "cell_type": "code",
   "execution_count": null,
   "metadata": {},
   "outputs": [],
   "source": [
    "def evaluate_stream_model(fit, data, x, y):\n",
    "    phi1 = data['phi1_nodes']\n",
    "    phi2 = fit['phi2_nodes']\n",
    "    log_amp = fit['log_a_nodes']\n",
    "    w = np.exp(fit['log_w_nodes'])\n",
    "    h = data['h_nodes']\n",
    "    R = fit['R']\n",
    "    C = fit['C']\n",
    "    \n",
    "    x = np.atleast_1d(x)\n",
    "    y = np.atleast_1d(y)\n",
    "    \n",
    "    ln_val = np.zeros((data['n_nodes'], len(x)))\n",
    "    for i in range(data['n_nodes']):\n",
    "        ln_val[i] = [log_amp[i] + ln_normal_2d([x[n], y[n]], \n",
    "                                                mu=[phi1[i], phi2[i]], cov=C[i])\n",
    "                     for n in range(len(x))]\n",
    "    \n",
    "    return logsumexp(ln_val, axis=0)"
   ]
  },
  {
   "cell_type": "code",
   "execution_count": null,
   "metadata": {},
   "outputs": [],
   "source": [
    "dense_xbins = np.arange(xbins.min(), xbins.max(), 0.05)\n",
    "dense_ybins = np.arange(ybins.min(), ybins.max(), 0.05)\n",
    "\n",
    "dense_xc = 0.5 * (dense_xbins[:-1] + dense_xbins[1:])\n",
    "dense_yc = 0.5 * (dense_ybins[:-1] + dense_ybins[1:])\n",
    "dense_x, dense_y = map(np.ravel, np.meshgrid(dense_xc, dense_yc))\n",
    "dense_shape = (dense_ybins.size-1, dense_xbins.size-1)"
   ]
  },
  {
   "cell_type": "code",
   "execution_count": null,
   "metadata": {},
   "outputs": [],
   "source": [
    "py_hh = evaluate_stream_model(fit, data, dense_x, dense_y)\n",
    "py_hh = np.exp(py_hh.reshape(dense_shape))"
   ]
  },
  {
   "cell_type": "code",
   "execution_count": null,
   "metadata": {},
   "outputs": [],
   "source": [
    "fig, ax = plt.subplots(1, 1, figsize=(10, 4), \n",
    "                         sharex=True, sharey=True)\n",
    "\n",
    "ax.pcolormesh(dense_xbins, dense_ybins, py_hh, #np.arcsinh(py_hh / 5),\n",
    "              cmap='Greys')\n",
    "\n",
    "ax.set_aspect('equal')\n",
    "    \n",
    "fig.tight_layout()"
   ]
  },
  {
   "cell_type": "code",
   "execution_count": null,
   "metadata": {
    "scrolled": false
   },
   "outputs": [],
   "source": [
    "phi1_bins = np.arange(xbins.min(), xbins.max()+1e-3, 0.5)\n",
    "phi2_bins = dense_yc\n",
    "phi1_bins_c = 0.5 * (phi1_bins[:-1] + phi1_bins[1:])\n",
    "\n",
    "widths = []\n",
    "for p1, p2 in zip(phi1_bins[:-1], phi1_bins[1:]):\n",
    "    phi1_mask = (dense_xc > p1) & (dense_xc <= p2)\n",
    "    phi2_vals = py_hh[:, phi1_mask].sum(axis=1) / phi1_mask.sum()\n",
    "    widths.append(1 / (np.sqrt(2*np.pi) * phi2_vals.max()))"
   ]
  },
  {
   "cell_type": "code",
   "execution_count": null,
   "metadata": {},
   "outputs": [],
   "source": [
    "fig = plt.figure(figsize=(12, 4))\n",
    "plt.plot(phi1_bins_c, widths)\n",
    "plt.xlim(-15, 7.5)\n",
    "plt.ylim(0., 0.4)\n",
    "plt.xlabel(r'$\\phi_1$ [deg]')\n",
    "plt.ylabel('stream width, $w$ [deg]')\n",
    "fig.set_facecolor('w')\n",
    "fig.tight_layout()\n",
    "fig.savefig('../plots/stream-width.png', dpi=250)"
   ]
  },
  {
   "cell_type": "code",
   "execution_count": null,
   "metadata": {},
   "outputs": [],
   "source": []
  }
 ],
 "metadata": {
  "kernelspec": {
   "display_name": "Python [default]",
   "language": "python",
   "name": "python3"
  },
  "language_info": {
   "codemirror_mode": {
    "name": "ipython",
    "version": 3
   },
   "file_extension": ".py",
   "mimetype": "text/x-python",
   "name": "python",
   "nbconvert_exporter": "python",
   "pygments_lexer": "ipython3",
   "version": "3.6.8"
  }
 },
 "nbformat": 4,
 "nbformat_minor": 2
}