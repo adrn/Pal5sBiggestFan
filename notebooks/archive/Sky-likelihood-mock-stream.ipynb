{
 "cells": [
  {
   "cell_type": "code",
   "execution_count": null,
   "metadata": {},
   "outputs": [],
   "source": [
    "# Third-party\n",
    "import astropy.coordinates as coord\n",
    "from astropy.coordinates import SkyCoord\n",
    "import astropy.units as u\n",
    "import matplotlib as mpl\n",
    "import matplotlib.pyplot as plt\n",
    "import numpy as np\n",
    "%matplotlib inline\n",
    "\n",
    "# Custom\n",
    "import gala.coordinates as gc\n",
    "import gala.dynamics as gd\n",
    "from gala.dynamics.mockstream import fardal_stream, streakline_stream\n",
    "import gala.integrate as gi\n",
    "import gala.potential as gp\n",
    "from gala.units import galactic\n",
    "from matplotlib import cm\n",
    "from scipy.optimize import minimize\n",
    "\n",
    "from potential import default_mw\n",
    "from coordinates import galcen_frame, pal5_c\n",
    "\n",
    "from density import DensityModel2D, get_projected_coords\n",
    "from likelihood import a_to_z, Model"
   ]
  },
  {
   "cell_type": "markdown",
   "metadata": {},
   "source": [
    "Make a mock stream model for testing:"
   ]
  },
  {
   "cell_type": "code",
   "execution_count": null,
   "metadata": {},
   "outputs": [],
   "source": [
    "w0 = gd.PhaseSpacePosition(pal5_c.transform_to(galcen_frame).cartesian)\n",
    "orbit = default_mw.integrate_orbit(w0, dt=-0.5, n_steps=8000, \n",
    "                                   Integrator=gi.DOPRI853Integrator)\n",
    "\n",
    "stream = gd.mockstream.fardal_stream(default_mw, orbit[::-1], \n",
    "                                     5E4*u.Msun, release_every=1)\n",
    "_ = stream.plot(marker='.', alpha=0.1)"
   ]
  },
  {
   "cell_type": "markdown",
   "metadata": {},
   "source": [
    "We're going to do density fitting in Pal5 coordinates:"
   ]
  },
  {
   "cell_type": "code",
   "execution_count": null,
   "metadata": {},
   "outputs": [],
   "source": [
    "sim_c = stream.to_coord_frame(gc.Pal5, galactocentric_frame=galcen_frame)\n",
    "\n",
    "# Only grab data within bounds:\n",
    "lon_limits = [-50, 50]*u.deg\n",
    "lat_limits=[-10, 40]*u.deg\n",
    "\n",
    "mask = ((sim_c.phi1.wrap_at(180*u.deg) > lon_limits[0]) &\n",
    "        (sim_c.phi1.wrap_at(180*u.deg) < lon_limits[1]) & \n",
    "        (sim_c.phi2 > lat_limits[0]) &\n",
    "        (sim_c.phi2 < lat_limits[1]))\n",
    "sim_c = sim_c[mask]"
   ]
  },
  {
   "cell_type": "code",
   "execution_count": null,
   "metadata": {},
   "outputs": [],
   "source": [
    "X = get_projected_coords(sim_c, pal5_c).T\n",
    "mask = (X[:, 0] > -1) & (X[:, 1] > -1)\n",
    "X = X[mask]"
   ]
  },
  {
   "cell_type": "code",
   "execution_count": null,
   "metadata": {},
   "outputs": [],
   "source": [
    "spacing = 1.5 # MAGIC NUMBER\n",
    "dens_model = DensityModel2D(X, poly_deg=5)\n",
    "track = dens_model.get_dense_poly_track(size=10000)\n",
    "nodes = dens_model.set_nodes(track=track, spacing=spacing)\n",
    "# nodes = dens_model.set_nodes(track=track, nodes=nodes[1:-1])"
   ]
  },
  {
   "cell_type": "code",
   "execution_count": null,
   "metadata": {},
   "outputs": [],
   "source": [
    "plt.figure(figsize=(10, 10))\n",
    "plt.scatter(nodes[:, 0], nodes[:, 1])\n",
    "plt.plot(dens_model.X[:, 0], dens_model.X[:, 1], \n",
    "         marker='.', ls='none', alpha=1, zorder=-10, color='k')\n",
    "plt.xlim(-5, 40)"
   ]
  },
  {
   "cell_type": "code",
   "execution_count": null,
   "metadata": {},
   "outputs": [],
   "source": [
    "bins = (np.linspace(-5, 45, 250),\n",
    "        np.linspace(-5, 45, 250))\n",
    "bincs = [0.5*(x[1:]+x[:-1]) for x in bins]\n",
    "xg, yg = np.meshgrid(*bincs)\n",
    "X_grid = np.stack((xg.ravel(), yg.ravel())).T"
   ]
  },
  {
   "cell_type": "markdown",
   "metadata": {},
   "source": [
    "## Optimize:"
   ]
  },
  {
   "cell_type": "code",
   "execution_count": null,
   "metadata": {},
   "outputs": [],
   "source": [
    "h = 0.5 * spacing\n",
    "model = Model(dens_model, h=h, l=2.5)"
   ]
  },
  {
   "cell_type": "code",
   "execution_count": null,
   "metadata": {},
   "outputs": [],
   "source": [
    "K = dens_model.K\n",
    "print(K)"
   ]
  },
  {
   "cell_type": "code",
   "execution_count": null,
   "metadata": {},
   "outputs": [],
   "source": [
    "sk0 = 0.5 * np.ones(K)\n",
    "\n",
    "a0 = np.ones(K)/K\n",
    "z0 = a_to_z(a0)\n",
    "\n",
    "m0 = np.zeros(K)"
   ]
  },
  {
   "cell_type": "code",
   "execution_count": null,
   "metadata": {},
   "outputs": [],
   "source": [
    "p0 = {'ln_s': np.log(sk0),\n",
    "      'ln_z': np.log(z0),\n",
    "      'm': m0}\n",
    "x0 = model.pack_pars(**p0)\n",
    "model.ln_posterior(x0)"
   ]
  },
  {
   "cell_type": "code",
   "execution_count": null,
   "metadata": {},
   "outputs": [],
   "source": [
    "ln_dens = model.ln_density(p0, X_grid)\n",
    "\n",
    "fig, ax = plt.subplots(1, 1, figsize=(6, 6))\n",
    "ax.pcolormesh(xg, yg, np.exp(ln_dens.reshape(xg.shape) - ln_dens.max()),\n",
    "              cmap='Blues')\n",
    "ax.set_aspect('equal')"
   ]
  },
  {
   "cell_type": "code",
   "execution_count": null,
   "metadata": {},
   "outputs": [],
   "source": [
    "def likelihood_helper(x):\n",
    "    return -model.ln_posterior(x)\n",
    "\n",
    "def deriv_helper(x):\n",
    "    p = model.unpack_pars(x)\n",
    "    return -model.derivs(p)"
   ]
  },
  {
   "cell_type": "code",
   "execution_count": null,
   "metadata": {},
   "outputs": [],
   "source": [
    "bounds = [[-8, 4]]*K + [[-8, -1e-9]]*(K-1) + [[-5, 5]]*K\n",
    "\n",
    "res = minimize(likelihood_helper, jac=deriv_helper, \n",
    "               x0=x0, method='L-BFGS-B', \n",
    "               bounds=bounds,\n",
    "               options=dict(ftol=1e-13))\n",
    "res"
   ]
  },
  {
   "cell_type": "code",
   "execution_count": null,
   "metadata": {},
   "outputs": [],
   "source": [
    "fig, axes = plt.subplots(1, 3, figsize=(15, 5.5), \n",
    "                         sharex=True, sharey=True)\n",
    "\n",
    "ax = axes[0]\n",
    "# ax.plot(dens_model.proj_xy[0], dens_model.proj_xy[1], \n",
    "#         marker='.', ls='none', alpha=0.4, zorder=-10, color='k')\n",
    "H,xe,ye = np.histogram2d(dens_model.X[:,0], dens_model.X[:,1],\n",
    "                         bins=bins)\n",
    "ax.pcolormesh(xe, ye, H.T, cmap='Blues')\n",
    "\n",
    "ax = axes[1]\n",
    "ln_dens = model.ln_density(p0, X_grid)\n",
    "ax.pcolormesh(xg, yg, np.exp(ln_dens.reshape(xg.shape) - ln_dens.max()),\n",
    "              cmap='Blues')\n",
    "\n",
    "ax = axes[2]\n",
    "best_p = model.unpack_pars(res.x)\n",
    "ln_dens = model.ln_density(best_p, X_grid)\n",
    "H2 = np.exp(ln_dens.reshape(xg.shape) - ln_dens.max())\n",
    "ax.pcolormesh(xg, yg, H2,\n",
    "              cmap='Blues')\n",
    "\n",
    "for ax in axes:\n",
    "    ax.set_aspect('equal')"
   ]
  },
  {
   "cell_type": "code",
   "execution_count": null,
   "metadata": {},
   "outputs": [],
   "source": [
    "fig, ax = plt.subplots(1, 1, figsize=(10, 10))\n",
    "ax.pcolormesh(xg, yg, H.T,\n",
    "              cmap='Blues')\n",
    "ax.set_aspect('equal')\n",
    "ax.set_title('data')\n",
    "fig.savefig('../plots/stream-data.png', dpi=250)"
   ]
  },
  {
   "cell_type": "code",
   "execution_count": null,
   "metadata": {},
   "outputs": [],
   "source": [
    "fig, ax = plt.subplots(1, 1, figsize=(10, 10))\n",
    "ax.pcolormesh(xg, yg, H2,\n",
    "              cmap='Blues')\n",
    "ax.set_aspect('equal')\n",
    "ax.set_title('model')\n",
    "fig.savefig('../plots/stream-model.png', dpi=250)"
   ]
  },
  {
   "cell_type": "code",
   "execution_count": null,
   "metadata": {},
   "outputs": [],
   "source": [
    "fig, ax = plt.subplots(1, 1, figsize=(10, 10))\n",
    "ax.pcolormesh(xg, yg, H2,\n",
    "              cmap='Blues', \n",
    "              norm=mpl.colors.LogNorm(vmin=1e-5, vmax=1e0))\n",
    "ax.plot(X[:, 0], X[:, 1], \n",
    "        marker='.', ls='none', alpha=0.5, zorder=10, color='k')\n",
    "ax.set_aspect('equal')\n",
    "ax.set_xlim(bincs[0].min(), bincs[0].max())\n",
    "ax.set_ylim(bincs[1].min(), bincs[1].max())\n",
    "fig.savefig('../plots/stream-compare.png', dpi=250)"
   ]
  },
  {
   "cell_type": "code",
   "execution_count": null,
   "metadata": {},
   "outputs": [],
   "source": [
    "fig, ax = plt.subplots(1, 1, figsize=(10, 10))\n",
    "ax.pcolormesh(xg, yg, H2,\n",
    "              cmap='Blues', vmin=0, vmax=1e-2)\n",
    "ax.set_aspect('equal')\n",
    "ax.xaxis.set_visible(False)\n",
    "ax.yaxis.set_visible(False)"
   ]
  },
  {
   "cell_type": "code",
   "execution_count": null,
   "metadata": {},
   "outputs": [],
   "source": [
    "plt.scatter(dens_model.nodes[:, 0],\n",
    "            dens_model.nodes[:, 1])\n",
    "\n",
    "mu = model.get_mu(best_p)\n",
    "plt.scatter(mu[:, 0], mu[:, 1])"
   ]
  },
  {
   "cell_type": "code",
   "execution_count": null,
   "metadata": {},
   "outputs": [],
   "source": [
    "# plt.plot(dens_model.nodes[:, 0],\n",
    "#          dens_model.nodes[:, 1] - mu[:, 1])"
   ]
  },
  {
   "cell_type": "code",
   "execution_count": null,
   "metadata": {},
   "outputs": [],
   "source": [
    "plt.plot(nodes[:, 0], ak)"
   ]
  },
  {
   "cell_type": "code",
   "execution_count": null,
   "metadata": {},
   "outputs": [],
   "source": []
  }
 ],
 "metadata": {
  "kernelspec": {
   "display_name": "Python [default]",
   "language": "python",
   "name": "python3"
  },
  "language_info": {
   "codemirror_mode": {
    "name": "ipython",
    "version": 3
   },
   "file_extension": ".py",
   "mimetype": "text/x-python",
   "name": "python",
   "nbconvert_exporter": "python",
   "pygments_lexer": "ipython3",
   "version": "3.6.4"
  }
 },
 "nbformat": 4,
 "nbformat_minor": 2
}