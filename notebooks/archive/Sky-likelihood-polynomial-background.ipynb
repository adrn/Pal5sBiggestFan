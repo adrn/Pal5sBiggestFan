{
 "cells": [
  {
   "cell_type": "code",
   "execution_count": null,
   "metadata": {},
   "outputs": [],
   "source": [
    "# Third-party\n",
    "import astropy.coordinates as coord\n",
    "from astropy.coordinates import SkyCoord\n",
    "import astropy.units as u\n",
    "import matplotlib as mpl\n",
    "import matplotlib.pyplot as plt\n",
    "import numpy as np\n",
    "%matplotlib inline\n",
    "from scipy.stats import truncnorm\n",
    "\n",
    "# Custom\n",
    "from matplotlib import cm\n",
    "from scipy.optimize import minimize\n",
    "from scipy.special import logsumexp\n",
    "from sklearn.mixture import GaussianMixture\n",
    "\n",
    "from density import get_projected_coords, get_u_v, get_uniform_idx, GaussianNoodle2D\n",
    "from likelihood import z_to_a, a_to_z, StreamDensityModel"
   ]
  },
  {
   "cell_type": "code",
   "execution_count": null,
   "metadata": {},
   "outputs": [],
   "source": [
    "rnd = np.random.RandomState(22)\n",
    "\n",
    "h = 1.\n",
    "true_K = 3\n",
    "true_nodes = np.stack((np.linspace(0, 10, true_K),\n",
    "                       np.zeros(true_K))).T\n",
    "true_s = rnd.uniform(0.2, 0.5, size=true_K)\n",
    "\n",
    "true_z = rnd.uniform(0.8, 0.95, size=true_K-1)\n",
    "true_m = np.zeros(true_K)\n",
    "true_a = z_to_a(true_z)\n",
    "assert np.isclose(true_a.sum(), 1.)"
   ]
  },
  {
   "cell_type": "code",
   "execution_count": null,
   "metadata": {},
   "outputs": [],
   "source": [
    "# Sample from truth:\n",
    "C = np.zeros((true_K, 2, 2))\n",
    "C[:, 0, 0] = h**2\n",
    "C[:, 1, 1] = true_s**2\n",
    "\n",
    "P = np.zeros_like(C)\n",
    "for k in range(true_K):\n",
    "    P[k] = np.linalg.cholesky(np.linalg.inv(C[k]))\n",
    "\n",
    "gmm = GaussianMixture(n_components=true_K, covariance_type='full')\n",
    "gmm.fit(np.random.random(size=(true_K+1, 2)))\n",
    "gmm.weights_ = true_a\n",
    "gmm.covariances_ = C\n",
    "gmm.precisions_cholesky_ = P\n",
    "gmm.means_ = true_nodes\n",
    "\n",
    "# now add a uniform background\n",
    "n_samples_total = 10000\n",
    "true_f = 0.5\n",
    "n_stream = int(true_f * n_samples_total)\n",
    "gmm_X = gmm.sample(n_samples=n_stream)[0]"
   ]
  },
  {
   "cell_type": "markdown",
   "metadata": {},
   "source": [
    "Background points:"
   ]
  },
  {
   "cell_type": "code",
   "execution_count": null,
   "metadata": {},
   "outputs": [],
   "source": [
    "window_bounds = [[-5, 15], [-5, 5]]\n",
    "n_bg = n_samples_total - n_stream\n",
    "\n",
    "true_bg_mu = 20\n",
    "true_bg_sigma = 5\n",
    "myclip_a, myclip_b = window_bounds[0]\n",
    "a, b = (myclip_a - true_bg_mu) / true_bg_sigma, (myclip_b - true_bg_mu) / true_bg_sigma\n",
    "bg_x1 = truncnorm.rvs(a, b, loc=true_bg_mu, scale=true_bg_sigma, size=n_bg)\n",
    "bg_x2 = np.random.uniform(window_bounds[1][0], window_bounds[1][1], \n",
    "                          size=n_bg)\n",
    "bg_X = np.stack((bg_x1, bg_x2)).T\n",
    "\n",
    "X = np.vstack((gmm_X, bg_X))"
   ]
  },
  {
   "cell_type": "code",
   "execution_count": null,
   "metadata": {},
   "outputs": [],
   "source": [
    "plt.figure(figsize=(10, 4))\n",
    "plt.plot(X[:, 0], X[:, 1], marker='.', ls='none')\n",
    "plt.scatter(true_nodes[:, 0], true_nodes[:, 1], zorder=10, color='r')\n",
    "# plt.scatter(nodes[:, 0], nodes[:, 1], zorder=10, color='k')\n",
    "ax = plt.gca()\n",
    "ax.set_aspect('equal')\n",
    "ax.set_xlim(-5, 15)\n",
    "ax.set_ylim(-5, 5)"
   ]
  },
  {
   "cell_type": "markdown",
   "metadata": {},
   "source": [
    "Take derivatives of bg model:"
   ]
  },
  {
   "cell_type": "code",
   "execution_count": null,
   "metadata": {},
   "outputs": [],
   "source": [
    "x1_grid = np.linspace(window_bounds[0][0], window_bounds[0][1], 1024)\n",
    "x2_grid = np.zeros(len(x1_grid))\n",
    "X_grid = np.stack((x1_grid, x2_grid)).T\n",
    "\n",
    "bg_p0 = {'bg_c1': 1e-1, \n",
    "         'bg_c2': 0, \n",
    "         'bg_c3': 1.,\n",
    "         'bg_x0': -5.}\n",
    "\n",
    "bg_ll = ln_bg(bg_p0, X_grid)\n",
    "\n",
    "plt.plot(x1_grid, np.exp(bg_ll))\n",
    "plt.plot(x1_grid, truncnorm.pdf(x1_grid, a, b, loc=true_bg_mu, scale=true_bg_sigma) / 10.)"
   ]
  },
  {
   "cell_type": "code",
   "execution_count": null,
   "metadata": {},
   "outputs": [],
   "source": [
    "def ln_d_bg_dp(p, X):\n",
    "    a, b = window_bounds[0]\n",
    "    x, x2 = X.T\n",
    "    N = len(x)\n",
    "    \n",
    "    c1 = p['bg_c1']\n",
    "    c2 = p['bg_c2']\n",
    "    c3 = p['bg_c3']\n",
    "    x0 = p['bg_x0']\n",
    "    \n",
    "    \n",
    "    derivs = dict()\n",
    "    signs = dict()\n",
    "    \n",
    "    derivs['bg_c1'] = ((6*(2*a**2*(c3 + c2*(x - x0)) + 2*b**2*(c3 + c2*(x - x0)) - \n",
    "                          6*x*(c3*(x - 2*x0) + c2*x0*(-x + x0)) - 3*b*(2*c3*x0 + c2*(x - x0)*(x + x0)) + \n",
    "                          a*(-3*c2*x**2 - 6*c3*x0 + 3*c2*x0**2 + 2*b*(c3 + c2*x - c2*x0)))) /\n",
    "                        ((a - b)*(2*a**2*c1 + 2*a*b*c1 + 2*b**2*c1 + 3*a*c2 + 3*b*c2 + 6*c3 - \n",
    "                                  6*((a + b)*c1 + c2)*x0 + 6*c1*x0**2)**2))\n",
    "    \n",
    "    derivs['bg_c2'] = ((6*(2*a**2*c1*(-x + x0) + 2*b**2*c1*(-x + x0) - 6*x*(c3 + c1*(x - x0)*x0) + \n",
    "   3*b*(c3 + c1*(x - x0)*(x + x0)) + a*(3*c3 + c1*(x - x0)*(-2*b + 3*(x + x0)))))/\n",
    " ((a - b)*(2*a**2*c1 + 2*a*b*c1 + 2*b**2*c1 + 3*a*c2 + 3*b*c2 + 6*c3 - \n",
    "    6*((a + b)*c1 + c2)*x0 + 6*c1*x0**2)**2))\n",
    "    \n",
    "    derivs['bg_c3'] = ((-6*(2*a**2*c1 + 2*b**2*c1 + 3*b*c2 + a*(2*b*c1 + 3*c2) - 6*x*(c2 + c1*x)) + \n",
    "  36*c1*(a + b - 2*x)*x0)/((a - b)*(2*a**2*c1 + 2*a*b*c1 + 2*b**2*c1 + 3*a*c2 + 3*b*c2 + \n",
    "    6*c3 - 6*((a + b)*c1 + c2)*x0 + 6*c1*x0**2)**2))\n",
    "    \n",
    "    derivs['bg_x0'] = ((6*(6*(c2 + c1*(a + b - 2*x0))*(c3 + (c2 + c1*(x - x0))*(x - x0)) - \n",
    "   (c2 + 2*c1*(x - x0))*(2*a**2*c1 + 2*a*b*c1 + 2*b**2*c1 + 3*a*c2 + 3*b*c2 + 6*c3 - \n",
    "     6*((a + b)*c1 + c2)*x0 + 6*c1*x0**2)))/\n",
    " ((-a + b)*(2*a**2*c1 + 2*a*b*c1 + 2*b**2*c1 + 3*a*c2 + 3*b*c2 + 6*c3 - \n",
    "    6*((a + b)*c1 + c2)*x0 + 6*c1*x0**2)**2))\n",
    "    \n",
    "    # because it's multiplied in the likelihood\n",
    "    ln_px2 = -np.log(window_bounds[1][1] - window_bounds[1][0])\n",
    "    \n",
    "    for name in ['bg_c1', 'bg_c2', 'bg_c3', 'bg_x0']:\n",
    "        signs[name] = np.sign(derivs[name])\n",
    "        derivs[name] = np.log(np.abs(derivs[name])) + ln_px2\n",
    "    \n",
    "    return derivs, signs "
   ]
  },
  {
   "cell_type": "code",
   "execution_count": null,
   "metadata": {},
   "outputs": [],
   "source": [
    "# ln_d_bg_dp(bg_p0, X_grid)"
   ]
  },
  {
   "cell_type": "code",
   "execution_count": null,
   "metadata": {},
   "outputs": [],
   "source": [
    "true_dens_model = GaussianNoodle2D(X, poly=np.poly1d([0.]))\n",
    "track = true_dens_model.get_dense_poly_track(size=10000)\n",
    "nodes = true_dens_model.set_nodes(track=track, nodes=true_nodes)"
   ]
  },
  {
   "cell_type": "code",
   "execution_count": null,
   "metadata": {},
   "outputs": [],
   "source": [
    "bg_params = {'bg_c1': (1,),\n",
    "             'bg_c2': (1,),\n",
    "             'bg_c3': (1,),\n",
    "             'bg_x0': (1,)}\n",
    "model = StreamDensityModel(X, true_dens_model, h=h, \n",
    "                           bg_ln_likelihood=ln_bg, \n",
    "                           d_bg_ln_likelihood_dp=ln_d_bg_dp,\n",
    "                           bg_params=bg_params,\n",
    "                           m_prior_sigma=0.1,\n",
    "                           frozen=dict(bg_c2=0., \n",
    "                                       bg_c3=0.))"
   ]
  },
  {
   "cell_type": "code",
   "execution_count": null,
   "metadata": {},
   "outputs": [],
   "source": [
    "p0 = {'ln_s': np.log(true_s),\n",
    "      'ln_z': np.log(true_z),\n",
    "      'm': true_m,\n",
    "      'f': true_f}\n",
    "p0.update(bg_p0)"
   ]
  },
  {
   "cell_type": "code",
   "execution_count": null,
   "metadata": {},
   "outputs": [],
   "source": [
    "model.d_ln_likelihood_dp(p0)"
   ]
  },
  {
   "cell_type": "code",
   "execution_count": null,
   "metadata": {},
   "outputs": [],
   "source": [
    "def func_helper(x):\n",
    "    p = model.unpack_pars(x)\n",
    "    return -model.ln_likelihood(p).sum()\n",
    "\n",
    "def num_deriv_helper(x):\n",
    "    eps = 1e-10\n",
    "    num_derivs = []\n",
    "    for k in range(x.size):\n",
    "        x1 = x.copy()\n",
    "        x2 = x1.copy()\n",
    "        x2[k] = x2[k] + eps\n",
    "        _d = (func_helper(x2) - func_helper(x1)) / eps\n",
    "        num_derivs.append(_d)\n",
    "    return np.array(num_derivs)\n",
    "\n",
    "def deriv_helper(x):\n",
    "    p = model.unpack_pars(x)\n",
    "    derivs = model.d_ln_likelihood_dp(p)\n",
    "    return -np.concatenate(list(derivs.values()))"
   ]
  },
  {
   "cell_type": "code",
   "execution_count": null,
   "metadata": {},
   "outputs": [],
   "source": [
    "x0 = model.pack_pars(p0, fill_frozen=False)\n",
    "true_x = x0"
   ]
  },
  {
   "cell_type": "code",
   "execution_count": null,
   "metadata": {},
   "outputs": [],
   "source": [
    "x0"
   ]
  },
  {
   "cell_type": "code",
   "execution_count": null,
   "metadata": {},
   "outputs": [],
   "source": [
    "p0"
   ]
  },
  {
   "cell_type": "code",
   "execution_count": null,
   "metadata": {},
   "outputs": [],
   "source": [
    "func_helper(x0)"
   ]
  },
  {
   "cell_type": "code",
   "execution_count": null,
   "metadata": {},
   "outputs": [],
   "source": [
    "deriv_helper(x0)"
   ]
  },
  {
   "cell_type": "code",
   "execution_count": null,
   "metadata": {},
   "outputs": [],
   "source": [
    "num_deriv_helper(x0)"
   ]
  },
  {
   "cell_type": "code",
   "execution_count": null,
   "metadata": {},
   "outputs": [],
   "source": [
    "jj = model._params_sorted_unfrozen.index('f')\n",
    "vals = np.linspace(0.1, 1-1e-3, 128)\n",
    "# vals = np.linspace(np.log(0.1), np.log(5), 128)\n",
    "lls = []\n",
    "for val in vals:\n",
    "    xx = x0.copy()\n",
    "    xx[jj] = val\n",
    "    lls.append(-func_helper(xx))\n",
    "lls = np.array(lls)\n",
    "plt.plot(vals, np.exp(lls - lls.max()))\n",
    "plt.axvline(true_x[jj])"
   ]
  },
  {
   "cell_type": "code",
   "execution_count": null,
   "metadata": {},
   "outputs": [],
   "source": [
    "K = true_K"
   ]
  },
  {
   "cell_type": "code",
   "execution_count": null,
   "metadata": {},
   "outputs": [],
   "source": [
    "# min_bounds = [[None,None]]*3 + [[-5, 15]]\n",
    "# min_bounds = [[0,1e-2], [-1, 1], [-10, 10], [-5, 15]]\n",
    "# min_bounds = [[0,1e-2], [-1, 1], [-10, 10], [-5, 15]]\n",
    "min_bounds = [[None,None]] + [[-15, 15]]\n",
    "min_bounds = min_bounds +  [[1e-5, 1-1e-5]] + [[-8, 4]]*K + [[-8, -1e-9]]*(K-1) + [[-5, 5]]*K\n",
    "\n",
    "res = minimize(func_helper, jac=deriv_helper, \n",
    "               x0=x0, method='L-BFGS-B', \n",
    "               bounds=min_bounds,\n",
    "               options=dict(ftol=1e-13))"
   ]
  },
  {
   "cell_type": "code",
   "execution_count": null,
   "metadata": {},
   "outputs": [],
   "source": [
    "res\n",
    "assert res.success"
   ]
  },
  {
   "cell_type": "code",
   "execution_count": null,
   "metadata": {},
   "outputs": [],
   "source": [
    "bins = (np.arange(-10, 15+1e-3, 0.05),\n",
    "        np.arange(-5, 5+1e-3, 0.05))\n",
    "x, y = np.meshgrid(*bins)\n",
    "X_grid = np.stack((x.ravel(), y.ravel())).T"
   ]
  },
  {
   "cell_type": "code",
   "execution_count": null,
   "metadata": {},
   "outputs": [],
   "source": [
    "best_p = model.unpack_pars(res.x)\n",
    "ln_dens = model.ln_likelihood(best_p, X_grid).reshape(x.shape)"
   ]
  },
  {
   "cell_type": "code",
   "execution_count": null,
   "metadata": {},
   "outputs": [],
   "source": [
    "# derp = np.exp(ln_dens - ln_dens.max())\n",
    "# plt.pcolormesh(x, y, derp)\n",
    "\n",
    "plt.pcolormesh(x, y, ln_dens)"
   ]
  },
  {
   "cell_type": "code",
   "execution_count": null,
   "metadata": {},
   "outputs": [],
   "source": []
  },
  {
   "cell_type": "code",
   "execution_count": null,
   "metadata": {},
   "outputs": [],
   "source": []
  }
 ],
 "metadata": {
  "kernelspec": {
   "display_name": "Python [default]",
   "language": "python",
   "name": "python3"
  },
  "language_info": {
   "codemirror_mode": {
    "name": "ipython",
    "version": 3
   },
   "file_extension": ".py",
   "mimetype": "text/x-python",
   "name": "python",
   "nbconvert_exporter": "python",
   "pygments_lexer": "ipython3",
   "version": "3.6.4"
  }
 },
 "nbformat": 4,
 "nbformat_minor": 2
}