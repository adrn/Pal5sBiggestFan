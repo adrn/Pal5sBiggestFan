{
 "cells": [
  {
   "cell_type": "markdown",
   "metadata": {},
   "source": [
    "# TODO: this should become tests!"
   ]
  },
  {
   "cell_type": "code",
   "execution_count": null,
   "metadata": {},
   "outputs": [],
   "source": [
    "# Third-party\n",
    "import astropy.coordinates as coord\n",
    "from astropy.coordinates import SkyCoord\n",
    "import astropy.units as u\n",
    "import matplotlib as mpl\n",
    "import matplotlib.pyplot as plt\n",
    "import numpy as np\n",
    "%matplotlib inline\n",
    "\n",
    "# Custom\n",
    "from matplotlib import cm\n",
    "from scipy.optimize import minimize\n",
    "from scipy.special import logsumexp\n",
    "from sklearn.mixture import GaussianMixture\n",
    "\n",
    "from density import get_projected_coords, get_u_v, get_uniform_idx, GaussianNoodle2D\n",
    "from likelihood import z_to_a, a_to_z, StreamDensityModel"
   ]
  },
  {
   "cell_type": "code",
   "execution_count": null,
   "metadata": {},
   "outputs": [],
   "source": [
    "rnd = np.random.RandomState(22)\n",
    "\n",
    "h = 1.\n",
    "true_K = 3\n",
    "true_nodes = np.stack((np.linspace(0, 10, true_K),\n",
    "                       np.zeros(true_K))).T\n",
    "true_s = rnd.uniform(0.2, 0.5, size=true_K)\n",
    "\n",
    "true_z = rnd.uniform(0.8, 0.95, size=true_K-1)\n",
    "true_m = np.zeros(true_K)\n",
    "true_a = z_to_a(true_z)\n",
    "assert np.isclose(true_a.sum(), 1.)"
   ]
  },
  {
   "cell_type": "code",
   "execution_count": null,
   "metadata": {},
   "outputs": [],
   "source": [
    "# Sample from truth:\n",
    "C = np.zeros((true_K, 2, 2))\n",
    "C[:, 0, 0] = h**2\n",
    "C[:, 1, 1] = true_s**2\n",
    "\n",
    "P = np.zeros_like(C)\n",
    "for k in range(true_K):\n",
    "    P[k] = np.linalg.cholesky(np.linalg.inv(C[k]))\n",
    "\n",
    "gmm = GaussianMixture(n_components=true_K, covariance_type='full')\n",
    "gmm.fit(np.random.random(size=(true_K+1, 2)))\n",
    "gmm.weights_ = true_a\n",
    "gmm.covariances_ = C\n",
    "gmm.precisions_cholesky_ = P\n",
    "gmm.means_ = true_nodes\n",
    "\n",
    "# now add a uniform background\n",
    "n_samples_total = 10000\n",
    "true_f = 0.85\n",
    "n_stream = int(true_f * n_samples_total)\n",
    "gmm_X = gmm.sample(n_samples=n_stream)[0]\n",
    "\n",
    "window_bounds = [[-5, 15], [-5, 5]]\n",
    "n_bg = n_samples_total - n_stream\n",
    "unif_X = np.stack([np.random.uniform(b[0], b[1], size=n_bg) \n",
    "                   for b in window_bounds]).T\n",
    "X = np.vstack((gmm_X, unif_X))"
   ]
  },
  {
   "cell_type": "code",
   "execution_count": null,
   "metadata": {},
   "outputs": [],
   "source": [
    "true_dens_model = GaussianNoodle2D(X, poly=np.poly1d([0.]))\n",
    "track = true_dens_model.get_dense_poly_track(size=10000)\n",
    "nodes = true_dens_model.set_nodes(track=track, nodes=true_nodes)"
   ]
  },
  {
   "cell_type": "code",
   "execution_count": null,
   "metadata": {},
   "outputs": [],
   "source": [
    "def bg_ln_like(p, X):\n",
    "    N = len(X)\n",
    "    return np.full(N, np.sum([-np.log(b[1]-b[0]) for b in window_bounds]))"
   ]
  },
  {
   "cell_type": "code",
   "execution_count": null,
   "metadata": {},
   "outputs": [],
   "source": [
    "model = StreamDensityModel(X, true_dens_model, h=h, \n",
    "                           bg_ln_likelihood=bg_ln_like, \n",
    "                           m_prior_sigma=0.1)\n",
    "# frozen={'ln_s': np.log(true_s),\n",
    "#         'ln_z': np.log(true_z),\n",
    "#         'm': true_m}"
   ]
  },
  {
   "cell_type": "code",
   "execution_count": null,
   "metadata": {},
   "outputs": [],
   "source": [
    "p0 = {'ln_s': np.log(true_s),\n",
    "      'ln_z': np.log(true_z),\n",
    "      'm': true_m,\n",
    "      'f': true_f}"
   ]
  },
  {
   "cell_type": "code",
   "execution_count": null,
   "metadata": {},
   "outputs": [],
   "source": [
    "model.ln_prior(p0)"
   ]
  },
  {
   "cell_type": "code",
   "execution_count": null,
   "metadata": {},
   "outputs": [],
   "source": [
    "derivs, signs = model.ln_d_likelihood_dp(p0)"
   ]
  },
  {
   "cell_type": "code",
   "execution_count": null,
   "metadata": {},
   "outputs": [],
   "source": [
    "# for name in derivs:\n",
    "#     print(name, derivs[name].shape)"
   ]
  },
  {
   "cell_type": "code",
   "execution_count": null,
   "metadata": {},
   "outputs": [],
   "source": [
    "full_derivs = model.d_ln_likelihood_dp(p0)"
   ]
  },
  {
   "cell_type": "code",
   "execution_count": null,
   "metadata": {},
   "outputs": [],
   "source": [
    "# for name in full_derivs:\n",
    "#     print(name, full_derivs[name].shape)"
   ]
  },
  {
   "cell_type": "code",
   "execution_count": null,
   "metadata": {},
   "outputs": [],
   "source": [
    "def func_helper(x):\n",
    "    p = model.unpack_pars(x)\n",
    "    return model.ln_likelihood(p).sum()\n",
    "\n",
    "def num_deriv_helper(x):\n",
    "    eps = 1e-10\n",
    "    num_derivs = []\n",
    "    for k in range(x.size):\n",
    "        x1 = x.copy()\n",
    "        x2 = x1.copy()\n",
    "        x2[k] = x2[k] + eps\n",
    "        _d = (func_helper(x2) - func_helper(x1)) / eps\n",
    "        num_derivs.append(_d)\n",
    "    return np.array(num_derivs)\n",
    "\n",
    "def deriv_helper(x):\n",
    "    p = model.unpack_pars(x)\n",
    "    derivs = model.d_ln_likelihood_dp(p)\n",
    "    return np.concatenate(list(derivs.values()))"
   ]
  },
  {
   "cell_type": "code",
   "execution_count": null,
   "metadata": {},
   "outputs": [],
   "source": [
    "x0 = model.pack_pars(**p0)\n",
    "true_x = x0"
   ]
  },
  {
   "cell_type": "code",
   "execution_count": null,
   "metadata": {},
   "outputs": [],
   "source": [
    "func_helper(x0)"
   ]
  },
  {
   "cell_type": "code",
   "execution_count": null,
   "metadata": {},
   "outputs": [],
   "source": [
    "deriv_helper(x0)"
   ]
  },
  {
   "cell_type": "code",
   "execution_count": null,
   "metadata": {},
   "outputs": [],
   "source": [
    "num_deriv_helper(x0)"
   ]
  },
  {
   "cell_type": "code",
   "execution_count": null,
   "metadata": {},
   "outputs": [],
   "source": [
    "jj = 0\n",
    "vals = np.linspace(0.1, 1-1e-3, 128)\n",
    "# vals = np.linspace(np.log(0.1), np.log(5), 128)\n",
    "lls = []\n",
    "for val in vals:\n",
    "    xx = x0.copy()\n",
    "    xx[jj] = val\n",
    "    lls.append(func_helper(xx))\n",
    "lls = np.array(lls)\n",
    "plt.plot(vals, np.exp(lls - lls.max()))\n",
    "plt.axvline(true_x[jj])"
   ]
  },
  {
   "cell_type": "code",
   "execution_count": null,
   "metadata": {},
   "outputs": [],
   "source": []
  },
  {
   "cell_type": "code",
   "execution_count": null,
   "metadata": {},
   "outputs": [],
   "source": []
  },
  {
   "cell_type": "code",
   "execution_count": null,
   "metadata": {},
   "outputs": [],
   "source": []
  }
 ],
 "metadata": {
  "kernelspec": {
   "display_name": "Python [default]",
   "language": "python",
   "name": "python3"
  },
  "language_info": {
   "codemirror_mode": {
    "name": "ipython",
    "version": 3
   },
   "file_extension": ".py",
   "mimetype": "text/x-python",
   "name": "python",
   "nbconvert_exporter": "python",
   "pygments_lexer": "ipython3",
   "version": "3.6.4"
  }
 },
 "nbformat": 4,
 "nbformat_minor": 2
}