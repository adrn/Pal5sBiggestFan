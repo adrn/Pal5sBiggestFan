{
 "cells": [
  {
   "cell_type": "code",
   "execution_count": null,
   "metadata": {},
   "outputs": [],
   "source": [
    "# Third-party\n",
    "import astropy.coordinates as coord\n",
    "import astropy.units as u\n",
    "from astropy.wcs import WCS\n",
    "\n",
    "import matplotlib as mpl\n",
    "import matplotlib.pyplot as plt\n",
    "import numpy as np\n",
    "%matplotlib inline"
   ]
  },
  {
   "cell_type": "code",
   "execution_count": null,
   "metadata": {},
   "outputs": [],
   "source": [
    "from astropy.wcs import WCS\n",
    "\n",
    "def get_projected_coords(c, pal5_c):\n",
    "    \"\"\"\n",
    "    Parameters\n",
    "    ----------\n",
    "    c : astropy SkyCoord object\n",
    "        The coordinates that you want to project\n",
    "    pal5_c : astropy SkyCoord object\n",
    "        The coordinates of Pal 5 the cluster\n",
    "    \"\"\"\n",
    "    offset_fr = coord.SkyOffsetFrame(origin=pal5_c)\n",
    "    c2 = c.transform_to(offset_fr)\n",
    "\n",
    "    wcs = WCS(naxis=2)\n",
    "    wcs.wcs.crpix = [0., 0.]\n",
    "    wcs.wcs.cdelt = [1., 1.]\n",
    "    wcs.wcs.crval = [0, 0]\n",
    "    wcs.wcs.ctype = [\"RA---ZEA\", \"DEC--ZEA\"]\n",
    "\n",
    "    return wcs.wcs_world2pix(c2.lon.degree, c2.lat.degree, 0)"
   ]
  },
  {
   "cell_type": "markdown",
   "metadata": {},
   "source": [
    "### Demo:"
   ]
  },
  {
   "cell_type": "code",
   "execution_count": null,
   "metadata": {},
   "outputs": [],
   "source": [
    "pal5 = coord.SkyCoord.from_name('Palomar 5')"
   ]
  },
  {
   "cell_type": "code",
   "execution_count": null,
   "metadata": {},
   "outputs": [],
   "source": [
    "ra = np.random.uniform(pal5.ra.degree-10, pal5.ra.degree+10, size=1000)\n",
    "dec = np.random.uniform(pal5.dec.degree-10, pal5.dec.degree+10, size=1000)\n",
    "\n",
    "c = coord.SkyCoord(ra=ra*u.deg, dec=dec*u.deg)"
   ]
  },
  {
   "cell_type": "code",
   "execution_count": null,
   "metadata": {},
   "outputs": [],
   "source": [
    "c2 = c.transform_to(offset_fr)\n",
    "plt.scatter(c2.lon.degree, c2.lat.degree)"
   ]
  },
  {
   "cell_type": "code",
   "execution_count": null,
   "metadata": {},
   "outputs": [],
   "source": [
    "x, y= get_projected_coords(c, pal5)"
   ]
  },
  {
   "cell_type": "code",
   "execution_count": null,
   "metadata": {},
   "outputs": [],
   "source": [
    "plt.scatter(x, y)"
   ]
  },
  {
   "cell_type": "code",
   "execution_count": null,
   "metadata": {},
   "outputs": [],
   "source": []
  }
 ],
 "metadata": {
  "kernelspec": {
   "display_name": "Python [default]",
   "language": "python",
   "name": "python3"
  },
  "language_info": {
   "codemirror_mode": {
    "name": "ipython",
    "version": 3
   },
   "file_extension": ".py",
   "mimetype": "text/x-python",
   "name": "python",
   "nbconvert_exporter": "python",
   "pygments_lexer": "ipython3",
   "version": "3.6.4"
  }
 },
 "nbformat": 4,
 "nbformat_minor": 2
}