{
 "cells": [
  {
   "cell_type": "code",
   "execution_count": 7,
   "metadata": {},
   "outputs": [],
   "source": [
    "import numpy as np\n",
    "import gala.coordinates as gc\n",
    "import astropy.coordinates as coord"
   ]
  },
  {
   "cell_type": "code",
   "execution_count": 12,
   "metadata": {},
   "outputs": [],
   "source": [
    "R = gc.pal5.icrs_to_pal5()"
   ]
  },
  {
   "cell_type": "code",
   "execution_count": 13,
   "metadata": {},
   "outputs": [
    {
     "name": "stdout",
     "output_type": "stream",
     "text": [
      "-0.6558203595\n",
      "-0.7549138934\n",
      "-0.0021642207\n",
      "-0.6286570070\n",
      "0.5477192750\n",
      "-0.5520814915\n",
      "0.4179593651\n",
      "-0.3607057264\n",
      "-0.8337873479\n"
     ]
    }
   ],
   "source": [
    "for i in range(3):\n",
    "    for j in range(3):\n",
    "        print('{:.10f}'.format(R[i][j]))"
   ]
  },
  {
   "cell_type": "code",
   "execution_count": 21,
   "metadata": {},
   "outputs": [
    {
     "name": "stdout",
     "output_type": "stream",
     "text": [
      "-0.6558203595 & -0.7549138934 & -0.0021642207 \\\\\n",
      "-0.6286570070 & 0.5477192750 & -0.5520814915 \\\\\n",
      "0.4179593651 & -0.3607057264 & -0.8337873479 \\\\\n"
     ]
    }
   ],
   "source": [
    "fout = open('../paper/rotation_matrix.tex', 'w')\n",
    "\n",
    "for i in range(3):\n",
    "    elements = ['{:.10f}'.format(x) for x in R[i]]\n",
    "    line = ' & '.join(elements) + ' \\\\\\\\'\n",
    "    print(line)\n",
    "    fout.write('{}\\n'.format(line))\n",
    "\n",
    "fout.close()"
   ]
  },
  {
   "cell_type": "code",
   "execution_count": null,
   "metadata": {},
   "outputs": [],
   "source": []
  }
 ],
 "metadata": {
  "kernelspec": {
   "display_name": "Python 3",
   "language": "python",
   "name": "python3"
  },
  "language_info": {
   "codemirror_mode": {
    "name": "ipython",
    "version": 3
   },
   "file_extension": ".py",
   "mimetype": "text/x-python",
   "name": "python",
   "nbconvert_exporter": "python",
   "pygments_lexer": "ipython3",
   "version": "3.6.9"
  }
 },
 "nbformat": 4,
 "nbformat_minor": 2
}
