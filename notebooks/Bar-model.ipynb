{
 "cells": [
  {
   "cell_type": "code",
   "execution_count": null,
   "metadata": {},
   "outputs": [],
   "source": [
    "from os import path\n",
    "\n",
    "import astropy.units as u\n",
    "import h5py\n",
    "import matplotlib as mpl\n",
    "import matplotlib.pyplot as plt\n",
    "%matplotlib inline\n",
    "import numpy as np\n",
    "\n",
    "# Custom\n",
    "import gala.coordinates as gc\n",
    "import gala.dynamics as gd\n",
    "import gala.integrate as gi\n",
    "import gala.potential as gp\n",
    "from gala.units import galactic"
   ]
  },
  {
   "cell_type": "code",
   "execution_count": null,
   "metadata": {},
   "outputs": [],
   "source": [
    "mw = gp.BovyMWPotential2014()"
   ]
  },
  {
   "cell_type": "markdown",
   "metadata": {},
   "source": [
    "Load default bar model coefficients:"
   ]
  },
  {
   "cell_type": "code",
   "execution_count": null,
   "metadata": {},
   "outputs": [],
   "source": [
    "S = np.load('../data/Sn9l19m.npy')\n",
    "Serr = np.load('../data/Sn9l19m_err.npy')"
   ]
  },
  {
   "cell_type": "code",
   "execution_count": null,
   "metadata": {},
   "outputs": [],
   "source": [
    "plt.plot(np.abs(S[:, 0, 0]))\n",
    "plt.plot(np.abs(Serr[:, 0, 0]))\n",
    "plt.yscale('log')"
   ]
  },
  {
   "cell_type": "code",
   "execution_count": null,
   "metadata": {},
   "outputs": [],
   "source": [
    "plt.plot(np.abs(S[2, :, 0]))\n",
    "plt.plot(np.abs(Serr[2, :, 0]))\n",
    "plt.yscale('log')"
   ]
  },
  {
   "cell_type": "code",
   "execution_count": null,
   "metadata": {},
   "outputs": [],
   "source": [
    "plt.plot(np.abs(S[2, 8, :]))\n",
    "plt.plot(np.abs(Serr[2, 8, :]))\n",
    "plt.yscale('log')"
   ]
  },
  {
   "cell_type": "markdown",
   "metadata": {},
   "source": [
    "---\n",
    "\n",
    "### Like Banik and Bovy, add bar model to MWPotential2014\n",
    "\n",
    "Here we just set up the default potential model, before scaling the bar size"
   ]
  },
  {
   "cell_type": "code",
   "execution_count": null,
   "metadata": {},
   "outputs": [],
   "source": [
    "pot = gp.CCompositePotential()\n",
    "pot['disk'] = mw['disk']\n",
    "pot['halo'] = mw['halo']\n",
    "pot['bar'] = gp.SCFPotential(m=5e9 / 9, r_s=1., # MAGIC NUMBER: just believe\n",
    "                             Snlm=S,\n",
    "                             units=galactic)"
   ]
  },
  {
   "cell_type": "code",
   "execution_count": null,
   "metadata": {},
   "outputs": [],
   "source": [
    "xyz = np.zeros((3, 1024)) + 1e-8\n",
    "xyz[0] = np.linspace(0, 30, xyz.shape[1])\n",
    "    \n",
    "plt.figure(figsize=(8, 5))\n",
    "plt.plot(xyz[0], mw.circular_velocity(xyz).to_value(u.km/u.s))\n",
    "plt.plot(xyz[0], pot.circular_velocity(xyz).to_value(u.km/u.s))\n",
    "plt.xlim(0, 30)\n",
    "plt.ylim(0, 300)"
   ]
  },
  {
   "cell_type": "markdown",
   "metadata": {},
   "source": [
    "---\n",
    "\n",
    "## Visualize surface density"
   ]
  },
  {
   "cell_type": "code",
   "execution_count": null,
   "metadata": {},
   "outputs": [],
   "source": [
    "diskbar = gp.CCompositePotential()\n",
    "diskbar['disk'] = mw['disk']\n",
    "diskbar['bar'] = pot['bar']"
   ]
  },
  {
   "cell_type": "code",
   "execution_count": null,
   "metadata": {},
   "outputs": [],
   "source": [
    "grid = np.linspace(-15, 15, 64)\n",
    "x,y,z = np.meshgrid(grid, grid, grid)\n",
    "xyz = np.stack((x, y, z))\n",
    "dx = grid[1] - grid[0]"
   ]
  },
  {
   "cell_type": "code",
   "execution_count": null,
   "metadata": {},
   "outputs": [],
   "source": [
    "dens = diskbar.density(xyz.reshape(3, -1))"
   ]
  },
  {
   "cell_type": "code",
   "execution_count": null,
   "metadata": {},
   "outputs": [],
   "source": [
    "surf_dens = np.sum(dens.reshape(xyz.shape[1:]), axis=-1) * dx * u.kpc"
   ]
  },
  {
   "cell_type": "code",
   "execution_count": null,
   "metadata": {},
   "outputs": [],
   "source": [
    "fig, ax = plt.subplots(1, 1, figsize=(6, 6))\n",
    "ax.pcolormesh(xyz[0, ..., -1], xyz[1, ..., -1], surf_dens.T.value, \n",
    "              norm=mpl.colors.LogNorm())"
   ]
  },
  {
   "cell_type": "markdown",
   "metadata": {},
   "source": [
    "---\n",
    "\n",
    "## Figure out bar scaling with pattern speed"
   ]
  },
  {
   "cell_type": "code",
   "execution_count": null,
   "metadata": {},
   "outputs": [],
   "source": [
    "disknobar = gp.CCompositePotential()\n",
    "disknobar['disk'] = mw['disk']\n",
    "disknobar['bulge'] = mw['bulge']"
   ]
  },
  {
   "cell_type": "code",
   "execution_count": null,
   "metadata": {},
   "outputs": [],
   "source": [
    "diskbar1 = gp.CCompositePotential()\n",
    "diskbar1['disk'] = mw['disk']\n",
    "diskbar1['bar'] = gp.SCFPotential(m=5e9 / 10., r_s=1., # MAGIC NUMBER: just believe\n",
    "                                 Snlm=S,\n",
    "                                 units=galactic)\n",
    "\n",
    "diskbar2 = gp.CCompositePotential()\n",
    "diskbar2['disk'] = mw['disk']\n",
    "diskbar2['bar'] = gp.SCFPotential(m=5e9 / 10., r_s=2, # MAGIC NUMBER: just believe\n",
    "                                 Snlm=S,\n",
    "                                 units=galactic)"
   ]
  },
  {
   "cell_type": "code",
   "execution_count": null,
   "metadata": {},
   "outputs": [],
   "source": [
    "grid = np.linspace(-10, 10, 32)\n",
    "x,y,z = np.meshgrid(grid, grid, grid)\n",
    "xyz = np.stack((x, y, z))\n",
    "dx = grid[1] - grid[0]"
   ]
  },
  {
   "cell_type": "code",
   "execution_count": null,
   "metadata": {},
   "outputs": [],
   "source": [
    "dens = diskbar1.density(xyz.reshape(3, -1))\n",
    "surf_dens1 = np.sum(dens.reshape(xyz.shape[1:]), axis=-1) * dx * u.kpc\n",
    "\n",
    "dens = diskbar2.density(xyz.reshape(3, -1))\n",
    "surf_dens2 = np.sum(dens.reshape(xyz.shape[1:]), axis=-1) * dx * u.kpc\n",
    "\n",
    "fig, axes = plt.subplots(1, 2, figsize=(12, 6))\n",
    "axes[0].pcolormesh(xyz[0, ..., -1], xyz[1, ..., -1], surf_dens1.T.value, \n",
    "              norm=mpl.colors.LogNorm())\n",
    "axes[1].pcolormesh(xyz[0, ..., -1], xyz[1, ..., -1], surf_dens2.T.value, \n",
    "              norm=mpl.colors.LogNorm())"
   ]
  },
  {
   "cell_type": "code",
   "execution_count": null,
   "metadata": {},
   "outputs": [],
   "source": [
    "xyz = np.zeros((3, 1024)) + 1e-8\n",
    "xyz[0] = np.linspace(0, 30, xyz.shape[1])\n",
    "    \n",
    "plt.figure(figsize=(8, 5))\n",
    "plt.plot(xyz[0], disknobar.circular_velocity(xyz).to_value(u.km/u.s))\n",
    "plt.plot(xyz[0], diskbar1.circular_velocity(xyz).to_value(u.km/u.s))\n",
    "plt.plot(xyz[0], diskbar2.circular_velocity(xyz).to_value(u.km/u.s))\n",
    "plt.xlim(0, 30)\n",
    "plt.ylim(0, 300)"
   ]
  },
  {
   "cell_type": "code",
   "execution_count": null,
   "metadata": {},
   "outputs": [],
   "source": [
    "solar_R = [8.1, 0, 0] * u.kpc\n",
    "print(disknobar.circular_velocity(solar_R),\n",
    "      diskbar1.circular_velocity(solar_R),\n",
    "      diskbar2.circular_velocity(solar_R))"
   ]
  },
  {
   "cell_type": "markdown",
   "metadata": {},
   "source": [
    "---"
   ]
  },
  {
   "cell_type": "code",
   "execution_count": null,
   "metadata": {},
   "outputs": [],
   "source": [
    "from scipy.optimize import minimize"
   ]
  },
  {
   "cell_type": "code",
   "execution_count": null,
   "metadata": {},
   "outputs": [],
   "source": [
    "def corot_func(r_cr, Omega):\n",
    "    vc = disknobar.circular_velocity([r_cr, 0., 0.])\n",
    "    return abs(vc - Omega*r_cr*u.kpc).decompose().value[0]"
   ]
  },
  {
   "cell_type": "code",
   "execution_count": null,
   "metadata": {},
   "outputs": [],
   "source": [
    "def get_bar_model(Omega):\n",
    "    res = minimize(corot_func, x0=4., args=(Omega, ))\n",
    "    r_cr = res.x[0]\n",
    "    r_s = r_cr / 3.2 # 3.2 scales this to the value WZ2012 use (60 km/s/kpc)\n",
    "    \n",
    "    return gp.SCFPotential(m=5e9 / 10., r_s=r_s, # 10 is a MAGIC NUMBER: just believe\n",
    "                           Snlm=S,\n",
    "                           units=galactic)"
   ]
  },
  {
   "cell_type": "code",
   "execution_count": null,
   "metadata": {},
   "outputs": [],
   "source": []
  },
  {
   "cell_type": "code",
   "execution_count": null,
   "metadata": {},
   "outputs": [],
   "source": []
  },
  {
   "cell_type": "code",
   "execution_count": null,
   "metadata": {},
   "outputs": [],
   "source": []
  }
 ],
 "metadata": {
  "kernelspec": {
   "display_name": "Python [default]",
   "language": "python",
   "name": "python3"
  },
  "language_info": {
   "codemirror_mode": {
    "name": "ipython",
    "version": 3
   },
   "file_extension": ".py",
   "mimetype": "text/x-python",
   "name": "python",
   "nbconvert_exporter": "python",
   "pygments_lexer": "ipython3",
   "version": "3.6.4"
  }
 },
 "nbformat": 4,
 "nbformat_minor": 2
}