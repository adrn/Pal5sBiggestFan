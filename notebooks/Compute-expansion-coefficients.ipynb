{
 "cells": [
  {
   "cell_type": "code",
   "execution_count": null,
   "metadata": {},
   "outputs": [],
   "source": [
    "import math\n",
    "from os import path\n",
    "\n",
    "import astropy.units as u\n",
    "import biff.scf as bscf\n",
    "import gala.potential as gp\n",
    "from gala.units import galactic\n",
    "import h5py\n",
    "import numpy as np\n",
    "from scipy.optimize import minimize\n",
    "\n",
    "import matplotlib as mpl\n",
    "import matplotlib.pyplot as plt\n",
    "%matplotlib inline\n",
    "\n",
    "from gala.potential.scf import compute_coeffs"
   ]
  },
  {
   "cell_type": "code",
   "execution_count": null,
   "metadata": {},
   "outputs": [],
   "source": [
    "# hard-coded from Wang & Zhao (2012)\n",
    "x0 = 1.49\n",
    "y0 = 0.58\n",
    "z0 = 0.4\n",
    "q = 0.6\n",
    "\n",
    "def dwek_density(x, y, z, src=math):\n",
    "    r1 = (((x/x0)**2 + (y/y0)**2)**2 + (z/z0)**4) ** 0.25\n",
    "    r2 = src.sqrt((q**2*(x**2+y**2) + z**2) / z0**2)\n",
    "    return src.exp(-r1**2 / 2) + r2**-1.85*src.exp(-r2)"
   ]
  },
  {
   "cell_type": "code",
   "execution_count": null,
   "metadata": {},
   "outputs": [],
   "source": [
    "nmax = 9\n",
    "lmax = 19\n",
    "\n",
    "S_filename = '../data/Sn{0}l{1}m.npy'.format(nmax,lmax)\n",
    "Serr_filename = '../data/Sn{0}l{1}m_err.npy'.format(nmax,lmax)\n",
    "if not path.exists(S_filename):\n",
    "    S, Serr = compute_coeffs(dwek_density, nmax=nmax, lmax=lmax, \n",
    "                             M=1., r_s=1., progress=True, S_only=True)\n",
    "    np.save(S_filename, S)\n",
    "    np.save(Serr_filename, Serr)\n",
    "    \n",
    "S = np.load(S_filename)\n",
    "Serr = np.load(Serr_filename)"
   ]
  },
  {
   "cell_type": "code",
   "execution_count": null,
   "metadata": {},
   "outputs": [],
   "source": [
    "bar = bscf.SCFPotential(m=1, r_s=1.,\n",
    "                        Snlm=S,\n",
    "                        Tnlm=np.zeros_like(S),\n",
    "                        units=galactic)"
   ]
  },
  {
   "cell_type": "code",
   "execution_count": null,
   "metadata": {},
   "outputs": [],
   "source": [
    "grid = np.linspace(-4, 4, 128)\n",
    "\n",
    "fig, axes = plt.subplots(1, 2, figsize=(12, 6))\n",
    "# _ = bar.plot_density_contours(grid=(grid, grid, 0.), ax=ax, )\n",
    "_ = bar.plot_contours(grid=(grid, grid, 0.), ax=axes[0])\n",
    "_ = bar.plot_contours(grid=(grid, 0, grid), ax=axes[1])"
   ]
  },
  {
   "cell_type": "code",
   "execution_count": null,
   "metadata": {},
   "outputs": [],
   "source": [
    "fig, ax = plt.subplots(1, 1, figsize=(8, 5))\n",
    "\n",
    "xyz = np.zeros((3, 1024)) + 1e-8\n",
    "xyz[0] = np.logspace(-1, 2, xyz.shape[1])\n",
    "ax.plot(xyz[0], bar.mass_enclosed(xyz))\n",
    "ax.set_xscale('log')\n",
    "ax.set_yscale('log')\n",
    "ax.axvline(x0)"
   ]
  },
  {
   "cell_type": "code",
   "execution_count": null,
   "metadata": {},
   "outputs": [],
   "source": [
    "fig, axes = plt.subplots(1, 3, figsize=(15, 5), \n",
    "                         sharex=True, sharey=True)\n",
    "\n",
    "for i in range(3):\n",
    "    xyz = np.zeros((3, 1024)) + 1e-8\n",
    "    # xyz[i] = np.linspace(1, 100, xyz.shape[1])\n",
    "    xyz[i] = np.logspace(-1, 1, xyz.shape[1])\n",
    "    \n",
    "    dens = bar.density(xyz)\n",
    "    true_dens = np.array([dwek_density(x, y, z) for x,y,z in xyz.T])\n",
    "\n",
    "    ax = axes[i]\n",
    "    ax.plot(xyz[i], true_dens)\n",
    "    ax.plot(xyz[i], dens)\n",
    "\n",
    "ax.set_xscale('log')\n",
    "ax.set_yscale('log')\n",
    "\n",
    "ax.set_ylim(1e-6, 100)\n",
    "\n",
    "# ---\n",
    "\n",
    "fig, axes = plt.subplots(1, 3, figsize=(15, 5), \n",
    "                         sharex=True, sharey=True)\n",
    "\n",
    "for i in range(3):\n",
    "    xyz = np.zeros((3, 1024)) + 1e-5\n",
    "    xyz[i] = np.linspace(1, 100, xyz.shape[1])\n",
    "\n",
    "    ax = axes[i]\n",
    "    grad = bar.gradient(xyz)\n",
    "    ax.plot(xyz[i], grad[0])\n",
    "    ax.plot(xyz[i], grad[1])\n",
    "    ax.plot(xyz[i], grad[2])\n",
    "\n",
    "ax.set_xscale('log')\n",
    "ax.set_yscale('log')\n",
    "\n",
    "# ax.set_ylim(1e-6, 4)"
   ]
  },
  {
   "cell_type": "markdown",
   "metadata": {},
   "source": [
    "---\n",
    "\n",
    "Like Banik and Bovy, add bar model to MWPotential2014"
   ]
  },
  {
   "cell_type": "code",
   "execution_count": null,
   "metadata": {},
   "outputs": [],
   "source": [
    "mw = gp.BovyMWPotential2014()\n",
    "\n",
    "pot = gp.CCompositePotential()\n",
    "pot['disk'] = mw['disk']\n",
    "pot['halo'] = mw['halo']\n",
    "pot['bar'] = bscf.SCFPotential(m=5e9 / 9, r_s=1., # MAGIC NUMBER: just believe\n",
    "                               Snlm=S,\n",
    "                               Tnlm=np.zeros_like(S),\n",
    "                               units=galactic)"
   ]
  },
  {
   "cell_type": "code",
   "execution_count": null,
   "metadata": {},
   "outputs": [],
   "source": [
    "xyz = np.zeros((3, 1024)) + 1e-8\n",
    "xyz[0] = np.linspace(0, 30, xyz.shape[1])\n",
    "    \n",
    "plt.figure(figsize=(8, 5))\n",
    "plt.plot(xyz[0], mw.circular_velocity(xyz).to_value(u.km/u.s))\n",
    "plt.plot(xyz[0], pot.circular_velocity(xyz).to_value(u.km/u.s))\n",
    "plt.xlim(0, 30)\n",
    "plt.ylim(0, 300)"
   ]
  },
  {
   "cell_type": "markdown",
   "metadata": {},
   "source": [
    "---\n",
    "\n",
    "## Visualize surface density"
   ]
  },
  {
   "cell_type": "code",
   "execution_count": null,
   "metadata": {},
   "outputs": [],
   "source": [
    "grid = np.linspace(-25, 25, 128)\n",
    "x,y,z = np.meshgrid(grid, grid, grid)\n",
    "xyz = np.stack((x, y, z))\n",
    "dx = grid[1] - grid[0]"
   ]
  },
  {
   "cell_type": "code",
   "execution_count": null,
   "metadata": {},
   "outputs": [],
   "source": [
    "dx = grid[1] - grid[0]"
   ]
  },
  {
   "cell_type": "code",
   "execution_count": null,
   "metadata": {},
   "outputs": [],
   "source": [
    "dens = pot.density(xyz.reshape(3, -1))"
   ]
  },
  {
   "cell_type": "code",
   "execution_count": null,
   "metadata": {},
   "outputs": [],
   "source": [
    "surf_dens = np.sum(dens.reshape(xyz.shape[1:]), axis=-1) * dx * u.kpc"
   ]
  },
  {
   "cell_type": "code",
   "execution_count": null,
   "metadata": {},
   "outputs": [],
   "source": [
    "grid = np.linspace(-25, 25, 128)\n",
    "\n",
    "fig, ax = plt.subplots(1, 1, figsize=(6, 6))\n",
    "ax.pcolormesh(xyz[0, ..., -1], xyz[1, ..., -1], surf_dens.T.value, \n",
    "              norm=mpl.colors.LogNorm())\n",
    "\n",
    "# _ = pot.plot_density_contours(grid=(grid, grid, 0.), ax=ax, \n",
    "#                               levels=np.logspace(7.5, 10, 16),\n",
    "#                               cmap='Spectral')"
   ]
  },
  {
   "cell_type": "code",
   "execution_count": null,
   "metadata": {},
   "outputs": [],
   "source": []
  }
 ],
 "metadata": {
  "kernelspec": {
   "display_name": "Python [default]",
   "language": "python",
   "name": "python3"
  },
  "language_info": {
   "codemirror_mode": {
    "name": "ipython",
    "version": 3
   },
   "file_extension": ".py",
   "mimetype": "text/x-python",
   "name": "python",
   "nbconvert_exporter": "python",
   "pygments_lexer": "ipython3",
   "version": "3.6.4"
  }
 },
 "nbformat": 4,
 "nbformat_minor": 2
}