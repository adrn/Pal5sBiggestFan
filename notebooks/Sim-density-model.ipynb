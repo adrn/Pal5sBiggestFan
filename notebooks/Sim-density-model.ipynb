{
 "cells": [
  {
   "cell_type": "code",
   "execution_count": 1,
   "metadata": {},
   "outputs": [
    {
     "name": "stderr",
     "output_type": "stream",
     "text": [
      "/anaconda3/lib/python3.6/site-packages/h5py/__init__.py:36: FutureWarning: Conversion of the second argument of issubdtype from `float` to `np.floating` is deprecated. In future, it will be treated as `np.float64 == np.dtype(float).type`.\n",
      "  from ._conv import register_converters as _register_converters\n"
     ]
    }
   ],
   "source": [
    "import pickle\n",
    "\n",
    "# Third-party\n",
    "import astropy.coordinates as coord\n",
    "from astropy.io import fits\n",
    "from astropy.table import Table\n",
    "import astropy.units as u\n",
    "import matplotlib as mpl\n",
    "import matplotlib.pyplot as plt\n",
    "import numpy as np\n",
    "%matplotlib inline\n",
    "from scipy.stats import multivariate_normal\n",
    "from scipy.interpolate import InterpolatedUnivariateSpline\n",
    "from scipy.special import logsumexp\n",
    "from scipy.ndimage import gaussian_filter\n",
    "import pystan\n",
    "\n",
    "import gala.coordinates as gc\n",
    "import gala.dynamics as gd\n",
    "import gala.potential as gp\n",
    "from gala.mpl_style import hesperia\n",
    "from gala.units import galactic\n",
    "from pyia import GaiaData\n",
    "\n",
    "from coordinates import pal5_lead_frame, pal5_trail_frame, pal5_c"
   ]
  },
  {
   "cell_type": "code",
   "execution_count": 2,
   "metadata": {
    "scrolled": true
   },
   "outputs": [
    {
     "name": "stderr",
     "output_type": "stream",
     "text": [
      "INFO:pystan:COMPILING THE C++ CODE FOR MODEL anon_model_1a979dfe246e700401dd7cdb7eec2520 NOW.\n"
     ]
    },
    {
     "ename": "CompileError",
     "evalue": "command 'gcc' failed with exit status 1",
     "output_type": "error",
     "traceback": [
      "\u001b[0;31m---------------------------------------------------------------------------\u001b[0m",
      "\u001b[0;31mDistutilsExecError\u001b[0m                        Traceback (most recent call last)",
      "\u001b[0;32m/anaconda3/lib/python3.6/distutils/unixccompiler.py\u001b[0m in \u001b[0;36m_compile\u001b[0;34m(self, obj, src, ext, cc_args, extra_postargs, pp_opts)\u001b[0m\n\u001b[1;32m    117\u001b[0m             self.spawn(compiler_so + cc_args + [src, '-o', obj] +\n\u001b[0;32m--> 118\u001b[0;31m                        extra_postargs)\n\u001b[0m\u001b[1;32m    119\u001b[0m         \u001b[0;32mexcept\u001b[0m \u001b[0mDistutilsExecError\u001b[0m \u001b[0;32mas\u001b[0m \u001b[0mmsg\u001b[0m\u001b[0;34m:\u001b[0m\u001b[0;34m\u001b[0m\u001b[0m\n",
      "\u001b[0;32m/anaconda3/lib/python3.6/distutils/ccompiler.py\u001b[0m in \u001b[0;36mspawn\u001b[0;34m(self, cmd)\u001b[0m\n\u001b[1;32m    908\u001b[0m     \u001b[0;32mdef\u001b[0m \u001b[0mspawn\u001b[0m\u001b[0;34m(\u001b[0m\u001b[0mself\u001b[0m\u001b[0;34m,\u001b[0m \u001b[0mcmd\u001b[0m\u001b[0;34m)\u001b[0m\u001b[0;34m:\u001b[0m\u001b[0;34m\u001b[0m\u001b[0m\n\u001b[0;32m--> 909\u001b[0;31m         \u001b[0mspawn\u001b[0m\u001b[0;34m(\u001b[0m\u001b[0mcmd\u001b[0m\u001b[0;34m,\u001b[0m \u001b[0mdry_run\u001b[0m\u001b[0;34m=\u001b[0m\u001b[0mself\u001b[0m\u001b[0;34m.\u001b[0m\u001b[0mdry_run\u001b[0m\u001b[0;34m)\u001b[0m\u001b[0;34m\u001b[0m\u001b[0m\n\u001b[0m\u001b[1;32m    910\u001b[0m \u001b[0;34m\u001b[0m\u001b[0m\n",
      "\u001b[0;32m/anaconda3/lib/python3.6/distutils/spawn.py\u001b[0m in \u001b[0;36mspawn\u001b[0;34m(cmd, search_path, verbose, dry_run)\u001b[0m\n\u001b[1;32m     35\u001b[0m     \u001b[0;32mif\u001b[0m \u001b[0mos\u001b[0m\u001b[0;34m.\u001b[0m\u001b[0mname\u001b[0m \u001b[0;34m==\u001b[0m \u001b[0;34m'posix'\u001b[0m\u001b[0;34m:\u001b[0m\u001b[0;34m\u001b[0m\u001b[0m\n\u001b[0;32m---> 36\u001b[0;31m         \u001b[0m_spawn_posix\u001b[0m\u001b[0;34m(\u001b[0m\u001b[0mcmd\u001b[0m\u001b[0;34m,\u001b[0m \u001b[0msearch_path\u001b[0m\u001b[0;34m,\u001b[0m \u001b[0mdry_run\u001b[0m\u001b[0;34m=\u001b[0m\u001b[0mdry_run\u001b[0m\u001b[0;34m)\u001b[0m\u001b[0;34m\u001b[0m\u001b[0m\n\u001b[0m\u001b[1;32m     37\u001b[0m     \u001b[0;32melif\u001b[0m \u001b[0mos\u001b[0m\u001b[0;34m.\u001b[0m\u001b[0mname\u001b[0m \u001b[0;34m==\u001b[0m \u001b[0;34m'nt'\u001b[0m\u001b[0;34m:\u001b[0m\u001b[0;34m\u001b[0m\u001b[0m\n",
      "\u001b[0;32m/anaconda3/lib/python3.6/distutils/spawn.py\u001b[0m in \u001b[0;36m_spawn_posix\u001b[0;34m(cmd, search_path, verbose, dry_run)\u001b[0m\n\u001b[1;32m    158\u001b[0m                           \u001b[0;34m\"command %r failed with exit status %d\"\u001b[0m\u001b[0;34m\u001b[0m\u001b[0m\n\u001b[0;32m--> 159\u001b[0;31m                           % (cmd, exit_status))\n\u001b[0m\u001b[1;32m    160\u001b[0m             \u001b[0;32melif\u001b[0m \u001b[0mos\u001b[0m\u001b[0;34m.\u001b[0m\u001b[0mWIFSTOPPED\u001b[0m\u001b[0;34m(\u001b[0m\u001b[0mstatus\u001b[0m\u001b[0;34m)\u001b[0m\u001b[0;34m:\u001b[0m\u001b[0;34m\u001b[0m\u001b[0m\n",
      "\u001b[0;31mDistutilsExecError\u001b[0m: command 'gcc' failed with exit status 1",
      "\nDuring handling of the above exception, another exception occurred:\n",
      "\u001b[0;31mCompileError\u001b[0m                              Traceback (most recent call last)",
      "\u001b[0;32m<ipython-input-2-8455c783279c>\u001b[0m in \u001b[0;36m<module>\u001b[0;34m()\u001b[0m\n\u001b[0;32m----> 1\u001b[0;31m \u001b[0msm\u001b[0m \u001b[0;34m=\u001b[0m \u001b[0mpystan\u001b[0m\u001b[0;34m.\u001b[0m\u001b[0mStanModel\u001b[0m\u001b[0;34m(\u001b[0m\u001b[0;34m'../stan/binned_model_stream_only.stan'\u001b[0m\u001b[0;34m)\u001b[0m\u001b[0;34m\u001b[0m\u001b[0m\n\u001b[0m",
      "\u001b[0;32m/anaconda3/lib/python3.6/site-packages/pystan/model.py\u001b[0m in \u001b[0;36m__init__\u001b[0;34m(self, file, charset, model_name, model_code, stanc_ret, include_paths, boost_lib, eigen_lib, verbose, obfuscate_model_name, extra_compile_args)\u001b[0m\n\u001b[1;32m    348\u001b[0m \u001b[0;34m\u001b[0m\u001b[0m\n\u001b[1;32m    349\u001b[0m         \u001b[0;32mtry\u001b[0m\u001b[0;34m:\u001b[0m\u001b[0;34m\u001b[0m\u001b[0m\n\u001b[0;32m--> 350\u001b[0;31m             \u001b[0mbuild_extension\u001b[0m\u001b[0;34m.\u001b[0m\u001b[0mrun\u001b[0m\u001b[0;34m(\u001b[0m\u001b[0;34m)\u001b[0m\u001b[0;34m\u001b[0m\u001b[0m\n\u001b[0m\u001b[1;32m    351\u001b[0m         \u001b[0;32mfinally\u001b[0m\u001b[0;34m:\u001b[0m\u001b[0;34m\u001b[0m\u001b[0m\n\u001b[1;32m    352\u001b[0m             \u001b[0;32mif\u001b[0m \u001b[0mredirect_stderr\u001b[0m\u001b[0;34m:\u001b[0m\u001b[0;34m\u001b[0m\u001b[0m\n",
      "\u001b[0;32m/anaconda3/lib/python3.6/distutils/command/build_ext.py\u001b[0m in \u001b[0;36mrun\u001b[0;34m(self)\u001b[0m\n\u001b[1;32m    337\u001b[0m \u001b[0;34m\u001b[0m\u001b[0m\n\u001b[1;32m    338\u001b[0m         \u001b[0;31m# Now actually compile and link everything.\u001b[0m\u001b[0;34m\u001b[0m\u001b[0;34m\u001b[0m\u001b[0m\n\u001b[0;32m--> 339\u001b[0;31m         \u001b[0mself\u001b[0m\u001b[0;34m.\u001b[0m\u001b[0mbuild_extensions\u001b[0m\u001b[0;34m(\u001b[0m\u001b[0;34m)\u001b[0m\u001b[0;34m\u001b[0m\u001b[0m\n\u001b[0m\u001b[1;32m    340\u001b[0m \u001b[0;34m\u001b[0m\u001b[0m\n\u001b[1;32m    341\u001b[0m     \u001b[0;32mdef\u001b[0m \u001b[0mcheck_extensions_list\u001b[0m\u001b[0;34m(\u001b[0m\u001b[0mself\u001b[0m\u001b[0;34m,\u001b[0m \u001b[0mextensions\u001b[0m\u001b[0;34m)\u001b[0m\u001b[0;34m:\u001b[0m\u001b[0;34m\u001b[0m\u001b[0m\n",
      "\u001b[0;32m/anaconda3/lib/python3.6/distutils/command/build_ext.py\u001b[0m in \u001b[0;36mbuild_extensions\u001b[0;34m(self)\u001b[0m\n\u001b[1;32m    446\u001b[0m             \u001b[0mself\u001b[0m\u001b[0;34m.\u001b[0m\u001b[0m_build_extensions_parallel\u001b[0m\u001b[0;34m(\u001b[0m\u001b[0;34m)\u001b[0m\u001b[0;34m\u001b[0m\u001b[0m\n\u001b[1;32m    447\u001b[0m         \u001b[0;32melse\u001b[0m\u001b[0;34m:\u001b[0m\u001b[0;34m\u001b[0m\u001b[0m\n\u001b[0;32m--> 448\u001b[0;31m             \u001b[0mself\u001b[0m\u001b[0;34m.\u001b[0m\u001b[0m_build_extensions_serial\u001b[0m\u001b[0;34m(\u001b[0m\u001b[0;34m)\u001b[0m\u001b[0;34m\u001b[0m\u001b[0m\n\u001b[0m\u001b[1;32m    449\u001b[0m \u001b[0;34m\u001b[0m\u001b[0m\n\u001b[1;32m    450\u001b[0m     \u001b[0;32mdef\u001b[0m \u001b[0m_build_extensions_parallel\u001b[0m\u001b[0;34m(\u001b[0m\u001b[0mself\u001b[0m\u001b[0;34m)\u001b[0m\u001b[0;34m:\u001b[0m\u001b[0;34m\u001b[0m\u001b[0m\n",
      "\u001b[0;32m/anaconda3/lib/python3.6/distutils/command/build_ext.py\u001b[0m in \u001b[0;36m_build_extensions_serial\u001b[0;34m(self)\u001b[0m\n\u001b[1;32m    471\u001b[0m         \u001b[0;32mfor\u001b[0m \u001b[0mext\u001b[0m \u001b[0;32min\u001b[0m \u001b[0mself\u001b[0m\u001b[0;34m.\u001b[0m\u001b[0mextensions\u001b[0m\u001b[0;34m:\u001b[0m\u001b[0;34m\u001b[0m\u001b[0m\n\u001b[1;32m    472\u001b[0m             \u001b[0;32mwith\u001b[0m \u001b[0mself\u001b[0m\u001b[0;34m.\u001b[0m\u001b[0m_filter_build_errors\u001b[0m\u001b[0;34m(\u001b[0m\u001b[0mext\u001b[0m\u001b[0;34m)\u001b[0m\u001b[0;34m:\u001b[0m\u001b[0;34m\u001b[0m\u001b[0m\n\u001b[0;32m--> 473\u001b[0;31m                 \u001b[0mself\u001b[0m\u001b[0;34m.\u001b[0m\u001b[0mbuild_extension\u001b[0m\u001b[0;34m(\u001b[0m\u001b[0mext\u001b[0m\u001b[0;34m)\u001b[0m\u001b[0;34m\u001b[0m\u001b[0m\n\u001b[0m\u001b[1;32m    474\u001b[0m \u001b[0;34m\u001b[0m\u001b[0m\n\u001b[1;32m    475\u001b[0m     \u001b[0;34m@\u001b[0m\u001b[0mcontextlib\u001b[0m\u001b[0;34m.\u001b[0m\u001b[0mcontextmanager\u001b[0m\u001b[0;34m\u001b[0m\u001b[0m\n",
      "\u001b[0;32m/anaconda3/lib/python3.6/distutils/command/build_ext.py\u001b[0m in \u001b[0;36mbuild_extension\u001b[0;34m(self, ext)\u001b[0m\n\u001b[1;32m    531\u001b[0m                                          \u001b[0mdebug\u001b[0m\u001b[0;34m=\u001b[0m\u001b[0mself\u001b[0m\u001b[0;34m.\u001b[0m\u001b[0mdebug\u001b[0m\u001b[0;34m,\u001b[0m\u001b[0;34m\u001b[0m\u001b[0m\n\u001b[1;32m    532\u001b[0m                                          \u001b[0mextra_postargs\u001b[0m\u001b[0;34m=\u001b[0m\u001b[0mextra_args\u001b[0m\u001b[0;34m,\u001b[0m\u001b[0;34m\u001b[0m\u001b[0m\n\u001b[0;32m--> 533\u001b[0;31m                                          depends=ext.depends)\n\u001b[0m\u001b[1;32m    534\u001b[0m \u001b[0;34m\u001b[0m\u001b[0m\n\u001b[1;32m    535\u001b[0m         \u001b[0;31m# XXX outdated variable, kept here in case third-part code\u001b[0m\u001b[0;34m\u001b[0m\u001b[0;34m\u001b[0m\u001b[0m\n",
      "\u001b[0;32m/anaconda3/lib/python3.6/distutils/ccompiler.py\u001b[0m in \u001b[0;36mcompile\u001b[0;34m(self, sources, output_dir, macros, include_dirs, debug, extra_preargs, extra_postargs, depends)\u001b[0m\n\u001b[1;32m    572\u001b[0m             \u001b[0;32mexcept\u001b[0m \u001b[0mKeyError\u001b[0m\u001b[0;34m:\u001b[0m\u001b[0;34m\u001b[0m\u001b[0m\n\u001b[1;32m    573\u001b[0m                 \u001b[0;32mcontinue\u001b[0m\u001b[0;34m\u001b[0m\u001b[0m\n\u001b[0;32m--> 574\u001b[0;31m             \u001b[0mself\u001b[0m\u001b[0;34m.\u001b[0m\u001b[0m_compile\u001b[0m\u001b[0;34m(\u001b[0m\u001b[0mobj\u001b[0m\u001b[0;34m,\u001b[0m \u001b[0msrc\u001b[0m\u001b[0;34m,\u001b[0m \u001b[0mext\u001b[0m\u001b[0;34m,\u001b[0m \u001b[0mcc_args\u001b[0m\u001b[0;34m,\u001b[0m \u001b[0mextra_postargs\u001b[0m\u001b[0;34m,\u001b[0m \u001b[0mpp_opts\u001b[0m\u001b[0;34m)\u001b[0m\u001b[0;34m\u001b[0m\u001b[0m\n\u001b[0m\u001b[1;32m    575\u001b[0m \u001b[0;34m\u001b[0m\u001b[0m\n\u001b[1;32m    576\u001b[0m         \u001b[0;31m# Return *all* object filenames, not just the ones we just built.\u001b[0m\u001b[0;34m\u001b[0m\u001b[0;34m\u001b[0m\u001b[0m\n",
      "\u001b[0;32m/anaconda3/lib/python3.6/distutils/unixccompiler.py\u001b[0m in \u001b[0;36m_compile\u001b[0;34m(self, obj, src, ext, cc_args, extra_postargs, pp_opts)\u001b[0m\n\u001b[1;32m    118\u001b[0m                        extra_postargs)\n\u001b[1;32m    119\u001b[0m         \u001b[0;32mexcept\u001b[0m \u001b[0mDistutilsExecError\u001b[0m \u001b[0;32mas\u001b[0m \u001b[0mmsg\u001b[0m\u001b[0;34m:\u001b[0m\u001b[0;34m\u001b[0m\u001b[0m\n\u001b[0;32m--> 120\u001b[0;31m             \u001b[0;32mraise\u001b[0m \u001b[0mCompileError\u001b[0m\u001b[0;34m(\u001b[0m\u001b[0mmsg\u001b[0m\u001b[0;34m)\u001b[0m\u001b[0;34m\u001b[0m\u001b[0m\n\u001b[0m\u001b[1;32m    121\u001b[0m \u001b[0;34m\u001b[0m\u001b[0m\n\u001b[1;32m    122\u001b[0m     def create_static_lib(self, objects, output_libname,\n",
      "\u001b[0;31mCompileError\u001b[0m: command 'gcc' failed with exit status 1"
     ]
    }
   ],
   "source": [
    "sm = pystan.StanModel('../stan/binned_model_stream_only.stan')"
   ]
  },
  {
   "cell_type": "code",
   "execution_count": null,
   "metadata": {},
   "outputs": [],
   "source": [
    "mask_zlim = 23.7\n",
    "mask_pts = np.load('../data/concave_hull_z{:.1f}.npz'.format(mask_zlim))['pts']\n",
    "path_concavehull = mpl.path.Path(mask_pts)"
   ]
  },
  {
   "cell_type": "code",
   "execution_count": null,
   "metadata": {},
   "outputs": [],
   "source": [
    "phi1_lim = (mask_pts[:, 0].min(), mask_pts[:, 0].max())\n",
    "phi2_lim = (mask_pts[:, 1].min(), mask_pts[:, 1].max())"
   ]
  },
  {
   "cell_type": "markdown",
   "metadata": {},
   "source": [
    "TODO: \n",
    "- load simulation data\n",
    "- convert to phi1/phi2 coordinates, use .transform_to(gc.Pal5)\n",
    "- filter out star particles in foreground/background\n",
    "- Produce variables `phi1`, `phi2` with the sim particle coordinates"
   ]
  },
  {
   "cell_type": "code",
   "execution_count": 4,
   "metadata": {},
   "outputs": [],
   "source": [
    "# stuff added by SP\n",
    "from coordinates import (pal5_c, galcen_frame,\n",
    "                         pal5_lead_frame, pal5_trail_frame)\n",
    "\n",
    "bar5e9 = gd.PhaseSpacePosition.from_hdf5('BarModels_RL1_Mb5e+09_Om38.0.hdf5')\n",
    "sim_c_bar5e9 = bar5e9.to_coord_frame(gc.Pal5PriceWhelan18, galactocentric_frame=galcen_frame)\n",
    "phi1 = sim_c_bar5e9.phi1\n",
    "phi2 = sim_c_bar5e9.phi2"
   ]
  },
  {
   "cell_type": "code",
   "execution_count": null,
   "metadata": {},
   "outputs": [],
   "source": [
    "ridge = Table.read('../data/pal5_ridgeline.csv')\n",
    "ridge_c = coord.SkyCoord(ridge['ra'], ridge['dec'], unit=u.deg).transform_to(gc.Pal5)\n",
    "ridge_phi1 = ridge_c.phi1.degree\n",
    "ridge_phi2 = ridge_c.phi2.degree\n",
    "\n",
    "# HACK:\n",
    "ridge_phi1 = np.concatenate((ridge_phi1[16:], [-18, -0.23, 10, 0.23, 0.01, -0.01]))\n",
    "ridge_phi2 = np.concatenate((ridge_phi2[16:], [1.8, -0.23, 3.5, 0.23, 0.22, -0.22]))"
   ]
  },
  {
   "cell_type": "code",
   "execution_count": null,
   "metadata": {},
   "outputs": [],
   "source": [
    "fig, axes = plt.subplots(2, 1, figsize=(15, 10), sharex=True, sharey=True)\n",
    "\n",
    "for ax in axes:\n",
    "    ax.plot(phi1, phi2, marker='o', ms=1., ls='none', color='k', alpha=1)\n",
    "    ax.set_aspect('equal')\n",
    "    ax.set_xlim(-20, 15)\n",
    "    ax.set_ylim(-4, 6)\n",
    "\n",
    "ax.scatter(ridge_phi1, ridge_phi2, zorder=100, color='tab:orange')\n",
    "\n",
    "# ---\n",
    "\n",
    "fig, axes = plt.subplots(1, 2, figsize=(10, 5), sharex=True, sharey=True)\n",
    "\n",
    "for ax in axes:\n",
    "    ax.plot(phi1, phi2, marker='o', ms=1., ls='none', color='k', alpha=1)\n",
    "    ax.set_aspect('equal')\n",
    "    ax.set_xlim(-1.5, 1.5)\n",
    "    ax.set_ylim(-1.5, 1.5)\n",
    "\n",
    "ax.scatter(ridge_phi1, ridge_phi2, zorder=100, color='tab:orange')"
   ]
  },
  {
   "cell_type": "code",
   "execution_count": null,
   "metadata": {},
   "outputs": [],
   "source": [
    "xx = ridge_phi1[ridge_phi1 > 0]\n",
    "yy = ridge_phi2[ridge_phi1 > 0]\n",
    "l_poly = InterpolatedUnivariateSpline(xx[xx.argsort()], yy[xx.argsort()], k=1)\n",
    "\n",
    "xx = ridge_phi1[ridge_phi1 < 0]\n",
    "yy = ridge_phi2[ridge_phi1 < 0]\n",
    "t_poly = InterpolatedUnivariateSpline(xx[xx.argsort()], yy[xx.argsort()], k=1)\n",
    "\n",
    "dpix = 0.1\n",
    "# dpix = 0.05\n",
    "xbins = np.arange(phi1_lim[0], phi1_lim[1]+1e-3, dpix)\n",
    "ybins = np.arange(phi2_lim[0], phi2_lim[1]+1e-3, dpix)\n",
    "\n",
    "h_phi1 = 1\n",
    "# h_phi1 = 0.5\n",
    "l_nodes = np.concatenate(([0.01], np.arange(0.2, 9+1e-3, h_phi1)))\n",
    "t_nodes = np.concatenate((np.arange(-17, 0.2+1e-3, h_phi1), [-0.01]))\n",
    "\n",
    "nodes = np.concatenate((t_nodes, l_nodes))\n",
    "phi2_nodes = np.concatenate((t_poly(t_nodes), l_poly(l_nodes)))"
   ]
  },
  {
   "cell_type": "code",
   "execution_count": null,
   "metadata": {},
   "outputs": [],
   "source": [
    "fig, ax = plt.subplots(1, 1, figsize=(15, 5))\n",
    "\n",
    "ax.plot(phi1, phi2, marker='o', ms=1, ls='none', color='k', alpha=1)\n",
    "ax.scatter(nodes, phi2_nodes, zorder=100, color='tab:orange')\n",
    "ax.set_xlim(-20, 14)\n",
    "ax.set_ylim(-4, 6)"
   ]
  },
  {
   "cell_type": "code",
   "execution_count": null,
   "metadata": {},
   "outputs": [],
   "source": [
    "def make_data(H, log_S, xbins, ybins, phi1_nodes, phi2_nodes):\n",
    "    xe_c = 0.5 * (xbins[:-1] + xbins[1:])\n",
    "    ye_c = 0.5 * (ybins[:-1] + ybins[1:])\n",
    "    xx, yy = np.stack(list(map(np.ravel, np.meshgrid(xe_c, ye_c))))\n",
    "    \n",
    "    data = {}\n",
    "    data['n_pix'] = H.size\n",
    "    data['hh'] = H.T.ravel().astype(np.int32)\n",
    "    data['log_S'] = log_S.T.ravel()\n",
    "    data['x'] = xx\n",
    "    data['y'] = yy\n",
    "\n",
    "    data['n_nodes'] = len(phi1_nodes)\n",
    "    data['phi1_nodes'] = phi1_nodes\n",
    "    data['phi2_nodes_init'] = phi2_nodes\n",
    "    data['h_nodes'] = np.full_like(phi1_nodes, 1. * h_phi1)\n",
    "\n",
    "    data['bg_nodes'] = np.arange(xbins.min()-5, xbins.max()+5+1e-3, 5)\n",
    "    data['n_bg_nodes'] = len(data['bg_nodes'])\n",
    "    \n",
    "    return data, xbins, ybins"
   ]
  },
  {
   "cell_type": "code",
   "execution_count": null,
   "metadata": {},
   "outputs": [],
   "source": [
    "cl_mask = gc.Pal5(phi1=phi1*u.deg, phi2=phi2*u.deg).separation(pal5_c) < 0.25*u.deg\n",
    "_phi1 = phi1.copy()\n",
    "_phi1[cl_mask] = np.nan\n",
    "H, xbins, ybins = np.histogram2d(_phi1, phi2, \n",
    "                                 bins=(xbins, ybins))\n",
    "shape = H.T.shape"
   ]
  },
  {
   "cell_type": "code",
   "execution_count": null,
   "metadata": {},
   "outputs": [],
   "source": [
    "xcen = 0.5*(xbins[1:] + xbins[:-1])\n",
    "ycen = 0.5*(ybins[1:] + ybins[:-1])\n",
    "xx, yy = np.meshgrid(xcen, ycen)\n",
    "grid_points = np.array([xx.ravel(), yy.ravel()]).T"
   ]
  },
  {
   "cell_type": "code",
   "execution_count": null,
   "metadata": {},
   "outputs": [],
   "source": [
    "xlim = (data['x'].min(), data['x'].max())\n",
    "ylim = (data['y'].min(), data['y'].max())"
   ]
  },
  {
   "cell_type": "code",
   "execution_count": null,
   "metadata": {},
   "outputs": [],
   "source": [
    "nchains = 1\n",
    "init_dict = {}\n",
    "init_dict['d_phi2_nodes'] = np.zeros(data['n_nodes'])\n",
    "init_dict['log_w_nodes'] = np.full(data['n_nodes'], np.log(0.3))\n",
    "init_dict['log_a_nodes'] = np.full(data['n_nodes'], np.log(20))\n",
    "\n",
    "inits = [init_dict]\n",
    "\n",
    "niter = 2048"
   ]
  },
  {
   "cell_type": "code",
   "execution_count": null,
   "metadata": {},
   "outputs": [],
   "source": [
    "fit = sm.optimizing(data=data, init=inits[0], iter=niter,\n",
    "                    verbose=True)"
   ]
  },
  {
   "cell_type": "code",
   "execution_count": null,
   "metadata": {},
   "outputs": [],
   "source": [
    "fig, axes = plt.subplots(4, 1, figsize=(12, 12), \n",
    "                         sharex=True, sharey=True)\n",
    "\n",
    "ax = axes[0]\n",
    "ax.pcolormesh(xbins, ybins, data['hh'].reshape(shape),\n",
    "              cmap='Greys')\n",
    "ax.set_ylabel('data')\n",
    "\n",
    "ax = axes[1]\n",
    "ax.pcolormesh(xbins, ybins, np.exp(fit['xmod'].reshape(shape)),\n",
    "              cmap='Greys')#, vmin=1e-4, vmax=3)\n",
    "ax.set_ylabel('full model')\n",
    "\n",
    "ax = axes[2]\n",
    "ax.pcolormesh(xbins, ybins, np.exp(fit['log_gd1_int'].reshape(shape)),\n",
    "              cmap='Greys', vmin=1e-4, vmax=25)\n",
    "ax.set_ylabel('stream only')\n",
    "\n",
    "ax = axes[3]\n",
    "model = np.exp(fit['xmod'].reshape(shape))\n",
    "resid = data['hh'].reshape(shape) - model\n",
    "im = ax.pcolormesh(xbins, ybins, resid,\n",
    "                   cmap='RdBu', vmin=-20, vmax=20)\n",
    "# fig.colorbar(im)\n",
    "ax.set_ylabel('residuals')\n",
    "\n",
    "ax.set_xlabel(r'$\\phi_1$ [deg]')\n",
    "ax.set_ylabel(r'$\\phi_2$ [deg]')\n",
    "\n",
    "for ax in axes:\n",
    "    ax.set_aspect('equal')\n",
    "    \n",
    "fig.tight_layout()\n",
    "# fig.savefig('../plots/{}-2d-fit.png'.format(name), dpi=250)"
   ]
  },
  {
   "cell_type": "markdown",
   "metadata": {},
   "source": [
    "# Implement the density model in Python"
   ]
  },
  {
   "cell_type": "code",
   "execution_count": null,
   "metadata": {},
   "outputs": [],
   "source": [
    "def ln_normal_2d(x, mu, cov):\n",
    "    x = np.array(x)\n",
    "    mu = np.array(mu)    \n",
    "    _, logdet = np.linalg.slogdet(cov)\n",
    "    Cinv = np.linalg.inv(cov)\n",
    "    quad_form = (x - mu).T.dot(Cinv).dot(x - mu)\n",
    "    return -0.5 * (logdet + quad_form + 2 * np.log(2*np.pi))"
   ]
  },
  {
   "cell_type": "code",
   "execution_count": null,
   "metadata": {},
   "outputs": [],
   "source": [
    "def evaluate_stream_model(fit, data, x, y):\n",
    "    phi1 = data['phi1_nodes']\n",
    "    phi2 = fit['phi2_nodes']\n",
    "    log_amp = fit['log_a_nodes']\n",
    "    w = np.exp(fit['log_w_nodes'])\n",
    "    h = data['h_nodes']\n",
    "    R = fit['R']\n",
    "    C = fit['C']\n",
    "    \n",
    "    x = np.atleast_1d(x)\n",
    "    y = np.atleast_1d(y)\n",
    "    \n",
    "    ln_val = np.zeros((data['n_nodes'], len(x)))\n",
    "    for i in range(data['n_nodes']):\n",
    "        ln_val[i] = [log_amp[i] + ln_normal_2d([x[n], y[n]], \n",
    "                                                mu=[phi1[i], phi2[i]], cov=C[i])\n",
    "                     for n in range(len(x))]\n",
    "    \n",
    "    return logsumexp(ln_val, axis=0)"
   ]
  },
  {
   "cell_type": "code",
   "execution_count": null,
   "metadata": {},
   "outputs": [],
   "source": [
    "dense_xbins = np.arange(xbins.min(), xbins.max(), 0.05)\n",
    "dense_ybins = np.arange(ybins.min(), ybins.max(), 0.05)\n",
    "\n",
    "dense_xc = 0.5 * (dense_xbins[:-1] + dense_xbins[1:])\n",
    "dense_yc = 0.5 * (dense_ybins[:-1] + dense_ybins[1:])\n",
    "dense_x, dense_y = map(np.ravel, np.meshgrid(dense_xc, dense_yc))\n",
    "dense_shape = (dense_ybins.size-1, dense_xbins.size-1)"
   ]
  },
  {
   "cell_type": "code",
   "execution_count": null,
   "metadata": {},
   "outputs": [],
   "source": [
    "py_hh = evaluate_stream_model(fit, data, dense_x, dense_y)\n",
    "py_hh = np.exp(py_hh.reshape(dense_shape))"
   ]
  },
  {
   "cell_type": "code",
   "execution_count": null,
   "metadata": {},
   "outputs": [],
   "source": [
    "fig, ax = plt.subplots(1, 1, figsize=(10, 4), \n",
    "                         sharex=True, sharey=True)\n",
    "\n",
    "ax.pcolormesh(dense_xbins, dense_ybins, py_hh, #np.arcsinh(py_hh / 5),\n",
    "              cmap='Greys')\n",
    "\n",
    "ax.set_aspect('equal')\n",
    "    \n",
    "fig.tight_layout()"
   ]
  },
  {
   "cell_type": "code",
   "execution_count": null,
   "metadata": {
    "scrolled": false
   },
   "outputs": [],
   "source": [
    "phi1_bins = np.arange(xbins.min(), xbins.max()+1e-3, 0.5)\n",
    "phi2_bins = dense_yc\n",
    "phi1_bins_c = 0.5 * (phi1_bins[:-1] + phi1_bins[1:])\n",
    "\n",
    "widths = []\n",
    "for p1, p2 in zip(phi1_bins[:-1], phi1_bins[1:]):\n",
    "    phi1_mask = (dense_xc > p1) & (dense_xc <= p2)\n",
    "    phi2_vals = py_hh[:, phi1_mask].sum(axis=1) / phi1_mask.sum()\n",
    "    widths.append(1 / (np.sqrt(2*np.pi) * phi2_vals.max()))"
   ]
  },
  {
   "cell_type": "code",
   "execution_count": null,
   "metadata": {},
   "outputs": [],
   "source": [
    "fig = plt.figure(figsize=(12, 4))\n",
    "plt.plot(phi1_bins_c, widths)\n",
    "plt.xlim(-15, 7.5)\n",
    "plt.ylim(0., 0.4)\n",
    "plt.xlabel(r'$\\phi_1$ [deg]')\n",
    "plt.ylabel('stream width, $w$ [deg]')\n",
    "fig.set_facecolor('w')\n",
    "fig.tight_layout()\n",
    "fig.savefig('../plots/{}-stream-width.png'.format(name), dpi=250)"
   ]
  },
  {
   "cell_type": "code",
   "execution_count": null,
   "metadata": {},
   "outputs": [],
   "source": []
  }
 ],
 "metadata": {
  "kernelspec": {
   "display_name": "Python 3",
   "language": "python",
   "name": "python3"
  },
  "language_info": {
   "codemirror_mode": {
    "name": "ipython",
    "version": 3
   },
   "file_extension": ".py",
   "mimetype": "text/x-python",
   "name": "python",
   "nbconvert_exporter": "python",
   "pygments_lexer": "ipython3",
   "version": "3.6.5"
  }
 },
 "nbformat": 4,
 "nbformat_minor": 2
}
